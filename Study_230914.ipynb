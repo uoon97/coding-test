{
 "cells": [
  {
   "cell_type": "code",
   "execution_count": 59,
   "metadata": {},
   "outputs": [],
   "source": [
    "# Tree\n",
    "\n",
    "class Node:\n",
    "    def __init__(self, value, left = None, right = None, parent = None):\n",
    "        self.value = value\n",
    "        self.left = left\n",
    "        self.right = right\n",
    "        self.parent = parent\n",
    "\n",
    "# 1 -> 2, 3 / 2 -> 4, 5 / 3 -> 6, 7 / 4 -> 8, 9\n",
    "# node가 node끼리 연결이 되어야 한다...\n",
    "\n",
    "\n",
    "class Tree(object):\n",
    "    def __init__(self):\n",
    "        self.root = None\n",
    "        self.length = 0\n",
    "    \n",
    "    def append(self, value):\n",
    "        curr_leaf = Node(value)\n",
    "\n",
    "        if self.root is None:\n",
    "            self.root = curr_leaf\n",
    "            self.length = 1\n",
    "\n",
    "        else:\n",
    "            # 추가할 노드의 부모 노드로부터 root까지의 경로를 구한다.\n",
    "            route = []\n",
    "            self.length += 1\n",
    "            pos = self.length\n",
    "            while pos > 1:\n",
    "                route.append(pos%2)\n",
    "                pos //= 2\n",
    "            \n",
    "            present = self.root\n",
    "\n",
    "            # self.root부터 시작해 추가할 노드의 부모 노드로 이동하여\n",
    "            # 추가할 노드와 연결한다.\n",
    "            while len(route) > 1:\n",
    "                direction = route.pop()\n",
    "\n",
    "                if direction == 0:\n",
    "                    present = present.left\n",
    "                \n",
    "                else:\n",
    "                    present = present.right\n",
    "\n",
    "            direction = route.pop()\n",
    "\n",
    "            if direction == 0:\n",
    "                present.left = curr_leaf\n",
    "                curr_leaf.parent = present\n",
    "\n",
    "            else:\n",
    "                present.right = curr_leaf\n",
    "                curr_leaf.parent = present\n",
    "\n",
    "            \n",
    "elements = ['A', 'B', 'C', 'D', 'E', 'F', 'G']\n",
    "tree = Tree()\n",
    "for e in elements:\n",
    "    tree.append(e)"
   ]
  },
  {
   "cell_type": "code",
   "execution_count": 76,
   "metadata": {},
   "outputs": [
    {
     "name": "stdout",
     "output_type": "stream",
     "text": [
      "levelorder\n"
     ]
    },
    {
     "data": {
      "text/plain": [
       "['A', 'B', 'C', 'D', 'E', 'F', 'G']"
      ]
     },
     "execution_count": 76,
     "metadata": {},
     "output_type": "execute_result"
    }
   ],
   "source": [
    "from collections import deque\n",
    "\n",
    "def levelorder(tree):\n",
    "    visited = []\n",
    "    if tree.root is None:\n",
    "        return 0\n",
    "    q = deque([tree.root])\n",
    "    while q:\n",
    "        curr_node = q.popleft()\n",
    "        visited.append(curr_node.value)\n",
    "\n",
    "        if curr_node.left:\n",
    "            q.append(curr_node.left)\n",
    "        if curr_node.right:\n",
    "            q.append(curr_node.right)\n",
    "    \n",
    "    return visited\n",
    "\n",
    "levelorder(tree)"
   ]
  },
  {
   "cell_type": "code",
   "execution_count": 74,
   "metadata": {},
   "outputs": [
    {
     "name": "stdout",
     "output_type": "stream",
     "text": [
      "preorder traversal\n",
      "['A', 'B', 'D', 'E', 'C', 'F', 'G']\n",
      "inorder traversal\n",
      "['D', 'B', 'E', 'A', 'F', 'C', 'G']\n",
      "postorder traversal\n",
      "['D', 'E', 'B', 'F', 'G', 'C', 'A']\n"
     ]
    }
   ],
   "source": [
    "#        A\n",
    "#    B       C\n",
    "#  D   E   F   G \n",
    "\n",
    "pre_visited = []\n",
    "\n",
    "def preorder(root):\n",
    "    if root is None:\n",
    "        return\n",
    "    pre_visited.append(root.value)\n",
    "    preorder(root.left)\n",
    "    preorder(root.right)\n",
    "\n",
    "print('preorder traversal')\n",
    "preorder(tree.root)\n",
    "print(pre_visited)\n",
    "\n",
    "in_visited = []\n",
    "\n",
    "def inorder(root):\n",
    "    if root is None:\n",
    "        return\n",
    "    inorder(root.left)\n",
    "    in_visited.append(root.value)\n",
    "    inorder(root.right)\n",
    "\n",
    "print('inorder traversal')\n",
    "inorder(tree.root)\n",
    "print(in_visited)\n",
    "\n",
    "post_visited = []\n",
    "\n",
    "def postorder(root):\n",
    "    if root is None:\n",
    "        return\n",
    "    postorder(root.left)\n",
    "    postorder(root.right)\n",
    "    post_visited.append(root.value)\n",
    "\n",
    "print('postorder traversal')\n",
    "postorder(tree.root)\n",
    "print(post_visited)"
   ]
  }
 ],
 "metadata": {
  "kernelspec": {
   "display_name": "Python 3",
   "language": "python",
   "name": "python3"
  },
  "language_info": {
   "codemirror_mode": {
    "name": "ipython",
    "version": 3
   },
   "file_extension": ".py",
   "mimetype": "text/x-python",
   "name": "python",
   "nbconvert_exporter": "python",
   "pygments_lexer": "ipython3",
   "version": "3.10.6"
  },
  "orig_nbformat": 4
 },
 "nbformat": 4,
 "nbformat_minor": 2
}
