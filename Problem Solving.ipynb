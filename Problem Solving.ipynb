{
 "cells": [
  {
   "attachments": {},
   "cell_type": "markdown",
   "metadata": {},
   "source": [
    "### **Problem Solving**"
   ]
  },
  {
   "attachments": {},
   "cell_type": "markdown",
   "metadata": {},
   "source": [
    "#### **<span style=\"color:IndianRed\">Approach Thinking</span>**"
   ]
  },
  {
   "attachments": {},
   "cell_type": "markdown",
   "metadata": {},
   "source": [
    "0. 시간복잡도 확인:  $ O(n) < 10^{8} $ <br>\n",
    "<br>\n",
    "1. 직관적 사고(완전탐색 or 그리디) <br>\n",
    "\n",
    "    - queue(->BFS), stack(->DFS)\n",
    "    \n",
    "    - graph(인접리스트, 암시적 그래프 -> BFS, DFS(인접 노드, 인접 좌표)) <br>\n",
    "<br>\n",
    "2. 자료구조와 알고리즘 활용 <br>\n",
    "\n",
    "    - hash(dict), list\n",
    "    - linked list(class -> 구현)\n",
    "    - tree(<- level-order: BFS, pre,in,post-order: DFS with recursion)\n",
    "    - heap(max, min)\n",
    "    \n",
    "    - sort(-> Binary Search(mid, target -> start = mid + 1 or end = mid - 1), Two-Pointer(for two-sum: 정렬, 크면 start + 1, 작으면 end - 1))\n",
    "    - shortest path(-> Dijkstra, Floyd-Warshall: for 각 노드 최소비용 연결 -> 3중 for loop, 경유 노드)\n",
    "    - Topological sort(for 선후관계 작업 순서 결정 -> 진입차수 with BFS: 진입차수 0인 node)\n",
    "    - kruskal algorithm(->최소 비용 그래프 연결: 정렬, 사이클 여부 with union-find) <br>\n",
    "<br>\n",
    "3. 다이나믹 프로그래밍 활용 <br>\n",
    "\n",
    "    - e.g. 최대, 최소, 길의 수\n",
    "    - Memoization with Hash(dict)\n",
    "    - 점화식, 종료조건 설정\n",
    "    \n",
    "    - Top-down: with Recursion(memo[n] = max(memo[n], dp(n-i) + value[n-i]) if n-i > 0)\n",
    "    - Bottom-up: with for loop(memo[n] = max(memo[n], memo[n-i] + value[n-i]) if n-i > 0)"
   ]
  },
  {
   "attachments": {},
   "cell_type": "markdown",
   "metadata": {},
   "source": [
    "#### **Practice**"
   ]
  },
  {
   "cell_type": "code",
   "execution_count": null,
   "metadata": {},
   "outputs": [],
   "source": [
    "# two sum\n",
    "nums = [4, 1, 9, 7, 5, 3, 16]\n",
    "target = 14\n",
    "\n",
    "# hash\n",
    "def solution1():\n",
    "\n",
    "    # hash -> 탐색에서 시간이 소요되는 것이라면.. O(1)로 바꿔주면 된다\n",
    "    # 이 때의 in function은 O(1) (list에서는 O(n)이지만 dict에서는 O(1)이다.)\n",
    "\n",
    "    new_nums = [i for i in nums if i < target and i != target/2] # O(n)\n",
    "    dicts = {i: True for i in new_nums} # O(n)\n",
    "    needed_nums = [target-i for i in new_nums] # O(n)\n",
    "\n",
    "    # O(n)\n",
    "    for i in needed_nums:\n",
    "       if i in dicts : # O(1)\n",
    "            return True\n",
    "    return False\n",
    "\n",
    "\n",
    "# two pointer\n",
    "def solution2():\n",
    "\n",
    "    new_nums = sorted(nums)\n",
    "    s, l = 0, len(new_nums)-1\n",
    "\n",
    "    while s < l:\n",
    "        sums = new_nums[s] + new_nums[l]\n",
    "\n",
    "        if sums > target:\n",
    "            l-= 1\n",
    "\n",
    "        if sums < target:\n",
    "            s += 1\n",
    "        \n",
    "        if sums == target:\n",
    "            return True\n",
    "    \n",
    "    return False\n",
    "    "
   ]
  },
  {
   "cell_type": "code",
   "execution_count": null,
   "metadata": {},
   "outputs": [],
   "source": [
    "# Design Browser History(Linked List 활용)\n",
    "# 1) Node를 만들고 2) self.head를 설정하고, 3) 상황에 맞춰 함수를 만들자.\n",
    "\n",
    "class Node:\n",
    "    def __init__(self, url, next = None, prev = None):\n",
    "        self.url = url\n",
    "        self.next = next\n",
    "        self.prev = prev\n",
    "\n",
    "class BrowserHistory(object):\n",
    "    def __init__(self, url):\n",
    "        new_node = Node(url)\n",
    "        self.current = new_node\n",
    "    \n",
    "    def visit(self, url):\n",
    "        self.current.next = Node(url, prev = self.current)\n",
    "        self.current = self.current.next\n",
    "        return None\n",
    "\n",
    "    def back(self, steps):\n",
    "        while steps > 0 and self.current.prev != None:\n",
    "            steps -= 1\n",
    "            self.current = self.current.prev\n",
    "        \n",
    "        return self.current.url\n",
    "\n",
    "    def forward(self, steps):\n",
    "        while steps > 0 and self.current.next != None:\n",
    "            steps -= 1\n",
    "            self.current = self.current.next\n",
    "\n",
    "        return self.current.url"
   ]
  },
  {
   "cell_type": "code",
   "execution_count": null,
   "metadata": {},
   "outputs": [
    {
     "name": "stdout",
     "output_type": "stream",
     "text": [
      "leetcode.com\n",
      "google.com\n",
      "facebook.com\n",
      "youtube.com\n",
      "linkedin.com\n"
     ]
    },
    {
     "data": {
      "text/plain": [
       "'leetcode.com'"
      ]
     },
     "metadata": {},
     "output_type": "display_data"
    }
   ],
   "source": [
    "browserHistory = BrowserHistory(\"leetcode.com\")\n",
    "print(browserHistory.current.url)\n",
    "\n",
    "browserHistory.visit(\"google.com\")\n",
    "print(browserHistory.current.url)\n",
    "\n",
    "browserHistory.visit(\"facebook.com\")\n",
    "print(browserHistory.current.url)\n",
    "\n",
    "browserHistory.visit(\"youtube.com\")\n",
    "print(browserHistory.current.url)\n",
    "\n",
    "browserHistory.back(1)\n",
    "browserHistory.back(1)\n",
    "browserHistory.forward(1)\n",
    "\n",
    "browserHistory.visit(\"linkedin.com\")\n",
    "print(browserHistory.current.url)\n",
    "\n",
    "browserHistory.forward(2)\n",
    "browserHistory.back(2)\n",
    "browserHistory.back(7)"
   ]
  },
  {
   "cell_type": "code",
   "execution_count": null,
   "metadata": {},
   "outputs": [
    {
     "data": {
      "text/plain": [
       "True"
      ]
     },
     "metadata": {},
     "output_type": "display_data"
    }
   ],
   "source": [
    "# valid parentheses\n",
    "# **가장 최근 것을 비교를 해야하니까 LIFO : Stack을 사용한다.**\n",
    "# stack에 담고 빼는 과정에도 조건을 부여한다.\n",
    "from collections import deque\n",
    "\n",
    "input = \"{()[]}\"\n",
    "\n",
    "def solution():\n",
    "    front = ['{', '[', '(']\n",
    "    back = ['}', ']', ')']\n",
    "    stack = deque()\n",
    "\n",
    "    for e in input:\n",
    "        if e in front:\n",
    "            stack.append(e)\n",
    "\n",
    "        if e in back:\n",
    "            if front.index(stack[-1]) == back.index(e):\n",
    "                stack.pop()\n",
    "        \n",
    "    if len(stack) == 0:\n",
    "        return True\n",
    "    return False\n",
    "\n",
    "solution()\n"
   ]
  },
  {
   "cell_type": "code",
   "execution_count": null,
   "metadata": {},
   "outputs": [
    {
     "data": {
      "text/plain": [
       "[1, 1, 3, 2, 1, 1, 0, 0]"
      ]
     },
     "metadata": {},
     "output_type": "display_data"
    }
   ],
   "source": [
    "# Daily Temeratures\n",
    "from collections import deque\n",
    "# 1 <= input_size <= 10^5\n",
    "# stack을 활용할 때는 append, pop을 모두 사용하여야 한다.\n",
    "# 순서를 유지하면서 담은 정보를 없애야 할 때.. \n",
    "\n",
    "temperatures = [73, 74, 75, 71, 69, 72, 76, 73]\n",
    "\n",
    "def solution():\n",
    "    \n",
    "    days = [0]*len(temperatures)\n",
    "    stack = deque()\n",
    "\n",
    "    for today, today_temp in enumerate(temperatures):\n",
    "\n",
    "        while stack and stack[-1][1] < today_temp:\n",
    "            prev_day = stack.pop()[0]\n",
    "            days[prev_day] = today - prev_day\n",
    "            \n",
    "        stack.append((today, today_temp))\n",
    "\n",
    "    return days\n",
    "                \n",
    "solution()"
   ]
  },
  {
   "cell_type": "code",
   "execution_count": null,
   "metadata": {},
   "outputs": [
    {
     "name": "stdout",
     "output_type": "stream",
     "text": [
      "output: 99999\n",
      "Computation: 299996\n"
     ]
    }
   ],
   "source": [
    "# Longest Consecutive Sequence\n",
    "# 0 <= Input Size <= 10^5 : no more than O(NlogN)\n",
    "# O(n^2)밖에 방법이 없다고 느껴질 때는 Dynamic Programming을 활용해보자.\n",
    "\n",
    "nums = range(1, 100000)\n",
    "\n",
    "dicts = {v: 0 for v in sorted(nums)}\n",
    "\n",
    "max_cnt = 0\n",
    "big_O = 0\n",
    "\n",
    "for i in sorted(nums)[::-1]: # O(n)\n",
    "    big_O += 1\n",
    "    val = i\n",
    "    cnt = 0\n",
    "\n",
    "    while val in dicts: # O(n)\n",
    "        big_O += 1\n",
    "        if dicts[val]:\n",
    "            cnt += dicts[val]\n",
    "            break\n",
    "        val += 1\n",
    "        cnt += 1\n",
    "    \n",
    "    dicts[i] = cnt # DP\n",
    "\n",
    "    max_cnt = max(max_cnt, cnt)\n",
    "\n",
    "# O(n^2)\n",
    "\n",
    "print('output:', max_cnt) \n",
    "print('Computation:', big_O)\n",
    "\n",
    "# 계산량이 가장 많은 최악의 경우에도 O(n)이므로 문제가 발생하지 않는다."
   ]
  },
  {
   "cell_type": "code",
   "execution_count": 62,
   "metadata": {},
   "outputs": [
    {
     "data": {
      "text/plain": [
       "1"
      ]
     },
     "execution_count": 62,
     "metadata": {},
     "output_type": "execute_result"
    }
   ],
   "source": [
    "# Lowest Common Ancestor of a Binary Tree\n",
    "# number of node <= 10^5\n",
    "# Node.value <= 10^9\n",
    "# All of Node.value are unique\n",
    "# p != q\n",
    "\n",
    "# Tree를 구현하는 문제인가, 순회하는 문제인가...\n",
    "\n",
    "nodes = [3, 5, 1, 6, 2, 0, 8, None, None, 7, 4]\n",
    "\n",
    "idx_dict = {}\n",
    "val_dict = {}\n",
    "\n",
    "class Node:\n",
    "    def __init__(self, val, parent = None, left = None, right = None):\n",
    "        self.val = val\n",
    "        self.parent = parent\n",
    "        self.left = left\n",
    "        self.right = right\n",
    "\n",
    "class Tree:\n",
    "    def __init__(self, root):\n",
    "        self.root = Node(root)\n",
    "        self.index = 0\n",
    "        idx_dict[self.index] = self.root\n",
    "        val_dict[root] = self.root\n",
    "           \n",
    "    def append(self, val):\n",
    "        self.index += 1\n",
    "        if val is None:\n",
    "            return\n",
    "\n",
    "        if (self.index-1)/2 == int((self.index-1)/2):\n",
    "            parent_idx = int((self.index-1)/2)\n",
    "            parent_node = idx_dict[parent_idx]\n",
    "            idx_dict[self.index] = val_dict[val] = parent_node.left = Node(val)\n",
    "            parent_node.left.parent = parent_node\n",
    "            \n",
    "        else:\n",
    "            parent_idx = int((self.index-2)/2)\n",
    "            parent_node = idx_dict[parent_idx]\n",
    "            idx_dict[self.index] = val_dict[val] = parent_node.right = Node(val)\n",
    "            parent_node.right.parent = parent_node\n",
    "\n",
    "        return\n",
    "    \n",
    "\n",
    "def LCA(root, p, q):\n",
    "    if not root:\n",
    "        return None\n",
    "\n",
    "    # if p, q = 0, 8\n",
    "\n",
    "    left = LCA(root.left, p, q)\n",
    "    right = LCA(root.right, p, q)\n",
    "\n",
    "    if root.val == p or root.val == q:\n",
    "        return root\n",
    "    \n",
    "    elif left and right:\n",
    "        return root\n",
    "    \n",
    "    return left or right\n",
    "\n",
    "tree = Tree(nodes[0])\n",
    "for node in nodes[1:]:\n",
    "    tree.append(node)\n",
    "\n",
    "LCA(tree.root, 0, 8).val\n",
    "\n",
    "# if 0 -> False..."
   ]
  },
  {
   "cell_type": "code",
   "execution_count": 106,
   "metadata": {},
   "outputs": [
    {
     "name": "stdout",
     "output_type": "stream",
     "text": [
      "4\n"
     ]
    }
   ],
   "source": [
    "# Maximum Depth of Binary Tree\n",
    "# Level order traversal -> using queue(BFS) or Implementation of Tree\n",
    "\n",
    "nodes = [3, 5, 1, 6, 2, 0, 8, None, None, 7, 4]\n",
    "\n",
    "idx_dict = {}\n",
    "\n",
    "class Node:\n",
    "    def __init__(self, val, left = None, right = None, depth = 1):\n",
    "        self.val = val\n",
    "        self.left = left\n",
    "        self.right = right\n",
    "        self.depth = depth\n",
    "    \n",
    "class BinaryTree:\n",
    "    def __init__(self, val):\n",
    "        self.root = Node(val)\n",
    "        self.idx = 0\n",
    "        self.nodes = 1\n",
    "        idx_dict[self.idx] = self.root\n",
    "\n",
    "\n",
    "    def append(self, val):\n",
    "        self.idx += 1\n",
    "        self.nodes += 1\n",
    "\n",
    "        parent = (self.idx-1)/2\n",
    "        if parent == int(parent):\n",
    "            depth = idx_dict[parent].depth\n",
    "            idx_dict[self.idx] = idx_dict[parent].left = Node(val, depth = depth + 1)\n",
    "        \n",
    "        parent = (self.idx-2)/2\n",
    "        if parent == int(parent):\n",
    "            depth =idx_dict[parent].depth\n",
    "            idx_dict[self.idx] = idx_dict[parent].right = Node(val, depth = depth + 1)\n",
    "\n",
    "bt = BinaryTree(nodes[0])\n",
    "for node in nodes[1:]:\n",
    "    bt.append(node)\n",
    "\n",
    "max_depth = 0\n",
    "\n",
    "for idx in range(bt.nodes):\n",
    "    max_depth = max(max_depth, idx_dict[idx].depth)\n",
    "\n",
    "print(max_depth)"
   ]
  },
  {
   "cell_type": "code",
   "execution_count": null,
   "metadata": {},
   "outputs": [
    {
     "data": {
      "text/plain": [
       "3"
      ]
     },
     "metadata": {},
     "output_type": "display_data"
    }
   ],
   "source": [
    "# Number of Islands\n",
    "# 방문 여부와 땅인지 여부를 통해 섬의 개수를 파악하자.\n",
    "# 즉, 암시적 그래프와 DFS or BFS로 풀 수 있는 것은 방문 여부, grid의 조건으로 유형이 결정된다.\n",
    "\n",
    "from collections import deque\n",
    "\n",
    "def dfs(grid):\n",
    "    \n",
    "    visited = [[0]*len(grid[0]) for _ in grid]\n",
    "    cnt = 0\n",
    "\n",
    "    dx = [-1, 0, 1, 0]\n",
    "    dy = [0, -1, 0, 1]\n",
    "\n",
    "\n",
    "    for i in range(len(grid)):\n",
    "        for j in range(len(grid[0])):\n",
    "            if visited[i][j] == 0 and grid[i][j] == 1:\n",
    "                queue = deque([(i, j)])\n",
    "                cnt += 1\n",
    "            \n",
    "            \n",
    "            while queue:\n",
    "                x, y = queue.popleft()\n",
    "                visited[y][x] = 1\n",
    "\n",
    "                for i in range(4):\n",
    "                    tx = x + dx[i]\n",
    "                    ty = y + dy[i]\n",
    "\n",
    "                    if 0 <= tx <= len(grid[0])-1 and 0 <= ty <= len(grid)-1:\n",
    "                        if visited[ty][tx] == 0 and grid[ty][tx] == 1:\n",
    "                            queue.append((tx, ty))\n",
    "  \n",
    "    return cnt\n",
    "\n",
    "grid = [\n",
    "    [1, 1, 0, 0, 0],\n",
    "    [1, 1, 0, 0, 0],\n",
    "    [0, 0, 1, 0, 0],\n",
    "    [0, 0, 0, 1, 1]\n",
    "]\n",
    "\n",
    "dfs(grid)"
   ]
  },
  {
   "cell_type": "code",
   "execution_count": 23,
   "metadata": {},
   "outputs": [
    {
     "name": "stdout",
     "output_type": "stream",
     "text": [
      "9\n"
     ]
    },
    {
     "data": {
      "text/plain": [
       "9999"
      ]
     },
     "execution_count": 23,
     "metadata": {},
     "output_type": "execute_result"
    }
   ],
   "source": [
    "# Shortest Path in Binary Matrix\n",
    "# 0인 연결된 cell만 지날 수 있으며, cell은 8가지 방향으로 연결되어 있다.\n",
    "# (nxn) matrix\n",
    "\n",
    "# 출발지는 top-left, 목적지는 bottom-right이므로,\n",
    "# 될 수 있다면 우하향이 가장 좋다. 그 다음이 우 = 하.\n",
    "# 길이 막히는 고려를 해야한다. 이 경우 좌, 상향이어도 가야될 수 있음.\n",
    "# 막혔을 때를 내가 모두 고려할 수 없을 것. 때문에 완전탐색...\n",
    "\n",
    "# 길을 한 번 가면 끝까지 가는 DFS를 사용해야 함. + 목적지에 도착하지 않으면 제외.\n",
    "# 특히 암시적 그래프는 조건 하나 놓치면 오류 찾는 거 답이 없다.. 처음부터 확실하게 조건 따지자. \n",
    "\n",
    "# using recursion\n",
    "grid = [\n",
    "    [0, 0, 0, 1, 0, 0, 0],\n",
    "    [0, 1, 1, 1, 0, 1, 0],\n",
    "    [0, 1, 0, 0, 0, 1, 0],\n",
    "    [0, 0, 0, 1, 1, 1, 0],\n",
    "    [0, 1, 0, 0, 0, 0, 0]\n",
    "]\n",
    "\n",
    "visited = [[0]*len(grid[0]) for _ in range(len(grid))]\n",
    "dx = [-1, 0, 1, 0, -1, 1, -1, 1]\n",
    "dy = [0, -1, 0, 1, -1, 1, 1, -1]\n",
    "cnt = 9999\n",
    "\n",
    "def dfs(grid, visited, pos = (0, 0), level = 1):\n",
    "    global cnt\n",
    "    x, y = pos\n",
    "    \n",
    "    if x == len(grid[0])-1 and y == len(grid)-1:\n",
    "            cnt = min(cnt, level)\n",
    "            return\n",
    "    \n",
    "    visited[y][x] = 1\n",
    "    direction_cnt = 0\n",
    "    \n",
    "    for i in range(8):\n",
    "        tx = x + dx[i]\n",
    "        ty = y + dy[i]\n",
    "\n",
    "        if 0 <= tx <= len(grid[0])-1 and 0 <= ty <= len(grid)-1:\n",
    "            if visited[ty][tx] == 0 and grid[ty][tx] == 0:\n",
    "                direction_cnt += 1\n",
    "                new_pos = (tx, ty)\n",
    "                dfs(grid, visited, new_pos, level + 1)\n",
    "                visited[ty][tx] = 0\n",
    "    \n",
    "    if direction_cnt == 0:\n",
    "        return\n",
    "    \n",
    "\n",
    "dfs(grid, visited)\n",
    "print(cnt)   \n",
    "     "
   ]
  },
  {
   "cell_type": "code",
   "execution_count": 21,
   "metadata": {},
   "outputs": [
    {
     "data": {
      "text/plain": [
       "False"
      ]
     },
     "execution_count": 21,
     "metadata": {},
     "output_type": "execute_result"
    }
   ],
   "source": [
    "# keys and rooms\n",
    "# 두, 세개의 조건으로 모두 통제할 수 없다면 완전탐색인 듯..\n",
    "# 모든 방을 visit -> True / 종료조건: 인접 방을 들어갈 수 없음.(이미 방문함, 열쇠가 없음)\n",
    "\n",
    "from collections import deque\n",
    "\n",
    "rooms = [[1, 3], [3, 0, 1], [2], [0]]\n",
    "\n",
    "visited = [0]*len(rooms)\n",
    "\n",
    "def bfs(room):\n",
    "    queue = deque([0])\n",
    "\n",
    "    while queue:\n",
    "        curr_room = queue.popleft()\n",
    "        visited[curr_room] = 1\n",
    "\n",
    "        for room in rooms[curr_room]:\n",
    "            if visited[room] == 0:\n",
    "                queue.append(room)\n",
    "        \n",
    "    if sum(visited) == len(rooms):\n",
    "        return True\n",
    "    return False\n",
    "\n",
    "bfs(rooms)\n",
    "\n"
   ]
  },
  {
   "cell_type": "code",
   "execution_count": 10,
   "metadata": {},
   "outputs": [
    {
     "name": "stdout",
     "output_type": "stream",
     "text": [
      "6\n",
      "6\n"
     ]
    }
   ],
   "source": [
    "# Min cost climbing stairs\n",
    "# Top-down\n",
    "# Recursion\n",
    "cost = [1, 100, 1, 1, 1, 100, 1, 1, 100, 1]\n",
    "\n",
    "cost.append(0)\n",
    "memo = {}\n",
    "\n",
    "def stairs_td(n):\n",
    "    if n == 0 or n == 1:\n",
    "        memo[n] = cost[n]\n",
    "        return memo[n]\n",
    "\n",
    "    else:\n",
    "        if n not in memo:\n",
    "            memo[n] = min(stairs_td(n-1), stairs_td(n-2)) + cost[n]\n",
    "        return memo[n]\n",
    "    \n",
    "print(stairs_td(len(cost)-1))\n",
    "\n",
    "# Bottom-up\n",
    "# for loop\n",
    "cost = [1, 100, 1, 1, 1, 100, 1, 1, 100, 1]\n",
    "cost.append(0)\n",
    "memo = {}\n",
    "\n",
    "def stairs_bu(n):\n",
    "    for i in range(2):\n",
    "        memo[i] = cost[i]\n",
    "\n",
    "    for i in range(2, n+1):\n",
    "        memo[i] = min(memo[i-1], memo[i-2]) + cost[i]\n",
    "\n",
    "    return memo[n]\n",
    "\n",
    "print(stairs_bu(len(cost)-1))"
   ]
  },
  {
   "cell_type": "code",
   "execution_count": 16,
   "metadata": {},
   "outputs": [
    {
     "data": {
      "text/plain": [
       "28"
      ]
     },
     "execution_count": 16,
     "metadata": {},
     "output_type": "execute_result"
    }
   ],
   "source": [
    "# Unique Paths\n",
    "# 완전 탐색 + Dynamic Programming\n",
    "# 좌표(m, n)의 경우의 수 = 좌표(m-1, n)의 경우의 수 + 좌표(m, n-1)의 경우의 수\n",
    "\n",
    "memo = {}\n",
    "\n",
    "# top-down\n",
    "def dfs(x, y):\n",
    "    if x < 1 or y < 1:\n",
    "        return 0\n",
    "    \n",
    "    if x == 1 and y == 1:\n",
    "        return 1\n",
    "\n",
    "    if (x, y) not in memo:\n",
    "        memo[(x, y)] = dfs(x-1, y) + dfs(x, y-1)\n",
    "\n",
    "    return memo[(x, y)]\n",
    "\n",
    "m, n = 3, 7\n",
    "dfs(m, n)\n",
    "\n",
    "# bottom-up\n",
    "def dfs(x, y):\n",
    "    if x < 1 or y < 1:\n",
    "        return 0\n",
    "    \n",
    "    if x == 1 and y == 1:\n",
    "        return 1\n",
    "    \n",
    "    for i in range(2, m+1):\n",
    "        for j in range(2, n+1):\n",
    "            if (i, j) not in memo:\n",
    "                memo[(i, j)] = memo[(i-1, j)] + memo[(i, j-1)]\n",
    "\n",
    "    return memo[(x, y)]\n",
    "\n",
    "dfs(m, n)\n"
   ]
  },
  {
   "cell_type": "code",
   "execution_count": 22,
   "metadata": {},
   "outputs": [
    {
     "name": "stdout",
     "output_type": "stream",
     "text": [
      "[('1', 0), ('101', 1), ('0001111', 2), ('1100000', 2), ('000000110100111', 3), ('1010101', 2), ('011111101000111', 3)]\n"
     ]
    },
    {
     "data": {
      "text/plain": [
       "[1, 0, 1, 0, 0, 0, 0]"
      ]
     },
     "execution_count": 22,
     "metadata": {},
     "output_type": "execute_result"
    }
   ],
   "source": [
    "from collections import deque\n",
    "\n",
    "def solution(numbers):\n",
    "    \n",
    "    bins = []\n",
    "    geoseq = {}\n",
    "    geoseq[0] = 1\n",
    "    \n",
    "    def search_level(number):\n",
    "        i = 0\n",
    "        while True:\n",
    "            for n in range(0, i+1):\n",
    "                if n not in geoseq:\n",
    "                    geoseq[n] = geoseq[n-1] + 2**n\n",
    "            \n",
    "            if number <= 2**geoseq[n]-1:\n",
    "                return n, geoseq[n]\n",
    "            \n",
    "            i += 1\n",
    "    \n",
    "    for number in numbers:\n",
    "        level, n = search_level(number)\n",
    "        binary = bin(number)[2:]\n",
    "        bintree_num = '0'*(n - len(binary)) + binary\n",
    "        bins.append((bintree_num, level))\n",
    "    \n",
    "    print(bins)\n",
    "\n",
    "    def bfs(number, start, max_level):\n",
    "        level = 0\n",
    "        queue = deque([(start, level)])\n",
    "        visit_cnt = 0\n",
    "        visited = [0]*(len(number)+1)\n",
    "        visited[0] = 1\n",
    "        while queue:\n",
    "            curr_node, level = queue.popleft()\n",
    "            visited[curr_node] = 1\n",
    "            visit_cnt += 1\n",
    "            \n",
    "            # left child\n",
    "            left = curr_node-(max_level - level)\n",
    "            if 0 < left <= len(number):\n",
    "                if visited[left] == 0 and number[left-1] == '1':\n",
    "                    queue.append((left, level+1))\n",
    "\n",
    "            # right child\n",
    "            right = curr_node+(max_level - level)\n",
    "            if 0 < right <= len(number):\n",
    "                if visited[right] == 0 and number[right-1] == '1':\n",
    "                    queue.append((right, level+1))\n",
    "                    \n",
    "            \n",
    "                \n",
    "        nodes_sum = sum([int(i) for i in number])\n",
    "        if visit_cnt == nodes_sum:\n",
    "            return 1\n",
    "        return 0\n",
    "    \n",
    "    answer = []\n",
    "    \n",
    "    for binary in bins:\n",
    "        number, max_level = binary\n",
    "        start = len(number)//2+1\n",
    "        answer.append(bfs(number, start, max_level)) # 0 or 1\n",
    "        \n",
    "    return answer\n",
    "\n",
    "numbers = [1, 5, 15, 96, 423, 85, 16199]\n",
    "solution(numbers)\n"
   ]
  },
  {
   "cell_type": "code",
   "execution_count": 6,
   "metadata": {},
   "outputs": [
    {
     "data": {
      "text/plain": [
       "4"
      ]
     },
     "execution_count": 6,
     "metadata": {},
     "output_type": "execute_result"
    }
   ],
   "source": [
    "from collections import deque\n",
    "\n",
    "def solution(n, costs):\n",
    "    # 어디서 시작하던 순회 비용을 최소..\n",
    "    # costs -> 인접리스트\n",
    "    # queue.popleft()(:start), 인접리스트[popleft()](:end) -> dict[(start, end)] = cost\n",
    "    \n",
    "    adjacents = [[] for _ in range(n)]\n",
    "    cost_dict = {}\n",
    "    \n",
    "    for x, y, cost in costs:\n",
    "        adjacents[x].append((y, cost))\n",
    "        adjacents[y].append((x, cost))\n",
    "    \n",
    "    adjacents = [sorted(adjacent, key = lambda x: x[1]) for adjacent in adjacents]\n",
    "    min_cost = 9999\n",
    "    def bfs(start):\n",
    "        q = deque([start])\n",
    "        traversal_cost = 0\n",
    "        while q:\n",
    "            curr_node = q.popleft()\n",
    "            visited[curr_node] = 1\n",
    "            for next_node, next_cost in adjacents[curr_node]:\n",
    "                if visited[next_node] == 0:\n",
    "                    q.append(next_node)\n",
    "                    visited[next_node] = 1\n",
    "                    traversal_cost += next_cost\n",
    "        \n",
    "        return traversal_cost\n",
    "        \n",
    "    for i in range(n):\n",
    "        visited = [0]*n\n",
    "        min_cost = min(min_cost, bfs(i))\n",
    "    return min_cost\n",
    "\n",
    "n = 4\n",
    "costs = [[0, 1, 1], [0, 2, 2], [1, 2, 5], [1, 3, 1], [2, 3, 8]]\n",
    "\n",
    "solution(n, costs)"
   ]
  },
  {
   "cell_type": "code",
   "execution_count": 19,
   "metadata": {},
   "outputs": [
    {
     "data": {
      "text/plain": [
       "9999"
      ]
     },
     "execution_count": 19,
     "metadata": {},
     "output_type": "execute_result"
    }
   ],
   "source": [
    "# Longest Increasing Subsequence(LIS)\n",
    "# 해당 인덱스까지 슬라이싱했을 때, 해당 값보다 작은 인덱스들의 최대증가수열 + 1\n",
    "# 때문에 O(n^2)\n",
    "arr = [5, 3, 7, 8, 6, 2, 9, 4]\n",
    "\n",
    "memo = {}\n",
    "big_O = 0\n",
    "def LIS(arr):\n",
    "    LIS_sub = []\n",
    "\n",
    "    for i in range(len(arr)):\n",
    "        if i == 0:\n",
    "            memo[0] = 1\n",
    "            continue\n",
    "\n",
    "        subsequences = [(idx, val) for idx, val in enumerate(arr[:i]) if val < arr[i]]\n",
    "        \n",
    "\n",
    "        max_value = 0\n",
    "        for idx, sub in subsequences:\n",
    "            value = memo[idx] + 1\n",
    "            max_value = max(max_value, value)\n",
    "\n",
    "        memo[i] = max_value\n",
    "        LIS_sub.append(memo[i])\n",
    "\n",
    "    return max(LIS_sub)\n",
    "\n",
    "arr = range(1, 10000)\n",
    "LIS(arr)"
   ]
  },
  {
   "cell_type": "code",
   "execution_count": null,
   "metadata": {},
   "outputs": [],
   "source": [
    "# 가장 높은 탑 쌓기\n",
    "# 밑면, 무게 (2d)에 대한 LIS\n",
    "# 밑면 넓이, 높이, 무게\n",
    "# return 높이\n",
    "# 넓이 & 무게가 낮은 것 중 가장 높이가 높은 값 + 1\n",
    "# (Bottom-up)\n",
    "\n",
    "# max(f(j) + value_2[i]) : value[j] < value[i]\n",
    "# O(n^2): 1) idx보다 낮은 값의 LIS 모두 계산하고, 2) value가 낮은 값들의 DP 계산\n",
    "def highest(area, height, weight):\n",
    "    max_height = 0\n",
    "    for i in range(n):\n",
    "        if i == 0:\n",
    "            memo[0] = 1\n",
    "\n",
    "        small = [height[j] for j in range(i) if area[j] < area[i] and weight[j] < weight[i]]\n",
    "\n",
    "        seq_height = 0\n",
    "        for height_j in small:\n",
    "            seq_height = max(seq_height, height_j + height[i])\n",
    "        \n",
    "        memo[i] = seq_height\n",
    "    max_height = max(max_height, seq_height)\n",
    "\n",
    "    return max_height"
   ]
  },
  {
   "cell_type": "code",
   "execution_count": 36,
   "metadata": {},
   "outputs": [
    {
     "data": {
      "text/plain": [
       "24"
      ]
     },
     "execution_count": 36,
     "metadata": {},
     "output_type": "execute_result"
    }
   ],
   "source": [
    "# Knapsack Algorithm\n",
    "# n-> 1~17까지..?\n",
    "# f(n) = max(f(n-3) + value[0], f())\n",
    "jewelry = [(3, 4), (4, 5), (7, 10), (8, 11), (9, 13)]\n",
    "n = 17\n",
    "memo = {}\n",
    "def knapsack(n):\n",
    "    if n < jewelry[0][0]:\n",
    "        return 0\n",
    "       \n",
    "    if n not in memo:\n",
    "        memo[n] = max([knapsack(n-weight) + value for weight, value in jewelry if n - weight >= 0])\n",
    "    \n",
    "    return memo[n]\n",
    "\n",
    "knapsack(17)\n",
    "\n",
    "def knapsack(n, jewerly):\n",
    "    memo = [0]*(n+1)\n",
    "    for wl in range(1, n+1):\n",
    "        for w, v in jewerly:\n",
    "            if wl - w < 0:\n",
    "                continue                \n",
    "            memo[wl] = max(memo[wl], memo[wl-w] + v)\n",
    "    return memo[n]\n",
    "\n",
    "knapsack(17, jewelry)"
   ]
  },
  {
   "cell_type": "code",
   "execution_count": 51,
   "metadata": {},
   "outputs": [
    {
     "name": "stdout",
     "output_type": "stream",
     "text": [
      "41\n",
      "41\n"
     ]
    }
   ],
   "source": [
    "# max score\n",
    "\n",
    "score = [10, 25, 15, 6, 7]\n",
    "time = [5, 12, 8, 3, 4]\n",
    "\n",
    "# Top-down\n",
    "memo = {}\n",
    "def knapsack(M):\n",
    "    if M < min(time):\n",
    "        return 0\n",
    "    \n",
    "    # f(n) = max(f(n-time_{i}) + score[i])\n",
    "\n",
    "    if M not in memo:\n",
    "        memo[M] = max([knapsack(M-time[i]) + score[i] for i in range(len(time)) if M-time[i] >= 0])\n",
    "\n",
    "    return memo[M]\n",
    "\n",
    "print(knapsack(20))\n",
    "\n",
    "# Bottom-up\n",
    "def knapsack(time, score, M):\n",
    "    # f(n) = max(f(n-time_{i} + score_{i}))\n",
    "    memo = [0]*(M+1)\n",
    "    for i in range(1, M+1):\n",
    "        \n",
    "        for j in range(len(time)):\n",
    "            if i - time[j] < 0:\n",
    "                continue\n",
    "            memo[i] = max(memo[i], memo[i-time[j]] + score[j])\n",
    "\n",
    "    return memo[M]\n",
    "\n",
    "print(knapsack(time, score, 20))"
   ]
  },
  {
   "cell_type": "code",
   "execution_count": null,
   "metadata": {},
   "outputs": [
    {
     "data": {
      "text/plain": [
       "[1, 6, 2, 5, 4, 3]"
      ]
     },
     "metadata": {},
     "output_type": "display_data"
    }
   ],
   "source": [
    "# 위상 정렬\n",
    "from collections import deque, defaultdict\n",
    "\n",
    "n = 6\n",
    "tasks = [[1, 4], [5, 4], [4, 3], [2, 5], [2, 3], [6, 2]]\n",
    "\n",
    "task_dict = defaultdict(list)\n",
    "{task_dict[k].append(v) for k, v in tasks}\n",
    "\n",
    "enter_dict = {i: 0 for i in range(1, n+1)}\n",
    "for pre, post in tasks:\n",
    "    enter_dict[post] += 1\n",
    "\n",
    "q = deque([])\n",
    "for key in enter_dict.keys():\n",
    "    if enter_dict[key] == 0:\n",
    "        q.append(key)\n",
    "\n",
    "result = []\n",
    "visited = [0]*(n+1)\n",
    "while q:    \n",
    "    curr_task = q.popleft()\n",
    "    visited[curr_task] = 1\n",
    "    for next_task in task_dict[curr_task]:\n",
    "        enter_dict[next_task] -= 1\n",
    "\n",
    "    for key in enter_dict.keys():\n",
    "        if enter_dict[key] == 0:\n",
    "            if visited[key] == 0 and key not in q:\n",
    "                q.append(key)\n",
    "\n",
    "    result.append(curr_task)\n",
    "\n",
    "result"
   ]
  }
 ],
 "metadata": {
  "kernelspec": {
   "display_name": "Python 3",
   "language": "python",
   "name": "python3"
  },
  "language_info": {
   "codemirror_mode": {
    "name": "ipython",
    "version": 3
   },
   "file_extension": ".py",
   "mimetype": "text/x-python",
   "name": "python",
   "nbconvert_exporter": "python",
   "pygments_lexer": "ipython3",
   "version": "3.10.6"
  },
  "orig_nbformat": 4
 },
 "nbformat": 4,
 "nbformat_minor": 2
}
