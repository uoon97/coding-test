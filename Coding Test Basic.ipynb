{
 "cells": [
  {
   "attachments": {},
   "cell_type": "markdown",
   "metadata": {},
   "source": [
    "### **Data structure**"
   ]
  },
  {
   "attachments": {},
   "cell_type": "markdown",
   "metadata": {},
   "source": [
    "- heap"
   ]
  },
  {
   "attachments": {},
   "cell_type": "markdown",
   "metadata": {},
   "source": [
    "#### **List**"
   ]
  },
  {
   "attachments": {},
   "cell_type": "markdown",
   "metadata": {},
   "source": [
    "```python\n",
    "list = list()\n",
    "list = []\n",
    "list[idx] = element\n",
    "list.append(element)\n",
    "list.insert(idx, element)\n",
    "list.pop(element)\n",
    "list.remove(element)\n",
    "```"
   ]
  },
  {
   "attachments": {},
   "cell_type": "markdown",
   "metadata": {},
   "source": [
    "#### **Linked List**"
   ]
  },
  {
   "attachments": {},
   "cell_type": "markdown",
   "metadata": {},
   "source": [
    "- Class: 객체지향 프로그래밍\n",
    "\n",
    "- value, next로 구성되어 있는 node가 연결되어 있는 삽입/삭제에 용이한 자료구조 \n",
    "<br> 하지만 이 또한 직접 만들어야 하기 때문에 숙달되지 않으면 시도하지 않는 것이 좋아보임..\n",
    "\n",
    "- while(present.next): present = present.next <br> : next가 없는 node까지 간다.\n",
    "\n",
    "- self.head, self.tail은 new_node에 의해서만 정의되므로, 곧 node를 의미한다.\n",
    "\n",
    "- if not self.head is None: self.tail.next = new_node; self.tail = new_node <br> : self.tail은 가장 마지막에 append한 node. next를 만들고 self.tail을 갱신한다."
   ]
  },
  {
   "attachments": {},
   "cell_type": "markdown",
   "metadata": {},
   "source": [
    "```python\n",
    "class Node:\n",
    "    def __init__(self, value = 0, next = None):\n",
    "        self.value = value\n",
    "        self.next = next\n",
    "\n",
    "first = Node(1) # 1\n",
    "second = Node(2) # 2\n",
    "third = Node(3) # 3\n",
    "fourth = Node(4) # 4\n",
    "\n",
    "first.next = second # 1 -> 2\n",
    "second.next = third # 1 -> 2 -> 3\n",
    "third.next = fourth # 1 -> 2 -> 3 -> 4\n",
    "```"
   ]
  },
  {
   "attachments": {},
   "cell_type": "markdown",
   "metadata": {},
   "source": [
    "```python\n",
    "# only head\n",
    "class Node:\n",
    "    def __init__(self, value = 0, next = None):\n",
    "        self.value = value\n",
    "        self.next = next\n",
    "\n",
    "class LinkedList(object):\n",
    "    def __init__(self):\n",
    "        self.head = None\n",
    "\n",
    "    def append(self, value):\n",
    "        new_node = Node(value)\n",
    "        if self.head is None:\n",
    "            self.head = new_node\n",
    "        else:\n",
    "            present = self.head\n",
    "            while(present.next): \n",
    "                present = present.next\n",
    "            present.next = new_node\n",
    "\n",
    "linkedlist = LinkedList()\n",
    "linkedlist.append(1) # 1\n",
    "linkedlist.append(2) # 1 -> 2\n",
    "linkedlist.append(3) # 1 -> 2 -> 3\n",
    "linkedlist.append(4) # 1 -> 2 -> 3 -> 4\n",
    "```"
   ]
  },
  {
   "attachments": {},
   "cell_type": "markdown",
   "metadata": {},
   "source": [
    "```python\n",
    "# head & tail\n",
    "class Node:\n",
    "    def __init__(self, value = 0, next = None):\n",
    "        self.value = value\n",
    "        self.next = next\n",
    "\n",
    "class LinkedList(object):\n",
    "    def __init__(self):\n",
    "        self.head = None\n",
    "        self.tail = None\n",
    "    \n",
    "    def append(self, value):\n",
    "        new_node = Node(value)\n",
    "        \n",
    "        if self.head is None: \n",
    "            self.head = new_node\n",
    "            self.tail = new_node\n",
    "        else:\n",
    "            self.tail.next = new_node \n",
    "            self.tail = new_node\n",
    "\n",
    "linkedlist = LinkedList()\n",
    "linkedlist.append(1) # 1\n",
    "linkedlist.append(2) # 1 -> 2\n",
    "linkedlist.append(3) # 1 -> 2 -> 3\n",
    "linkedlist.append(4) # 1 -> 2 -> 3 -> 4\n",
    "```"
   ]
  },
  {
   "attachments": {},
   "cell_type": "markdown",
   "metadata": {},
   "source": [
    "```python\n",
    "# Doubly linked list\n",
    "class Node(object):\n",
    "    def __init__(self, value):\n",
    "        self.value = value\n",
    "        self.next = None\n",
    "        self.prev = None\n",
    "\n",
    "class LinkedList(object):\n",
    "    def __init__(self):\n",
    "        self.head = None\n",
    "        self.tail = None\n",
    "    \n",
    "    def append(self, value):\n",
    "        new_node = Node(value)\n",
    "        if self.head is None:\n",
    "            self.head = new_node\n",
    "            self.tail = new_node\n",
    "\n",
    "        else:\n",
    "            self.tail.next = new_node\n",
    "            new_node.prev = self.tail\n",
    "            self.tail = new_node\n",
    "\n",
    "linkedlist = LinkedList()\n",
    "linkedlist.append(1) # 1\n",
    "linkedlist.append(2) # 1 <-> 2\n",
    "linkedlist.append(3) # 1 <-> 2 <-> 3\n",
    "linkedlist.append(4) # 1 <-> 2 <-> 3 <-> 4\n",
    "\n",
    "print(linkedlist.head.value) # 1\n",
    "print(linkedlist.head.next.value) # 2\n",
    "print(linkedlist.tail.value) # 4\n",
    "print(linkedlist.tail.prev.value) # 3\n",
    "\n",
    "# head, tail이 아니라면 한 번에 node를 찾아서 호출을 하는 것은 불가능하다.\n",
    "```"
   ]
  },
  {
   "cell_type": "code",
   "execution_count": null,
   "metadata": {},
   "outputs": [],
   "source": [
    "# index에 의해 instance를 찾을 수 있으며, index에 대해 유일하다.\n",
    "# 만약 index가 존재하는 경우, 해당 index를 불러 Node를 만든다면 기존에 만든 Node를 반환한다.\n",
    "class Node:\n",
    "    def __init__(self, index, value, parent = None, left = None, right = None):\n",
    "        if not get(index):\n",
    "            self.index = index\n",
    "            self.value = value\n",
    "            self.parent = parent\n",
    "            self.left = left\n",
    "            self.right = right\n",
    "        \n",
    "\n",
    "\n",
    "    @classmethod\n",
    "    def get(cls, index):\n",
    "        return [instance for instance in cls.instance if instance.index == index]\n",
    "\n",
    "class Tree:\n",
    "    def __init__(self, list, root = None):\n",
    "        self.list = list\n",
    "        self.root = root\n",
    "\n",
    "        for idx in range(len(list)):\n",
    "            curr_node = Node(list[idx])\n",
    "            if 2*idx + 1 <= len(idx)-1:\n",
    "                curr_node.left = Node(2*idx + 1)\n",
    "            \n",
    "            if 2*idx + 2 <= len(idx)-1:\n",
    "                curr_node.right = Node(2*idx + 2)\n",
    "            \n",
    "            if idx == 0:\n",
    "                self.root = curr_node\n",
    "        "
   ]
  },
  {
   "attachments": {},
   "cell_type": "markdown",
   "metadata": {},
   "source": [
    "deque: doubly linked list based\n",
    "<br> 때문에 직접 구현할 필요는 없다.\n",
    "\n",
    "```python\n",
    "from collections import deque\n",
    "\n",
    "linkedlist = deque() # []\n",
    "linkedlist.append(1) # [1]\n",
    "linkedlist.append(2) # [1, 2]: 1 <-> 2\n",
    "linkedlist.appendleft(0) # [0, 1, 2]: 0 <-> 1 <-> 2\n",
    "\n",
    "linkedlist.popleft(0) # [1, 2]: 1 <-> 2\n",
    "linkedlist.pop() # [1]: 1\n",
    "\n",
    "```"
   ]
  },
  {
   "attachments": {},
   "cell_type": "markdown",
   "metadata": {},
   "source": [
    "#### **Queue**"
   ]
  },
  {
   "attachments": {},
   "cell_type": "markdown",
   "metadata": {},
   "source": [
    "- First In First Out(FIFO)의 자료구조\n",
    "- Breadth First Search(BFS)에 활용된다.\n",
    "- list.pop(0) or deque.popleft()"
   ]
  },
  {
   "attachments": {},
   "cell_type": "markdown",
   "metadata": {},
   "source": [
    "```python\n",
    "queue = []\n",
    "queue.append(1) # [1]\n",
    "queue.append(2) # [1, 2]\n",
    "queue.append(3) # [1, 2, 3]\n",
    "\n",
    "queue.pop(0) # [2, 3]\n",
    "queue.pop(0) # [3]\n",
    "```"
   ]
  },
  {
   "attachments": {},
   "cell_type": "markdown",
   "metadata": {},
   "source": [
    "```python\n",
    "from collections import deque\n",
    "\n",
    "queue = deque() # []\n",
    "queue.append(1) # [1]\n",
    "\n",
    "queue = deque([1]) # [1]\n",
    "queue.append(2) # [1, 2]\n",
    "queue.append(3) # [1, 2, 3]\n",
    "\n",
    "queue.popleft() # [2, 3]\n",
    "queue.popleft() # [3]\n",
    "```"
   ]
  },
  {
   "attachments": {},
   "cell_type": "markdown",
   "metadata": {},
   "source": [
    "```python\n",
    "# Queue의 일반적인 구조.\n",
    "# 1) deque에 담고 2) 꺼내고 3) 인접 노드 다시 deque에 담고\n",
    "\n",
    "queue = deque([node])\n",
    "while queue\n",
    "curr = queue.popleft()\n",
    "\n",
    "if curr.left:\n",
    "    if curr.left not in visited:\n",
    "        queue.append(curr.left)\n",
    "```"
   ]
  },
  {
   "attachments": {},
   "cell_type": "markdown",
   "metadata": {},
   "source": [
    "#### **Stack**"
   ]
  },
  {
   "attachments": {},
   "cell_type": "markdown",
   "metadata": {},
   "source": [
    "- Last In First Out(LIFO)의 자료구조\n",
    "- Depth First Search(DFS)에 활용된다.\n",
    "- list.pop() or deque.pop()"
   ]
  },
  {
   "attachments": {},
   "cell_type": "markdown",
   "metadata": {},
   "source": [
    "```python\n",
    "stack = []\n",
    "stack.append(1) # [1]\n",
    "stack.append(2) # [1, 2]\n",
    "stack.append(3) # [1, 2, 3]\n",
    "\n",
    "stack.pop() # [1, 2]\n",
    "stack.pop() # [1]\n",
    "```"
   ]
  },
  {
   "attachments": {},
   "cell_type": "markdown",
   "metadata": {},
   "source": [
    "```python\n",
    "from collections import deque\n",
    "\n",
    "stack = deque([1]) # [1]\n",
    "stack.append(2) # [1, 2]\n",
    "stack.append(3) # [1, 2, 3]\n",
    "\n",
    "stack.pop() # [1, 2]\n",
    "stack.pop() # [1]\n",
    "```"
   ]
  },
  {
   "attachments": {},
   "cell_type": "markdown",
   "metadata": {},
   "source": [
    "```python\n",
    "\n",
    "# Stack의 일반적인 구조\n",
    "# 1) deque에 담고 2) 꺼내고 3) 인접 노드 다시 deque에 담고\n",
    "\n",
    "stack = deque([node])\n",
    "while stack\n",
    "curr = stack.pop()\n",
    "\n",
    "if curr.right:\n",
    "    if curr.right not in visited:\n",
    "        stack.append(curr.right)\n",
    "\n",
    "```"
   ]
  },
  {
   "attachments": {},
   "cell_type": "markdown",
   "metadata": {},
   "source": [
    "#### **Hash table**"
   ]
  },
  {
   "attachments": {},
   "cell_type": "markdown",
   "metadata": {},
   "source": [
    "- dictionary in python\n",
    "- 저장, 삭제, 검색의 시간복잡도는 모두 O(1)\n",
    "- 순서를 고려할 수는 없음"
   ]
  },
  {
   "attachments": {},
   "cell_type": "markdown",
   "metadata": {},
   "source": [
    "\n",
    "```python\n",
    "\n",
    "dictionary = dict(); dictionary = {}\n",
    "dictionary['key1'] = 'value1'\n",
    "dictionary['key2'] = 'value2'\n",
    "\n",
    "# in\n",
    "'key1' in dictionary # True\n",
    "'key' in dictionary # False\n",
    "\n",
    "# functions\n",
    "dictionary.items() # dict_items([('key1', 'value1'), ('key2', 'value2')])\n",
    "dictionary.keys() # dict_keys(['key1', 'key2'])\n",
    "dictionary.values() # dict_values(['value1', 'value2'])\n",
    "dictionary.get('key1') # 'value1'\n",
    "```"
   ]
  },
  {
   "attachments": {},
   "cell_type": "markdown",
   "metadata": {},
   "source": [
    "##### pythonic code\n",
    "```python\n",
    "# inverse key, value : O(n)\n",
    "inverse = {v: k for k, v in dictionary.items()}\n",
    "\n",
    "# dict comprehension for list values\n",
    "from collections import defaultdict\n",
    "[dictionary[k].append(v) for v in list if v == w]\n",
    "# defaultdict(list, {k: [v1, v2, v3]})\n",
    "```"
   ]
  },
  {
   "attachments": {},
   "cell_type": "markdown",
   "metadata": {},
   "source": [
    "#### **Tree**"
   ]
  },
  {
   "attachments": {},
   "cell_type": "markdown",
   "metadata": {},
   "source": [
    "- root, subtree로 구성된 계층형 비선형 자료구조\n",
    "<br> : 여러 순회 방법이 존재한다.\n",
    "- Vertex: 정점, Edge: 간선\n",
    "- leaf node를 제외하고는 모두 하나 이상의 child node를 갖는다."
   ]
  },
  {
   "attachments": {},
   "cell_type": "markdown",
   "metadata": {},
   "source": [
    "Level-order traversal\n",
    "- root node's level = 0\n",
    "- level별로 순회하기 때문에 queue를 활용한다."
   ]
  },
  {
   "attachments": {},
   "cell_type": "markdown",
   "metadata": {},
   "source": [
    "preorder, inorder, postorder traversal\n",
    "- preorder: root(parent) -> left -> right\n",
    "- inorder: left -> root(parent) -> right\n",
    "- postorder: left -> right -> root(parent)\n",
    "\n",
    "- 한 node를 방문한 시점에서 담을 수 있는 것은 해당 node의 child node뿐이다.\n",
    "<br> pre/in/post-order traversal: Stack\n",
    "<br> level-order traversal: Queue\n",
    "\n",
    "- Tree 자료구조 자체를 만든다고 하면 Class를 사용하는 게 좋고, \n",
    "<br> Traversal을 한다고 하면 Recursion을 사용하는 게 좋아보인다."
   ]
  },
  {
   "attachments": {},
   "cell_type": "markdown",
   "metadata": {},
   "source": [
    "##### **Code of Tree**"
   ]
  },
  {
   "cell_type": "code",
   "execution_count": 75,
   "metadata": {},
   "outputs": [
    {
     "name": "stdout",
     "output_type": "stream",
     "text": [
      "['A', 'B', 'C', 'D', 'E', 'F']\n"
     ]
    }
   ],
   "source": [
    "# level-order traversal\n",
    "from collections import deque\n",
    "\n",
    "class Node:\n",
    "    def __init__(self, value, left = None, right = None, parent = None):\n",
    "        self.value = value\n",
    "        self.left = left\n",
    "        self.right = right\n",
    "        self.parent = parent\n",
    "\n",
    "# 0 -> 1, 2 / 1 -> 3, 4 / 4 -> 5, 6 / 3 -> 7, 8\n",
    "# node가 node끼리 연결이 되어야 한다...\n",
    "\n",
    "tree = ['A', 'B', 'C', 'D', 'E', 'F']\n",
    "\n",
    "for v in tree:\n",
    "    globals()[v] = Node(v)\n",
    "\n",
    "for i, v in enumerate(tree):\n",
    "    if 2*i+1 <= len(tree)-1:\n",
    "        globals()[v].left = globals()[tree[2*i+1]]\n",
    "        globals()[tree[2*i+1]].parent = globals()[v]\n",
    "    if 2*i+2 <= len(tree)-1:\n",
    "        globals()[v].right = globals()[tree[2*i+2]]\n",
    "        globals()[tree[2*i+2]].parent = globals()[v]\n",
    "\n",
    "def level_order(root):\n",
    "    visited = []\n",
    "    if root is None:\n",
    "        return 0\n",
    "    q = deque([root])\n",
    "    while q:\n",
    "        curr_node = q.popleft()\n",
    "        visited.append(curr_node.value)\n",
    "\n",
    "        if curr_node.left:\n",
    "            q.append(curr_node.left)\n",
    "        if curr_node.right:\n",
    "            q.append(curr_node.right)\n",
    "    \n",
    "    return visited\n",
    "\n",
    "print(level_order(globals()[tree[0]]))"
   ]
  },
  {
   "cell_type": "code",
   "execution_count": 15,
   "metadata": {},
   "outputs": [
    {
     "name": "stdout",
     "output_type": "stream",
     "text": [
      "preorder traversal: [0, 1, 3, 7, 8, 4, 9, 10, 2, 5, 11, 6]\n",
      "inorder traversal: [7, 3, 8, 1, 9, 4, 10, 0, 11, 5, 2, 6]\n",
      "postorder traversal: [7, 8, 3, 9, 10, 4, 1, 11, 5, 6, 2, 0]\n"
     ]
    }
   ],
   "source": [
    "# preorder/inorder/postorder traversal\n",
    "\n",
    "# preorder traversal\n",
    "from collections import deque\n",
    "\n",
    "class Node:\n",
    "    def __init__(self, value, left = None, right = None, parent = None):\n",
    "        self.value = value\n",
    "        self.left = left\n",
    "        self.right = right\n",
    "        self.parent = parent\n",
    "\n",
    "tree = list(range(12))\n",
    "\n",
    "for v in tree:\n",
    "    globals()[f'node_{v}'] = Node(v)\n",
    "\n",
    "for v in tree:\n",
    "    if 2*v+1 <= len(tree)-1:\n",
    "        globals()[f'node_{v}'].left = globals()[f'node_{2*v+1}']\n",
    "        globals()[f'node_{2*v+1}'].parent = globals()[f'node_{v}']\n",
    "\n",
    "    if 2*v+2 <= len(tree)-1:\n",
    "        globals()[f'node_{v}'].right = globals()[f'node_{2*v+2}']\n",
    "        globals()[f'node_{2*v+2}'].parent = globals()[f'node_{v}']\n",
    "\n",
    "def preorder_traversal(root_node):\n",
    "    visited = []\n",
    "    if root_node is None:\n",
    "        return False\n",
    "    \n",
    "    s = deque([root_node])\n",
    "    while s:\n",
    "        curr_node = s.pop()\n",
    "        visited.append(curr_node.value)\n",
    "        \n",
    "        if curr_node.right:\n",
    "            s.append(curr_node.right)\n",
    "\n",
    "        if curr_node.left:\n",
    "            s.append(curr_node.left)\n",
    "        \n",
    "\n",
    "    return visited\n",
    "\n",
    "print('preorder traversal:', preorder_traversal(node_0))\n",
    "\n",
    "# inorder traversal\n",
    "visited = []\n",
    "\n",
    "def inorder_traversal(node):\n",
    "    # 종료 조건\n",
    "    if node > len(tree)-1:\n",
    "        return\n",
    "    # Tree의 경우, parent 방향으로 거슬러 올라가지 않는 이상 겹치지 않기 때문에 in visited와 같은 조건을 걸 필요가 없다.\n",
    "    else:\n",
    "        inorder_traversal(node*2+1) # left\n",
    "        visited.append(node) # parent(root)\n",
    "        inorder_traversal(node*2+2) # right\n",
    "        \n",
    "\n",
    "inorder_traversal(0)\n",
    "print('inorder traversal:', visited)\n",
    "\n",
    "# postorder traversal\n",
    "visited = []\n",
    "\n",
    "def postorder_traversal(node):\n",
    "    if node > len(tree)-1:\n",
    "        return\n",
    "    \n",
    "    else:\n",
    "        postorder_traversal(node*2+1) # left\n",
    "        postorder_traversal(node*2+2) # right\n",
    "        visited.append(node) # parent(node)\n",
    "\n",
    "postorder_traversal(0)\n",
    "print('postorder traversal:', visited)\n",
    "\n",
    "# recursion: 항상 종료 조건을 만들어줘야 하며, 같은 작업을 반복하는 것을 잊지 말자.\n",
    "# 이러한 특성 때문에 instance를 return하기 어려워 sort()와 같이 변화를 주는 용도로만 사용해야 한다."
   ]
  },
  {
   "cell_type": "code",
   "execution_count": 81,
   "metadata": {},
   "outputs": [
    {
     "name": "stdout",
     "output_type": "stream",
     "text": [
      "D\n",
      "['D', 'B', 'E', 'A', 'C', 'F']\n"
     ]
    }
   ],
   "source": [
    "# Special Order Traversal (kakao 2022 Blind)\n",
    "# left to right: print(['D', 'B', 'E', 'A', 'F', 'C', 'G'])\n",
    "from collections import deque\n",
    "\n",
    "tree = ['A', 'B', 'C', 'D', 'E', 'F', 'G']\n",
    "\n",
    "def find_start(list):\n",
    "    num = len(list)\n",
    "    i = 0\n",
    "    while 2**i <= num:\n",
    "        i += 1\n",
    "    return globals()[tree[2**(i-1)-1]]\n",
    "    \n",
    "def special_order(node):\n",
    "    visited = []\n",
    "    if node is None:\n",
    "        return 0\n",
    "    \n",
    "    q = deque([node])\n",
    "    while q:\n",
    "        curr_node = q.popleft()\n",
    "        if curr_node.value not in visited:\n",
    "            visited.append(curr_node.value)\n",
    "        \n",
    "        if curr_node.left:\n",
    "            if curr_node.left.value not in visited:\n",
    "                q.append(curr_node.left)\n",
    "        \n",
    "        if curr_node.right:\n",
    "            if curr_node.right.value not in visited:\n",
    "                q.append(curr_node.right)\n",
    "\n",
    "        if curr_node.parent: \n",
    "            if curr_node.parent.value not in visited:\n",
    "                q.append(curr_node.parent)\n",
    "    \n",
    "    return visited\n",
    "\n",
    "print(find_start(tree).value)\n",
    "print(special_order(find_start(tree)))"
   ]
  },
  {
   "attachments": {},
   "cell_type": "markdown",
   "metadata": {},
   "source": [
    "##### **Note!** \n",
    "```python\n",
    "# recursion의 일반적인 구조\n",
    "# 1) 종료 조건 설정하고 2) 함수 다시 호출하고 3) 현재 노드에서의 작업 설정하고\n",
    "\n",
    "def recursion(node):\n",
    "\n",
    "    if node > num:\n",
    "        return  # terminate condition\n",
    "\n",
    "    else:\n",
    "        recursion(node*2)\n",
    "        recursion(node*2+1)\n",
    "        print(node); visited.append(node)\n",
    "\n",
    "```"
   ]
  },
  {
   "attachments": {},
   "cell_type": "markdown",
   "metadata": {},
   "source": [
    "#### **Graph**"
   ]
  },
  {
   "attachments": {},
   "cell_type": "markdown",
   "metadata": {},
   "source": [
    "- vertex, edge들의 집합으로 구성된 자료구조\n",
    "- 출제 빈도: 인접 행렬 < 인접 리스트 < 암시적 그래프"
   ]
  },
  {
   "attachments": {},
   "cell_type": "markdown",
   "metadata": {},
   "source": [
    "인접 행렬\n",
    "```python\n",
    "matrix = [\n",
    "    [0, 1, 0, 0, 0, 0],\n",
    "    [1, 0, 1, 0, 1, 0],\n",
    "    [0, 1, 0, 1, 0, 0],\n",
    "    [0, 0, 1, 0, 1, 1],\n",
    "    [0, 1, 0, 1, 0, 1],\n",
    "    [0, 0, 0, 1, 1, 0]\n",
    "]\n",
    "```\n",
    "인접 리스트\n",
    "```python\n",
    "from collections import defaultdict\n",
    "\n",
    "nodes = ['A', 'B', 'C', 'D', 'E', 'F']\n",
    "\n",
    "graph = defaultdict(list)\n",
    "{graph[nodes[i]].append(nodes[j]) \n",
    " for i in range(len(matrix))\n",
    " for j in range(len(matrix[i]))\n",
    " if matrix[i][j] == 1}\n",
    "\n",
    "print(graph) \n",
    "# graph = {\n",
    "# \"A\": [\"B\"],\n",
    "# \"B\": [\"A\", \"C\", \"E\"],\n",
    "# \"C\": [\"B\", \"D\"],\n",
    "# \"D\": [\"C\", \"E\", \"F\"],\n",
    "# \"E\": [\"B\", \"D\", \"F\"],\n",
    "# \"F\": [\"D\", \"E\"],\n",
    "# }\n",
    "```"
   ]
  },
  {
   "attachments": {},
   "cell_type": "markdown",
   "metadata": {},
   "source": [
    "암시적 그래프 (지도 그래프)\n",
    "- 인접리스트, 인접행렬과 다르게 연결 관계가 명시되어 있지 않고, 상하좌우로 연결되어 있음.\n",
    "```python\n",
    "graph = [\n",
    "    [1, 1, 1, 1, 1],\n",
    "    [0, 0, 0, 1, 1],\n",
    "    [1, 1, 0, 1, 1],\n",
    "    [1, 0, 0, 0, 0],\n",
    "    [1, 1, 1, 1, 1]\n",
    "]\n",
    "\n",
    "# graph traversal: BFS & DFS\n",
    "# Tree traversal과 다르게, 중복의 가능성이 존재한다.\n",
    "# 별개로, traversal에서 queue, stack을 사용하는 이유는 한 개만 추출에서 작업을 진행하기 때문.\n",
    "```"
   ]
  },
  {
   "cell_type": "code",
   "execution_count": null,
   "metadata": {},
   "outputs": [],
   "source": [
    "# Breadth First Search\n",
    "# 1) 그래프, 시작 노드를 받고 2) 시작 노드 담고 3) while q: 방문 여부 확인하고 인접 노드 담고\n",
    "# 암시적 그래프의 경우, 좌표로 진행\n",
    "# BFS (인접리스트.ver)\n",
    "from collections import deque\n",
    "\n",
    "def bfs(graph, start):\n",
    "    visited = []\n",
    "    q = deque([start])\n",
    "    while q:\n",
    "        curr_node = q.popleft()\n",
    "        visited.append(curr_node)\n",
    "\n",
    "        for node in graph[curr_node]:\n",
    "            if node not in visited:\n",
    "                q.append(node)\n",
    "    \n",
    "    return visited\n",
    "\n",
    "# BFS (암시적 그래프.ver)\n",
    "# 암시적 그래프의 경우, 일반적으로 queue를 좌표로 받고 좌표를 통해 담도록 한다..\n",
    "# 또한 그래프 내 좌표가 크게 의미 있지는 않음. 때문에 보통 graph의 방문 여부를 담도록 한다.\n",
    "from collections import deque\n",
    "\n",
    "def bfs(graph, start):\n",
    "    visited = [[0]*graph[0] for _ in range(len(graph))]\n",
    "    dx = [-1, 0, 1, 0]\n",
    "    dy = [0, -1, 0, 1]\n",
    "\n",
    "    q = deque([start])\n",
    "    while q:\n",
    "        x, y = q.popleft()\n",
    "        visited[y][x] = 1\n",
    "\n",
    "        for i in range(4):\n",
    "            tx = x + dx[i]\n",
    "            ty = x + dy[i]\n",
    "            if 0 <= tx <= len(graph[0])-1 and 0 <= ty <= len(graph)-1:\n",
    "                if visited[ty][tx] != 1 and graph[ty][tx] != 1:\n",
    "                    q.append((tx, ty))\n",
    "\n",
    "    return visited"
   ]
  },
  {
   "cell_type": "code",
   "execution_count": null,
   "metadata": {},
   "outputs": [],
   "source": [
    "# Depth First Search\n",
    "# 1) 그래프, 시작 노드를 받고 2) 시작 노드 담고 3) while s: 방문 여부 확인하고 인접 노드 담고\n",
    "# 암시적 그래프의 경우, 좌표로 진행\n",
    "\n",
    "# DFS (인접리스트.ver)\n",
    "from collections import deque\n",
    "\n",
    "def dfs(graph, start):\n",
    "    visited = []\n",
    "    s = deque([start])\n",
    "    while s:\n",
    "        curr_node = s.pop()\n",
    "        visited.append(curr_node)\n",
    "\n",
    "        for node in graph[curr_node]:\n",
    "            if node not in visited:\n",
    "                s.append(node)\n",
    "    \n",
    "    return visited\n",
    "\n",
    "# DFS (암시적 그래프.ver)\n",
    "from collections import deque\n",
    "\n",
    "def dfs(graph, start):\n",
    "    visited = [[0]*len(graph[0]) for _ in range(len(graph))]\n",
    "    dx = [-1, 0, 1, 0]\n",
    "    dy = [0, 1, 0, -1]\n",
    "\n",
    "    s = deque([start])\n",
    "    while s:\n",
    "        x, y = s.pop()\n",
    "        visited[y][x] = 1\n",
    "        \n",
    "        # for문에서는 내가 쌓아가는 게 아니라면 +=, -=로 적지 말자.\n",
    "        for i in range(4):\n",
    "            tx = x + dx[i]\n",
    "            ty = y + dy[i]\n",
    "            if 0 <= tx <= len(graph[0])-1 and 0 <= ty <= len(graph)-1:\n",
    "                if visited[ty][tx] != 1 and graph[ty][tx] != 1:\n",
    "                    s.append((tx, ty))\n",
    "    \n",
    "    return visited"
   ]
  },
  {
   "attachments": {},
   "cell_type": "markdown",
   "metadata": {},
   "source": [
    "### **Algorithm**"
   ]
  },
  {
   "attachments": {},
   "cell_type": "markdown",
   "metadata": {},
   "source": [
    "- Binary Search\n",
    "- Dynamic Programming(LIS, Knapsack algorithm)\n",
    "- Shortest Path(Dijkstra, Floyd-Warshall)\n",
    "- Two pointer"
   ]
  },
  {
   "attachments": {},
   "cell_type": "markdown",
   "metadata": {},
   "source": [
    "### Solve Problem\n",
    "\n",
    "$ O(n) > 10^{8}$ 일 경우, 시간 제한 초과할 가능성이 높다. <br> \n",
    "때문에 우선 Big-O notation을 통해 시간복잡도를 확인하고 알고리즘 결정한다.\n",
    "\n",
    "- sort(): O(nlogn)\n",
    "- Hashtable design: O(n), Hashtable search: O(1)\n",
    "- Binary Search: O(logn)\n",
    "- Heap design: O(nlogn), Heappush: O(logn), Heappop: O(logn)"
   ]
  }
 ],
 "metadata": {
  "kernelspec": {
   "display_name": "Python 3",
   "language": "python",
   "name": "python3"
  },
  "language_info": {
   "codemirror_mode": {
    "name": "ipython",
    "version": 3
   },
   "file_extension": ".py",
   "mimetype": "text/x-python",
   "name": "python",
   "nbconvert_exporter": "python",
   "pygments_lexer": "ipython3",
   "version": "3.10.6"
  },
  "orig_nbformat": 4
 },
 "nbformat": 4,
 "nbformat_minor": 2
}
