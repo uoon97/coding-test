{
 "cells": [
  {
   "attachments": {},
   "cell_type": "markdown",
   "metadata": {},
   "source": [
    "### **Data structure**"
   ]
  },
  {
   "attachments": {},
   "cell_type": "markdown",
   "metadata": {},
   "source": [
    "#### **List**"
   ]
  },
  {
   "attachments": {},
   "cell_type": "markdown",
   "metadata": {},
   "source": [
    "```python\n",
    "list = list()\n",
    "list = []\n",
    "list[idx] = element\n",
    "list.append(element)\n",
    "list.insert(idx, element)\n",
    "list.pop(element)\n",
    "list.remove(element)\n",
    "```"
   ]
  },
  {
   "attachments": {},
   "cell_type": "markdown",
   "metadata": {},
   "source": [
    "#### **Linked List**"
   ]
  },
  {
   "attachments": {},
   "cell_type": "markdown",
   "metadata": {},
   "source": [
    "- 데이터의 중간 element의 추가/삭제에 용이하다\n",
    "\n",
    "- Class: 객체지향 프로그래밍\n",
    "\n",
    "- value, next로 구성되어 있는 node가 연결되어 있는 삽입/삭제에 용이한 자료구조 \n",
    "<br> 하지만 이 또한 직접 만들어야 하기 때문에 숙달되지 않으면 시도하지 않는 것이 좋아보임..\n",
    "\n",
    "- while(present.next): present = present.next <br> : next가 없는 node까지 간다.\n",
    "\n",
    "- self.head, self.tail은 new_node에 의해서만 정의되므로, 곧 node를 의미한다.\n",
    "\n",
    "- if not self.head is None: self.tail.next = new_node; self.tail = new_node <br> : self.tail은 가장 마지막에 append한 node. next를 만들고 self.tail을 갱신한다."
   ]
  },
  {
   "attachments": {},
   "cell_type": "markdown",
   "metadata": {},
   "source": [
    "```python\n",
    "class Node:\n",
    "    def __init__(self, value = 0, next = None):\n",
    "        self.value = value\n",
    "        self.next = next\n",
    "\n",
    "first = Node(1) # 1\n",
    "second = Node(2) # 2\n",
    "third = Node(3) # 3\n",
    "fourth = Node(4) # 4\n",
    "\n",
    "first.next = second # 1 -> 2\n",
    "second.next = third # 1 -> 2 -> 3\n",
    "third.next = fourth # 1 -> 2 -> 3 -> 4\n",
    "```"
   ]
  },
  {
   "attachments": {},
   "cell_type": "markdown",
   "metadata": {},
   "source": [
    "```python\n",
    "# only head\n",
    "class Node:\n",
    "    def __init__(self, value = 0, next = None):\n",
    "        self.value = value\n",
    "        self.next = next\n",
    "\n",
    "class LinkedList(object):\n",
    "    def __init__(self):\n",
    "        self.head = None\n",
    "\n",
    "    def append(self, value):\n",
    "        new_node = Node(value)\n",
    "        if self.head is None:\n",
    "            self.head = new_node\n",
    "        else:\n",
    "            present = self.head\n",
    "            while(present.next): \n",
    "                present = present.next\n",
    "            present.next = new_node\n",
    "\n",
    "linkedlist = LinkedList()\n",
    "linkedlist.append(1) # 1\n",
    "linkedlist.append(2) # 1 -> 2\n",
    "linkedlist.append(3) # 1 -> 2 -> 3\n",
    "linkedlist.append(4) # 1 -> 2 -> 3 -> 4\n",
    "```"
   ]
  },
  {
   "attachments": {},
   "cell_type": "markdown",
   "metadata": {},
   "source": [
    "```python\n",
    "# head & tail\n",
    "class Node:\n",
    "    def __init__(self, value = 0, next = None):\n",
    "        self.value = value\n",
    "        self.next = next\n",
    "\n",
    "class LinkedList(object):\n",
    "    def __init__(self):\n",
    "        self.head = None\n",
    "        self.tail = None\n",
    "    \n",
    "    def append(self, value):\n",
    "        new_node = Node(value)\n",
    "        \n",
    "        if self.head is None: \n",
    "            self.head = new_node\n",
    "            self.tail = new_node\n",
    "        else:\n",
    "            self.tail.next = new_node \n",
    "            self.tail = new_node\n",
    "\n",
    "linkedlist = LinkedList()\n",
    "linkedlist.append(1) # 1\n",
    "linkedlist.append(2) # 1 -> 2\n",
    "linkedlist.append(3) # 1 -> 2 -> 3\n",
    "linkedlist.append(4) # 1 -> 2 -> 3 -> 4\n",
    "```"
   ]
  },
  {
   "attachments": {},
   "cell_type": "markdown",
   "metadata": {},
   "source": [
    "```python\n",
    "# Doubly linked list\n",
    "class Node(object):\n",
    "    def __init__(self, value):\n",
    "        self.value = value\n",
    "        self.next = None\n",
    "        self.prev = None\n",
    "\n",
    "class LinkedList(object):\n",
    "    def __init__(self):\n",
    "        self.head = None\n",
    "        self.tail = None\n",
    "    \n",
    "    def append(self, value):\n",
    "        new_node = Node(value)\n",
    "        if self.head is None:\n",
    "            self.head = new_node\n",
    "            self.tail = new_node\n",
    "\n",
    "        else:\n",
    "            self.tail.next = new_node\n",
    "            new_node.prev = self.tail\n",
    "            self.tail = new_node\n",
    "\n",
    "linkedlist = LinkedList()\n",
    "linkedlist.append(1) # 1\n",
    "linkedlist.append(2) # 1 <-> 2\n",
    "linkedlist.append(3) # 1 <-> 2 <-> 3\n",
    "linkedlist.append(4) # 1 <-> 2 <-> 3 <-> 4\n",
    "\n",
    "print(linkedlist.head.value) # 1\n",
    "print(linkedlist.head.next.value) # 2\n",
    "print(linkedlist.tail.value) # 4\n",
    "print(linkedlist.tail.prev.value) # 3\n",
    "\n",
    "# head, tail이 아니라면 한 번에 node를 찾아서 호출을 하는 것은 불가능하다.\n",
    "```"
   ]
  },
  {
   "attachments": {},
   "cell_type": "markdown",
   "metadata": {},
   "source": [
    "deque: doubly linked list based\n",
    "<br> 때문에 직접 구현할 필요는 없다.\n",
    "\n",
    "```python\n",
    "from collections import deque\n",
    "\n",
    "linkedlist = deque() # []\n",
    "linkedlist.append(1) # [1]\n",
    "linkedlist.append(2) # [1, 2]: 1 <-> 2\n",
    "linkedlist.appendleft(0) # [0, 1, 2]: 0 <-> 1 <-> 2\n",
    "\n",
    "linkedlist.popleft(0) # [1, 2]: 1 <-> 2\n",
    "linkedlist.pop() # [1]: 1\n",
    "\n",
    "```"
   ]
  },
  {
   "attachments": {},
   "cell_type": "markdown",
   "metadata": {},
   "source": [
    "#### **Queue**"
   ]
  },
  {
   "attachments": {},
   "cell_type": "markdown",
   "metadata": {},
   "source": [
    "- First In First Out(FIFO)의 자료구조\n",
    "- Breadth First Search(BFS)에 활용된다.\n",
    "- list.pop(0) or deque.popleft()"
   ]
  },
  {
   "attachments": {},
   "cell_type": "markdown",
   "metadata": {},
   "source": [
    "```python\n",
    "queue = []\n",
    "queue.append(1) # [1]\n",
    "queue.append(2) # [1, 2]\n",
    "queue.append(3) # [1, 2, 3]\n",
    "\n",
    "queue.pop(0) # [2, 3]\n",
    "queue.pop(0) # [3]\n",
    "```"
   ]
  },
  {
   "attachments": {},
   "cell_type": "markdown",
   "metadata": {},
   "source": [
    "```python\n",
    "from collections import deque\n",
    "\n",
    "queue = deque() # []\n",
    "queue.append(1) # [1]\n",
    "\n",
    "queue = deque([1]) # [1]\n",
    "queue.append(2) # [1, 2]\n",
    "queue.append(3) # [1, 2, 3]\n",
    "\n",
    "queue.popleft() # [2, 3]\n",
    "queue.popleft() # [3]\n",
    "```"
   ]
  },
  {
   "attachments": {},
   "cell_type": "markdown",
   "metadata": {},
   "source": [
    "```python\n",
    "# Queue의 일반적인 구조.\n",
    "# 1) deque에 담고 2) 꺼내고 3) 인접 노드 다시 deque에 담고\n",
    "\n",
    "queue = deque([node])\n",
    "while queue\n",
    "curr = queue.popleft()\n",
    "\n",
    "if curr.left:\n",
    "    if curr.left not in visited:\n",
    "        queue.append(curr.left)\n",
    "```"
   ]
  },
  {
   "attachments": {},
   "cell_type": "markdown",
   "metadata": {},
   "source": [
    "#### **Stack**"
   ]
  },
  {
   "attachments": {},
   "cell_type": "markdown",
   "metadata": {},
   "source": [
    "- Last In First Out(LIFO)의 자료구조\n",
    "- Depth First Search(DFS)에 활용된다.\n",
    "- list.pop() or deque.pop()"
   ]
  },
  {
   "attachments": {},
   "cell_type": "markdown",
   "metadata": {},
   "source": [
    "```python\n",
    "stack = []\n",
    "stack.append(1) # [1]\n",
    "stack.append(2) # [1, 2]\n",
    "stack.append(3) # [1, 2, 3]\n",
    "\n",
    "stack.pop() # [1, 2]\n",
    "stack.pop() # [1]\n",
    "```"
   ]
  },
  {
   "attachments": {},
   "cell_type": "markdown",
   "metadata": {},
   "source": [
    "```python\n",
    "from collections import deque\n",
    "\n",
    "stack = deque([1]) # [1]\n",
    "stack.append(2) # [1, 2]\n",
    "stack.append(3) # [1, 2, 3]\n",
    "\n",
    "stack.pop() # [1, 2]\n",
    "stack.pop() # [1]\n",
    "```"
   ]
  },
  {
   "attachments": {},
   "cell_type": "markdown",
   "metadata": {},
   "source": [
    "```python\n",
    "\n",
    "# Stack의 일반적인 구조\n",
    "# 1) deque에 담고 2) 꺼내고 3) 인접 노드 다시 deque에 담고\n",
    "\n",
    "stack = deque([node])\n",
    "while stack\n",
    "curr = stack.pop()\n",
    "\n",
    "if curr.right:\n",
    "    if curr.right not in visited:\n",
    "        stack.append(curr.right)\n",
    "\n",
    "```"
   ]
  },
  {
   "attachments": {},
   "cell_type": "markdown",
   "metadata": {},
   "source": [
    "#### **Hash table**"
   ]
  },
  {
   "attachments": {},
   "cell_type": "markdown",
   "metadata": {},
   "source": [
    "- dictionary in python\n",
    "- 저장, 삭제, 검색의 시간복잡도는 모두 O(1)\n",
    "- 순서를 고려할 수는 없음"
   ]
  },
  {
   "attachments": {},
   "cell_type": "markdown",
   "metadata": {},
   "source": [
    "\n",
    "```python\n",
    "\n",
    "dictionary = dict(); dictionary = {}\n",
    "dictionary['key1'] = 'value1'\n",
    "dictionary['key2'] = 'value2'\n",
    "\n",
    "# in\n",
    "'key1' in dictionary # True\n",
    "'key' in dictionary # False\n",
    "\n",
    "# functions\n",
    "dictionary.items() # dict_items([('key1', 'value1'), ('key2', 'value2')])\n",
    "dictionary.keys() # dict_keys(['key1', 'key2'])\n",
    "dictionary.values() # dict_values(['value1', 'value2'])\n",
    "dictionary.get('key1') # 'value1'\n",
    "```"
   ]
  },
  {
   "attachments": {},
   "cell_type": "markdown",
   "metadata": {},
   "source": [
    "##### pythonic code\n",
    "```python\n",
    "# inverse key, value : O(n)\n",
    "inverse = {v: k for k, v in dictionary.items()}\n",
    "\n",
    "# dict comprehension for list values\n",
    "from collections import defaultdict\n",
    "[dictionary[k].append(v) for v in list if v == w]\n",
    "# defaultdict(list, {k: [v1, v2, v3]})\n",
    "```"
   ]
  },
  {
   "attachments": {},
   "cell_type": "markdown",
   "metadata": {},
   "source": [
    "#### **Tree**"
   ]
  },
  {
   "attachments": {},
   "cell_type": "markdown",
   "metadata": {},
   "source": [
    "- root, subtree로 구성된 계층형 비선형 자료구조\n",
    "<br> : 여러 순회 방법이 존재한다.\n",
    "- Vertex: 정점, Edge: 간선\n",
    "- leaf node를 제외하고는 모두 하나 이상의 child node를 갖는다."
   ]
  },
  {
   "attachments": {},
   "cell_type": "markdown",
   "metadata": {},
   "source": [
    "Level-order traversal\n",
    "- root node's level = 0\n",
    "- level별로 순회하기 때문에 queue를 활용한다."
   ]
  },
  {
   "attachments": {},
   "cell_type": "markdown",
   "metadata": {},
   "source": [
    "preorder, inorder, postorder traversal\n",
    "- preorder: root(parent) -> left -> right\n",
    "- inorder: left -> root(parent) -> right\n",
    "- postorder: left -> right -> root(parent)\n",
    "\n",
    "- 한 node를 방문한 시점에서 담을 수 있는 것은 해당 node의 child node뿐이다.\n",
    "<br> pre/in/post-order traversal: Stack\n",
    "<br> level-order traversal: Queue\n",
    "\n",
    "- Tree 자료구조 자체를 만든다고 하면 Class를 사용하는 게 좋고, \n",
    "<br> Traversal을 한다고 하면 Recursion을 사용하는 게 좋아보인다."
   ]
  },
  {
   "attachments": {},
   "cell_type": "markdown",
   "metadata": {},
   "source": [
    "##### **Code of Tree**"
   ]
  },
  {
   "cell_type": "code",
   "execution_count": 75,
   "metadata": {},
   "outputs": [
    {
     "name": "stdout",
     "output_type": "stream",
     "text": [
      "['A', 'B', 'C', 'D', 'E', 'F']\n"
     ]
    }
   ],
   "source": [
    "# level-order traversal\n",
    "from collections import deque\n",
    "\n",
    "class Node:\n",
    "    def __init__(self, value, left = None, right = None, parent = None):\n",
    "        self.value = value\n",
    "        self.left = left\n",
    "        self.right = right\n",
    "        self.parent = parent\n",
    "\n",
    "# 0 -> 1, 2 / 1 -> 3, 4 / 4 -> 5, 6 / 3 -> 7, 8\n",
    "# node가 node끼리 연결이 되어야 한다...\n",
    "\n",
    "tree = ['A', 'B', 'C', 'D', 'E', 'F']\n",
    "\n",
    "for v in tree:\n",
    "    globals()[v] = Node(v)\n",
    "\n",
    "for i, v in enumerate(tree):\n",
    "    if 2*i+1 <= len(tree)-1:\n",
    "        globals()[v].left = globals()[tree[2*i+1]]\n",
    "        globals()[tree[2*i+1]].parent = globals()[v]\n",
    "    if 2*i+2 <= len(tree)-1:\n",
    "        globals()[v].right = globals()[tree[2*i+2]]\n",
    "        globals()[tree[2*i+2]].parent = globals()[v]\n",
    "\n",
    "def level_order(root):\n",
    "    visited = []\n",
    "    if root is None:\n",
    "        return 0\n",
    "    q = deque([root])\n",
    "    while q:\n",
    "        curr_node = q.popleft()\n",
    "        visited.append(curr_node.value)\n",
    "\n",
    "        if curr_node.left:\n",
    "            q.append(curr_node.left)\n",
    "        if curr_node.right:\n",
    "            q.append(curr_node.right)\n",
    "    \n",
    "    return visited\n",
    "\n",
    "print(level_order(globals()[tree[0]]))"
   ]
  },
  {
   "cell_type": "code",
   "execution_count": 15,
   "metadata": {},
   "outputs": [
    {
     "name": "stdout",
     "output_type": "stream",
     "text": [
      "preorder traversal: [0, 1, 3, 7, 8, 4, 9, 10, 2, 5, 11, 6]\n",
      "inorder traversal: [7, 3, 8, 1, 9, 4, 10, 0, 11, 5, 2, 6]\n",
      "postorder traversal: [7, 8, 3, 9, 10, 4, 1, 11, 5, 6, 2, 0]\n"
     ]
    }
   ],
   "source": [
    "# preorder/inorder/postorder traversal\n",
    "\n",
    "# preorder traversal\n",
    "from collections import deque\n",
    "\n",
    "class Node:\n",
    "    def __init__(self, value, left = None, right = None, parent = None):\n",
    "        self.value = value\n",
    "        self.left = left\n",
    "        self.right = right\n",
    "        self.parent = parent\n",
    "\n",
    "tree = list(range(12))\n",
    "\n",
    "for v in tree:\n",
    "    globals()[f'node_{v}'] = Node(v)\n",
    "\n",
    "for v in tree:\n",
    "    if 2*v+1 <= len(tree)-1:\n",
    "        globals()[f'node_{v}'].left = globals()[f'node_{2*v+1}']\n",
    "        globals()[f'node_{2*v+1}'].parent = globals()[f'node_{v}']\n",
    "\n",
    "    if 2*v+2 <= len(tree)-1:\n",
    "        globals()[f'node_{v}'].right = globals()[f'node_{2*v+2}']\n",
    "        globals()[f'node_{2*v+2}'].parent = globals()[f'node_{v}']\n",
    "\n",
    "def preorder_traversal(root_node):\n",
    "    visited = []\n",
    "    if root_node is None:\n",
    "        return False\n",
    "    \n",
    "    s = deque([root_node])\n",
    "    while s:\n",
    "        curr_node = s.pop()\n",
    "        visited.append(curr_node.value)\n",
    "        \n",
    "        if curr_node.right:\n",
    "            s.append(curr_node.right)\n",
    "\n",
    "        if curr_node.left:\n",
    "            s.append(curr_node.left)\n",
    "        \n",
    "\n",
    "    return visited\n",
    "\n",
    "print('preorder traversal:', preorder_traversal(node_0))\n",
    "\n",
    "# inorder traversal\n",
    "visited = []\n",
    "\n",
    "def inorder_traversal(node):\n",
    "    # 종료 조건\n",
    "    if node > len(tree)-1:\n",
    "        return\n",
    "    # Tree의 경우, parent 방향으로 거슬러 올라가지 않는 이상 겹치지 않기 때문에 in visited와 같은 조건을 걸 필요가 없다.\n",
    "    else:\n",
    "        inorder_traversal(node*2+1) # left\n",
    "        visited.append(node) # parent(root)\n",
    "        inorder_traversal(node*2+2) # right\n",
    "        \n",
    "\n",
    "inorder_traversal(0)\n",
    "print('inorder traversal:', visited)\n",
    "\n",
    "# postorder traversal\n",
    "visited = []\n",
    "\n",
    "def postorder_traversal(node):\n",
    "    if node > len(tree)-1:\n",
    "        return\n",
    "    \n",
    "    else:\n",
    "        postorder_traversal(node*2+1) # left\n",
    "        postorder_traversal(node*2+2) # right\n",
    "        visited.append(node) # parent(node)\n",
    "\n",
    "postorder_traversal(0)\n",
    "print('postorder traversal:', visited)\n",
    "\n",
    "# recursion: 항상 종료 조건을 만들어줘야 하며, 같은 작업을 반복하는 것을 잊지 말자.\n",
    "# 이러한 특성 때문에 instance를 return하기 어려워 sort()와 같이 변화를 주는 용도로만 사용해야 한다."
   ]
  },
  {
   "cell_type": "code",
   "execution_count": 81,
   "metadata": {},
   "outputs": [
    {
     "name": "stdout",
     "output_type": "stream",
     "text": [
      "D\n",
      "['D', 'B', 'E', 'A', 'C', 'F']\n"
     ]
    }
   ],
   "source": [
    "# Special Order Traversal (kakao 2022 Blind)\n",
    "# left to right: print(['D', 'B', 'E', 'A', 'F', 'C', 'G'])\n",
    "from collections import deque\n",
    "\n",
    "tree = ['A', 'B', 'C', 'D', 'E', 'F', 'G']\n",
    "\n",
    "def find_start(list):\n",
    "    num = len(list)\n",
    "    i = 0\n",
    "    while 2**i <= num:\n",
    "        i += 1\n",
    "    return globals()[tree[2**(i-1)-1]]\n",
    "    \n",
    "def special_order(node):\n",
    "    visited = []\n",
    "    if node is None:\n",
    "        return 0\n",
    "    \n",
    "    q = deque([node])\n",
    "    while q:\n",
    "        curr_node = q.popleft()\n",
    "        if curr_node.value not in visited:\n",
    "            visited.append(curr_node.value)\n",
    "        \n",
    "        if curr_node.left:\n",
    "            if curr_node.left.value not in visited:\n",
    "                q.append(curr_node.left)\n",
    "        \n",
    "        if curr_node.right:\n",
    "            if curr_node.right.value not in visited:\n",
    "                q.append(curr_node.right)\n",
    "\n",
    "        if curr_node.parent: \n",
    "            if curr_node.parent.value not in visited:\n",
    "                q.append(curr_node.parent)\n",
    "    \n",
    "    return visited\n",
    "\n",
    "print(find_start(tree).value)\n",
    "print(special_order(find_start(tree)))"
   ]
  },
  {
   "cell_type": "code",
   "execution_count": null,
   "metadata": {},
   "outputs": [],
   "source": [
    "# Implementation of Tree\n",
    "nodes = [3, 5, 1, 6, 2, 0, 8, None, None, 7, 4]\n",
    "idx_dict = {}\n",
    "val_dict = {}\n",
    "\n",
    "class Node:\n",
    "    def __init__(self, val, parent = None, left = None, right = None):\n",
    "        self.val = val\n",
    "        self.parent = parent\n",
    "        self.left = left\n",
    "        self.right = right\n",
    "\n",
    "class Tree:\n",
    "    def __init__(self, root):\n",
    "        self.root = Node(root)\n",
    "        self.index = 0\n",
    "        idx_dict[self.index] = self.root\n",
    "        val_dict[root] = self.root\n",
    "           \n",
    "    def append(self, val):\n",
    "        self.index += 1\n",
    "        if val is None:\n",
    "            return\n",
    "\n",
    "        if (self.index-1)/2 == int((self.index-1)/2):\n",
    "            parent_idx = int((self.index-1)/2)\n",
    "            parent_node = idx_dict[parent_idx]\n",
    "            idx_dict[self.index] = val_dict[val] = parent_node.left = Node(val)\n",
    "            parent_node.left.parent = parent_node\n",
    "            \n",
    "        else:\n",
    "            parent_idx = int((self.index-2)/2)\n",
    "            parent_node = idx_dict[parent_idx]\n",
    "            idx_dict[self.index] = val_dict[val] = parent_node.right = Node(val)\n",
    "            parent_node.right.parent = parent_node\n",
    "\n",
    "        return"
   ]
  },
  {
   "attachments": {},
   "cell_type": "markdown",
   "metadata": {},
   "source": [
    "#### **Graph**"
   ]
  },
  {
   "attachments": {},
   "cell_type": "markdown",
   "metadata": {},
   "source": [
    "- vertex, edge들의 집합으로 구성된 자료구조\n",
    "- 출제 빈도: 인접 행렬 < 인접 리스트 < 암시적 그래프"
   ]
  },
  {
   "attachments": {},
   "cell_type": "markdown",
   "metadata": {},
   "source": [
    "인접 행렬\n",
    "```python\n",
    "matrix = [\n",
    "    [0, 1, 0, 0, 0, 0],\n",
    "    [1, 0, 1, 0, 1, 0],\n",
    "    [0, 1, 0, 1, 0, 0],\n",
    "    [0, 0, 1, 0, 1, 1],\n",
    "    [0, 1, 0, 1, 0, 1],\n",
    "    [0, 0, 0, 1, 1, 0]\n",
    "]\n",
    "```\n",
    "인접 리스트\n",
    "```python\n",
    "from collections import defaultdict\n",
    "\n",
    "nodes = ['A', 'B', 'C', 'D', 'E', 'F']\n",
    "\n",
    "graph = defaultdict(list)\n",
    "{graph[nodes[i]].append(nodes[j]) \n",
    " for i in range(len(matrix))\n",
    " for j in range(len(matrix[i]))\n",
    " if matrix[i][j] == 1}\n",
    "\n",
    "print(graph) \n",
    "# graph = {\n",
    "# \"A\": [\"B\"],\n",
    "# \"B\": [\"A\", \"C\", \"E\"],\n",
    "# \"C\": [\"B\", \"D\"],\n",
    "# \"D\": [\"C\", \"E\", \"F\"],\n",
    "# \"E\": [\"B\", \"D\", \"F\"],\n",
    "# \"F\": [\"D\", \"E\"],\n",
    "# }\n",
    "```"
   ]
  },
  {
   "attachments": {},
   "cell_type": "markdown",
   "metadata": {},
   "source": [
    "암시적 그래프 (지도 그래프)\n",
    "- 인접리스트, 인접행렬과 다르게 연결 관계가 명시되어 있지 않고, 상하좌우로 연결되어 있음.\n",
    "```python\n",
    "graph = [\n",
    "    [1, 1, 1, 1, 1],\n",
    "    [0, 0, 0, 1, 1],\n",
    "    [1, 1, 0, 1, 1],\n",
    "    [1, 0, 0, 0, 0],\n",
    "    [1, 1, 1, 1, 1]\n",
    "]\n",
    "\n",
    "# graph traversal: BFS & DFS\n",
    "# Tree traversal과 다르게, 중복의 가능성이 존재한다.\n",
    "# 별개로, traversal에서 queue, stack을 사용하는 이유는 한 개만 추출에서 작업을 진행하기 때문.\n",
    "```"
   ]
  },
  {
   "cell_type": "code",
   "execution_count": null,
   "metadata": {},
   "outputs": [],
   "source": [
    "# Breadth First Search\n",
    "# 1) 그래프, 시작 노드를 받고 2) 시작 노드 담고 3) while q: 방문 여부 확인하고 인접 노드 담고\n",
    "# 암시적 그래프의 경우, 좌표로 진행\n",
    "# BFS (인접리스트.ver)\n",
    "from collections import deque\n",
    "\n",
    "def bfs(graph, start):\n",
    "    visited = []\n",
    "    q = deque([start])\n",
    "    while q:\n",
    "        curr_node = q.popleft()\n",
    "        visited.append(curr_node)\n",
    "\n",
    "        for node in graph[curr_node]:\n",
    "            if node not in visited:\n",
    "                q.append(node)\n",
    "    \n",
    "    return visited\n",
    "\n",
    "# BFS (암시적 그래프.ver)\n",
    "# 암시적 그래프의 경우, 일반적으로 queue를 좌표로 받고 좌표를 통해 담도록 한다..\n",
    "# 또한 그래프 내 좌표가 크게 의미 있지는 않음. 때문에 보통 graph의 방문 여부를 담도록 한다.\n",
    "from collections import deque\n",
    "\n",
    "def bfs(graph, start):\n",
    "    visited = [[0]*graph[0] for _ in range(len(graph))]\n",
    "    dx = [-1, 0, 1, 0]\n",
    "    dy = [0, -1, 0, 1]\n",
    "\n",
    "    q = deque([start])\n",
    "    while q:\n",
    "        x, y = q.popleft()\n",
    "        visited[y][x] = 1\n",
    "\n",
    "        for i in range(4):\n",
    "            tx = x + dx[i]\n",
    "            ty = x + dy[i]\n",
    "            if 0 <= tx <= len(graph[0])-1 and 0 <= ty <= len(graph)-1:\n",
    "                if visited[ty][tx] != 1 and graph[ty][tx] != 1:\n",
    "                    q.append((tx, ty))\n",
    "\n",
    "    return visited"
   ]
  },
  {
   "cell_type": "code",
   "execution_count": null,
   "metadata": {},
   "outputs": [],
   "source": [
    "# Depth First Search\n",
    "# 1) 그래프, 시작 노드를 받고 2) 시작 노드 담고 3) while s: 방문 여부 확인하고 인접 노드 담고\n",
    "# 암시적 그래프의 경우, 좌표로 진행\n",
    "\n",
    "# DFS (인접리스트.ver)\n",
    "from collections import deque\n",
    "\n",
    "def dfs(graph, start):\n",
    "    visited = []\n",
    "    s = deque([start])\n",
    "    while s:\n",
    "        curr_node = s.pop()\n",
    "        visited.append(curr_node)\n",
    "\n",
    "        for node in graph[curr_node]:\n",
    "            if node not in visited:\n",
    "                s.append(node)\n",
    "    \n",
    "    return visited\n",
    "\n",
    "# DFS (암시적 그래프.ver)\n",
    "from collections import deque\n",
    "\n",
    "def dfs(graph, start):\n",
    "    visited = [[0]*len(graph[0]) for _ in range(len(graph))]\n",
    "    dx = [-1, 0, 1, 0]\n",
    "    dy = [0, 1, 0, -1]\n",
    "\n",
    "    s = deque([start])\n",
    "    while s:\n",
    "        x, y = s.pop()\n",
    "        visited[y][x] = 1\n",
    "        \n",
    "        # for문에서는 내가 쌓아가는 게 아니라면 +=, -=로 적지 말자.\n",
    "        for i in range(4):\n",
    "            tx = x + dx[i]\n",
    "            ty = y + dy[i]\n",
    "            if 0 <= tx <= len(graph[0])-1 and 0 <= ty <= len(graph)-1:\n",
    "                if visited[ty][tx] != 1 and graph[ty][tx] != 1:\n",
    "                    s.append((tx, ty))\n",
    "    \n",
    "    return visited"
   ]
  },
  {
   "attachments": {},
   "cell_type": "markdown",
   "metadata": {},
   "source": [
    "#### **heap**"
   ]
  },
  {
   "attachments": {},
   "cell_type": "markdown",
   "metadata": {},
   "source": [
    "- 넣는 순서와 상관없이 가장 낮은 값을 추출하도록 설계되어 있는 자료구조\n",
    "- 최대힙을 쓰고 싶을 경우에는 음수로 처리해 담고, 음수로 처리해 추출하도록 해야한다."
   ]
  },
  {
   "cell_type": "code",
   "execution_count": null,
   "metadata": {},
   "outputs": [
    {
     "name": "stdout",
     "output_type": "stream",
     "text": [
      "9 8 7 6 5 4 3 2 1 \n",
      "1 2 3 4 5 6 7 8 9 "
     ]
    }
   ],
   "source": [
    "import heapq\n",
    "\n",
    "max_heap = []\n",
    "min_heap = []\n",
    "lst = [3, 2, 1, 6, 4, 9, 7, 8, 5]\n",
    "for i in lst:\n",
    "    heapq.heappush(max_heap, -i)\n",
    "    heapq.heappush(min_heap, i)\n",
    "\n",
    "for _ in lst:\n",
    "    print(heapq.heappop(max_heap)*(-1), end = \" \")\n",
    "\n",
    "print()\n",
    "\n",
    "for _ in lst:\n",
    "    print(heapq.heappop(min_heap), end = \" \")\n"
   ]
  },
  {
   "attachments": {},
   "cell_type": "markdown",
   "metadata": {},
   "source": [
    "### **Algorithm**"
   ]
  },
  {
   "attachments": {},
   "cell_type": "markdown",
   "metadata": {},
   "source": [
    "#### **Two Pointer**"
   ]
  },
  {
   "attachments": {},
   "cell_type": "markdown",
   "metadata": {},
   "source": [
    "- 정렬된 상태, 오름차순이라는 상황을 가정해야 한다.\n",
    "- sort(): O(NlogN)\n",
    "- 왼쪽의 포인터는 two sum이 target보다 작을 때, 오른쪽으로 한 칸 이동시킨다.\n",
    "- 오른쪽의 포인터는 two sum이 target보다 클 때, 왼쪽으로 한 칸 이동시킨다.\n",
    "- 포인터의 동시 이동은 불가능하다.\n",
    "- 포인터의 이동은 곧 리스트에서의 조합 중 가장 근처 조합으로 바꾸는 것이라 생각하면 된다."
   ]
  },
  {
   "attachments": {},
   "cell_type": "markdown",
   "metadata": {},
   "source": [
    "- .1) left, right 설정해주고, 2) left가 right보다 작을 때까지 while문 정해주고 <br> 3) 조건문에 따라 포인터 이동시켜주고\n",
    "\n",
    "```py\n",
    "def two_pointer(list):\n",
    "    new_list = sorted(list)\n",
    "    left, right = 0, len(new_list)-1\n",
    "\n",
    "    while left < right:\n",
    "        new_sum = new_list[left] + new_list[right]\n",
    "\n",
    "        if new_sum > target:\n",
    "            right -= 1\n",
    "\n",
    "        if new_sum < target:\n",
    "            left += 1\n",
    "        \n",
    "        if new_sum == target:\n",
    "            return True\n",
    "\n",
    "    return False\n",
    "```"
   ]
  },
  {
   "attachments": {},
   "cell_type": "markdown",
   "metadata": {},
   "source": [
    "#### **Binary Search**"
   ]
  },
  {
   "attachments": {},
   "cell_type": "markdown",
   "metadata": {},
   "source": [
    "1. 정렬하고\n",
    "2. 인덱스 가운데를 기준으로 어떤 인덱스를 볼 것인지 결정한다.\n",
    "\n",
    "```py\n",
    "def binary_search(target, arr):\n",
    "\n",
    "    arr.sort()\n",
    "    start = 0\n",
    "    end = len(arr)-1\n",
    "\n",
    "    while start <= end:\n",
    "        mid = (start + end)//2\n",
    "\n",
    "        if arr[mid] < target:\n",
    "            start = mid + 1\n",
    "\n",
    "        if arr[mid] > target:\n",
    "            end = mid - 1\n",
    "        \n",
    "        if arr[mid] == target:\n",
    "            return mid\n",
    "        \n",
    "    return -1\n",
    "```"
   ]
  },
  {
   "attachments": {},
   "cell_type": "markdown",
   "metadata": {},
   "source": [
    "이진 탐색 문제 특징\n",
    "- Input이 매우 크다. O(logN)이 아니라면 풀 수 없는 수준.\n",
    "- iter을 거칠수록 값이 꺾임 없이 증가, 혹은 감소한다.\n",
    "```py\n",
    "# 적어도 M\n",
    "# N = 10^6, M = 2*10^9 -> 수정(N): O(N) 탐색(M): O(logN)\n",
    "# sum([ricecake - cut if ricecake > cut else 0 for ricecake in ricecakes])\n",
    "# 최대 길이.. \n",
    "\n",
    "# cut -> 떡의 길이는 꾸준히 감소. (증가는 없음.)\n",
    "# target: 떡의 길이.\n",
    "def binary_search(target, arr):\n",
    "    start = 0\n",
    "    end = max(arr)\n",
    "    \n",
    "    while start <= end:\n",
    "        mid = (start + end)//2\n",
    "        cutting = sum([r - mid if r > mid else 0 for r in arr])\n",
    "\n",
    "        if cutting < target:\n",
    "            end = mid - 1\n",
    "        \n",
    "        else:\n",
    "            start = mid + 1\n",
    "\n",
    "    return mid\n",
    "\n",
    "arr = [19, 15, 10, 17]\n",
    "target = 6\n",
    "binary_search(target, arr)\n",
    "```"
   ]
  },
  {
   "attachments": {},
   "cell_type": "markdown",
   "metadata": {},
   "source": [
    "#### **Dynamic Programming**"
   ]
  },
  {
   "attachments": {},
   "cell_type": "markdown",
   "metadata": {},
   "source": [
    "- 복잡한 문제를 하위 문제의 반복으로 단순화한다.\n",
    "<br> 해당 단계를 단순화, 패턴화한다: Overlapping Subproblem\n",
    "- Top down/Bottom up 방식이 존재하며, 각각 Recursion, for loop를 사용한다.\n",
    "- Memoization을 활용하면 메모리를 다소 사용하지만 훨씬 빠른 시간복잡도를 갖게 된다.\n",
    "<br> 이 때 Memoization은 Hash Table, 즉 dictionary를 사용한다.\n",
    "\n",
    "- 문제는 일반적으로 완전탐색과 함께 최소, 최대, 경우의 수 문제 등이 나오는데 <br>\n",
    "**해당 단계가 어떻게 구해지는지, 첫 스타트를 어떻게 할 것인지만 고려하도록 하자.** \n",
    "\n",
    "- memoization은 Back-tracking으로 이해하자. 결국에는 Down까지 내려갔다가 Top으로 돌아와서 계산되는 형태인데, Down에서 Hash에 담으면 계산이 빨라진다.\n",
    "\n",
    "- tablization은 hash 계산을 그대로 진행하면 된다. 시작이 Bottom이기 때문에 hash로 불러와도 <br> 해당 key가 존재하지 않아 발생하는 오류는 나타나지 않는다."
   ]
  },
  {
   "attachments": {},
   "cell_type": "markdown",
   "metadata": {},
   "source": [
    "```py\n",
    "memo = {}\n",
    "def dp(n):\n",
    "    if n == 0 or n == 1:\n",
    "        memo[n] = n\n",
    "        return memo[n]\n",
    "\n",
    "    else:\n",
    "        if n not in memo:\n",
    "            memo[n] = dp(n-1) + dp(n-2)\n",
    "        \n",
    "        return memo[n]\n",
    "```"
   ]
  },
  {
   "attachments": {},
   "cell_type": "markdown",
   "metadata": {},
   "source": [
    "- memoization의 경우, 복잡하게 생각할 것 없이 비교 대상(for loop)를 매번 갱신하면 된다.\n",
    "- e.g. f(n) = max(f(n-1) + f(n-2) + ... f(0))\n",
    "- Bottom-up의 경우, memo[n] = max(memo[n], memo[n-i] + value[i]) if n-i >= 0\n",
    "- Top-down의 경우, memo[n] = max(max_value, dp(n-i) + value[i]) if n-i >= 0"
   ]
  },
  {
   "attachments": {},
   "cell_type": "markdown",
   "metadata": {},
   "source": [
    "##### **Longest Increasing Subsequence(LIS)**"
   ]
  },
  {
   "attachments": {},
   "cell_type": "markdown",
   "metadata": {},
   "source": [
    "```py\n",
    "# 해당 인덱스까지 슬라이싱했을 때, 해당 값보다 작은 인덱스들의 최대증가수열 + 1.. O(n^2)\n",
    "arr = [5, 3, 7, 8, 6, 2, 9, 4]\n",
    "\n",
    "memo = {}\n",
    "big_O = 0\n",
    "def LIS(arr):\n",
    "    LIS_sub = []\n",
    "\n",
    "    for i in range(len(arr)):\n",
    "        if i == 0:\n",
    "            memo[0] = 1\n",
    "            continue\n",
    "\n",
    "        subsequences = [(idx, val) for idx, val in enumerate(arr[:i]) if val < arr[i]]\n",
    "        \n",
    "\n",
    "        max_value = 0\n",
    "        for idx, sub in subsequences:\n",
    "            value = memo[idx] + 1\n",
    "            max_value = max(max_value, value)\n",
    "\n",
    "        memo[i] = max_value\n",
    "        LIS_sub.append(memo[i])\n",
    "\n",
    "    return max(LIS_sub)\n",
    "\n",
    "arr = range(1, 10000)\n",
    "LIS(arr)\n",
    "```"
   ]
  },
  {
   "attachments": {},
   "cell_type": "markdown",
   "metadata": {},
   "source": [
    "##### **Knapsack Problem**"
   ]
  },
  {
   "attachments": {},
   "cell_type": "markdown",
   "metadata": {},
   "source": [
    "```py\n",
    "# 마찬가지로, DP이므로 f(n)이 어떻게 계산되는지만 신경쓰도록 하자.\n",
    "# knapsack problem은 무게(1d) 제한이 존재하며, 이 무게가 DP(점화식)의 대상.\n",
    "# f(n) = max(f(n-weight_{i})+value[n]) : weight_{i} = n-weight_{i} > 0\n",
    "# 이전 무게가 0 이상인 경우끼리만 비교를 수행한다.\n",
    "\n",
    "# Top-down: Recursion이므로 Terminate condition 설정 필요\n",
    "memo = {}\n",
    "def knapsack(n):\n",
    "    if n < jewelry[0][0]:\n",
    "        return 0\n",
    "       \n",
    "    if n not in memo:\n",
    "        memo[n] = max([knapsack(n-weight) + value for weight, value in jewelry if n - weight >= 0])\n",
    "    \n",
    "    return memo[n]\n",
    "\n",
    "# Bottom-up\n",
    "def knapsack(n, jewerly):\n",
    "    memo = [0]*(n+1)\n",
    "    for wl in range(1, n+1):\n",
    "        for w, v in jewerly:\n",
    "            if wl - w < 0:\n",
    "                continue                \n",
    "            memo[wl] = max(memo[wl], memo[wl-w] + v)\n",
    "    return memo[n]\n",
    "```\n"
   ]
  },
  {
   "attachments": {},
   "cell_type": "markdown",
   "metadata": {},
   "source": [
    "##### **<span style=\"color:IndianRed\">Summary DP Algorithm</span>**\n"
   ]
  },
  {
   "attachments": {},
   "cell_type": "markdown",
   "metadata": {},
   "source": [
    "- LIS: 해당 인덱스보다 작은 값들의 value를 비교 후 최대값 계산.\n",
    "- Knapsack: 해당 무게보다 작은 값들의 value를 비교\n",
    "- 점화식으로 따지자면 f(n) = max(f(n-i) for i in range(1, n))으로,\n",
    "<br> 기존 Dynamic Programming의 점화식의 형태 차이이다.\n",
    "\n",
    "때문에 구조는 기존 DP와 같이, \n",
    "1. 종료 조건 설정\n",
    "2. 점화식 수립\n",
    "3. memoization 설정(Top-down or Bottom-up)\n",
    "<br> Top-down: Recursion, memo = dict\n",
    "<br> Bottom-up: for loop, memo = [0]*n\n",
    "<br> loop에서 value를 더할 경우, 조건에 맞지 않더라도 더해질 수 있다. \n",
    "<br> 때문에 if로 아예 조건에 안맞으면 계산을 안하도록 방지해야한다.\n",
    "4. return memo[n]\n"
   ]
  },
  {
   "attachments": {},
   "cell_type": "markdown",
   "metadata": {},
   "source": [
    "#### **Shortest Path**"
   ]
  },
  {
   "attachments": {},
   "cell_type": "markdown",
   "metadata": {},
   "source": [
    "##### **Floyd-Warshall Algorithm**\n"
   ]
  },
  {
   "attachments": {},
   "cell_type": "markdown",
   "metadata": {},
   "source": [
    "```py\n",
    "# 한 지점에서 다른 특정 지점까지의 최단 경로를 구해야 하는 경우\n",
    "# 인접행렬에서 시작한다.\n",
    "# 점화식 사용. min(distance[i][j], distance[i][k] + distance[k][j])\n",
    "# 거쳐가는 것이 빠른지 거치지 않고 가는 것이 빠른지.\n",
    "\n",
    "n = 4\n",
    "costs = [[0,1,1],[0,2,2],[1,2,5],[1,3,1],[2,3,8]]\n",
    "# costs = [[0,1,4],[0,3,6],[1,0,3],[1,2,7],[2,0,7],[2,3,4],[3,2,2]]\n",
    "\n",
    "distance = [[9999]*n for _ in range(n)]\n",
    "for cost in costs:\n",
    "    distance[cost[0]][cost[1]] = cost[2]\n",
    "    distance[cost[1]][cost[0]] = cost[2]\n",
    "\n",
    "for i in range(n):\n",
    "    distance[i][i] = 0\n",
    "\n",
    "for dist in distance:\n",
    "    print(dist)\n",
    "\n",
    "for k in range(n):\n",
    "    for i in range(n):\n",
    "        for j in range(n):\n",
    "            distance[i][j] = min(distance[i][j], distance[i][k] + distance[k][j])\n",
    "\n",
    "```"
   ]
  },
  {
   "attachments": {},
   "cell_type": "markdown",
   "metadata": {},
   "source": [
    "#### **Graph Theory**"
   ]
  },
  {
   "attachments": {},
   "cell_type": "markdown",
   "metadata": {},
   "source": [
    "##### **Topological Sort**"
   ]
  },
  {
   "attachments": {},
   "cell_type": "markdown",
   "metadata": {},
   "source": [
    "- 일의 선후관계가 복잡하게 얽혀있을 때, \n",
    "<br> 선후관계를 유지하면서 전체 일의 순서를 짜는 알고리즘\n"
   ]
  },
  {
   "attachments": {},
   "cell_type": "markdown",
   "metadata": {},
   "source": [
    "```py\n",
    "# Topological sort with BFS\n",
    "# 진입 차수를 담고, \n",
    "# 진입차수가 0인 작업을 Queue에 담는다.\n",
    "# popleft()한 작업의 후작업을 차감시킨다.\n",
    "from collections import deque, defaultdict\n",
    "\n",
    "n = 6\n",
    "tasks = [[1, 4], [5, 4], [4, 3], [2, 5], [2, 3], [6, 2]]\n",
    "\n",
    "task_dict = defaultdict(list)\n",
    "{task_dict[k].append(v) for k, v in tasks}\n",
    "\n",
    "enter_dict = {i: 0 for i in range(1, n+1)}\n",
    "for pre, post in tasks:\n",
    "    enter_dict[post] += 1\n",
    "\n",
    "q = deque([])\n",
    "for key in enter_dict.keys():\n",
    "    if enter_dict[key] == 0:\n",
    "        q.append(key)\n",
    "\n",
    "result = []\n",
    "visited = [0]*(n+1)\n",
    "while q:    \n",
    "    curr_task = q.popleft()\n",
    "    visited[curr_task] = 1\n",
    "    for next_task in task_dict[curr_task]:\n",
    "        enter_dict[next_task] -= 1\n",
    "\n",
    "    for key in enter_dict.keys():\n",
    "        if enter_dict[key] == 0:\n",
    "            if visited[key] == 0 and key not in q:\n",
    "                q.append(key)\n",
    "\n",
    "    result.append(curr_task)\n",
    "\n",
    "result\n",
    "\n",
    "```"
   ]
  },
  {
   "attachments": {},
   "cell_type": "markdown",
   "metadata": {},
   "source": [
    "##### **Kruskal Algorithm**\n"
   ]
  },
  {
   "attachments": {},
   "cell_type": "markdown",
   "metadata": {},
   "source": [
    "- 비용을 최소로 하는 그래프 연결\n",
    "- find spanning Tree(: subgraph that include all node in graph with no cycle)\n",
    "- 서로소 부분 집합들로 나누어진 원소들의 데이터를 처리하기 위한 자료구조(union-find)를 활용한다."
   ]
  },
  {
   "attachments": {},
   "cell_type": "markdown",
   "metadata": {},
   "source": [
    "```py\n",
    "# 가장 거리가 짧은 간선부터 집합에 추가하며, 사이클을 발생시키는 간선일 경우 제외한다.\n",
    "# 사이클 발생 여부 확인(find_parent) -> 집합에 추가(union_parent)\n",
    "\n",
    "# find parent node with recursion if node isn't root node\n",
    "def find_parent(parent, node):\n",
    "    if parent[node] != node:\n",
    "        parent[node] = find_parent(parent, parent[node])\n",
    "    \n",
    "    return parent[node]\n",
    "\n",
    "# set small idx to large idx's parent node\n",
    "# find_parent를 통해 조상끼리 연결해준다. 그럼 결국에는 모든 연결된 노드가 최초 조상으로 올라가게 된다.\n",
    "def union_parent(parent, a, b):\n",
    "    a = find_parent(parent, a)\n",
    "    b = find_parent(parent, b)\n",
    "\n",
    "    if a < b:\n",
    "        parent[b] = a\n",
    "\n",
    "    else:\n",
    "        parent[a] = b\n",
    "\n",
    "n = 4\n",
    "costs = [[0,1,1],[0,2,2],[1,2,5],[1,3,1],[2,3,8]]\n",
    "\n",
    "def kruskal(n, costs):\n",
    "    parent = [i for i in range(n)]\n",
    "    costs.sort(key = lambda x: x[2])\n",
    "    total_cost = 0\n",
    "    for a, b, cost in costs:\n",
    "        if find_parent(parent, a) != find_parent(parent, b):\n",
    "            total_cost += cost\n",
    "            union_parent(parent, a, b)\n",
    "    \n",
    "    return total_cost\n",
    "\n",
    "kruskal(n, costs)\n",
    "```"
   ]
  },
  {
   "attachments": {},
   "cell_type": "markdown",
   "metadata": {},
   "source": [
    "### **Tips**"
   ]
  },
  {
   "attachments": {},
   "cell_type": "markdown",
   "metadata": {},
   "source": [
    "#### **Binary**\n",
    "```py\n",
    "# 10진수 -> 2진수\n",
    "bin(number)\n",
    "\n",
    "# 2진수 -> 10진수\n",
    "int(binary, 2)\n",
    "```"
   ]
  },
  {
   "attachments": {},
   "cell_type": "markdown",
   "metadata": {},
   "source": [
    "#### **Ascii code**\n",
    "```py\n",
    "# letter -> Ascii code\n",
    "ord(letter)\n",
    "\n",
    "# Ascii code -> letter\n",
    "chr(ascii_code)\n",
    "```"
   ]
  },
  {
   "attachments": {},
   "cell_type": "markdown",
   "metadata": {},
   "source": [
    "#### **Prime number**\n",
    "```py\n",
    "# 에스토스테네스의 체\n",
    "# 2부터 제곱근까지의 값을 각각 배수하여 걸러낸다. \n",
    "import math\n",
    "def prime_list(number):\n",
    "    prime_lst = set(range(2, number+1))\n",
    "    for i in range(2, int(math.sqrt(number))+1):\n",
    "        prime_lst -= set(range(2*i, number+1, i))\n",
    "    return prime_lst\n",
    "\n",
    "def is_prime(number):\n",
    "    for i in range(2, int(math.sqrt(number))+1):\n",
    "        if number in range(2*i, number+1, i):\n",
    "            return False\n",
    "    return True\n",
    "\n",
    "```"
   ]
  },
  {
   "attachments": {},
   "cell_type": "markdown",
   "metadata": {},
   "source": [
    "#### **Permutation, Combination**\n",
    "```py\n",
    "from itertools import permutations, combinations\n",
    "\n",
    "# tuples\n",
    "perms = permutations(list, n)\n",
    "combs = combinations(list, n)\n",
    "\n",
    "```"
   ]
  },
  {
   "attachments": {},
   "cell_type": "markdown",
   "metadata": {},
   "source": [
    "#### **reverse list**\n",
    "```py\n",
    "reverse_lst = lst[::-1]\n",
    "```"
   ]
  },
  {
   "attachments": {},
   "cell_type": "markdown",
   "metadata": {},
   "source": [
    "#### **String**\n",
    "```py\n",
    "# 대, 소문자\n",
    "str.upper()\n",
    "str.lower()\n",
    "str.isupper()\n",
    "str.islower()\n",
    "\n",
    "# 구분자\n",
    "str.split('delimiter')\n",
    "'delimiter'.join(str)\n",
    "\n",
    "# find\n",
    "str.find(letter, start_idx, end_idx) # 처음 나타나는 위치, 없을 경우: return -1\n",
    "str.index(letter, start_idx, end_idx) # 처음 나타나는 위치, 없을 경우: Attribute Error\n",
    "\n",
    "# 값 제거\n",
    "# 주로 공백에 활용\n",
    "str.strip(value)\n",
    "str.lstrip(value)\n",
    "str.rstrip(value)\n",
    "\n",
    "# 특정 문자로 시작, 끝 체크\n",
    "str.startswith(start)\n",
    "str.endswith(end)\n",
    "# print True or False\n",
    "```"
   ]
  }
 ],
 "metadata": {
  "kernelspec": {
   "display_name": "Python 3",
   "language": "python",
   "name": "python3"
  },
  "language_info": {
   "codemirror_mode": {
    "name": "ipython",
    "version": 3
   },
   "file_extension": ".py",
   "mimetype": "text/x-python",
   "name": "python",
   "nbconvert_exporter": "python",
   "pygments_lexer": "ipython3",
   "version": "3.10.6"
  },
  "orig_nbformat": 4
 },
 "nbformat": 4,
 "nbformat_minor": 2
}
