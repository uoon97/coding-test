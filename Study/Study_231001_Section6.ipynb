{
 "cells": [
  {
   "cell_type": "code",
   "execution_count": 13,
   "metadata": {},
   "outputs": [
    {
     "name": "stdout",
     "output_type": "stream",
     "text": [
      "1011\n"
     ]
    }
   ],
   "source": [
    "# 1. 재귀함수를 이용한 이진수 출력\n",
    "\n",
    "# 32 = 100000(2)\n",
    "# i = 5\n",
    "# level = -1 -> level = 5\n",
    "\n",
    "def solution():\n",
    "\n",
    "    N = int(input())\n",
    "\n",
    "    i = 0\n",
    "    while True:\n",
    "        if N <= (2**i)-1:\n",
    "            break\n",
    "        i += 1\n",
    "\n",
    "    def recursion(level, value, binaries):\n",
    "        if level == i:\n",
    "            if value == N:\n",
    "                print(''.join(list(map(str, binaries))[::-1]))\n",
    "            return\n",
    "        \n",
    "        recursion(level + 1, value, binaries + [0])\n",
    "        recursion(level + 1, value + 2**(level), binaries + [1])\n",
    "\n",
    "    res = recursion(0, 0, [])\n",
    "\n",
    "solution()"
   ]
  },
  {
   "cell_type": "code",
   "execution_count": 3,
   "metadata": {},
   "outputs": [
    {
     "name": "stdout",
     "output_type": "stream",
     "text": [
      "[4, 2, 5, 1, 6, 3, 7]\n"
     ]
    }
   ],
   "source": [
    "# 2. 이진트리 순회(깊이우선탐색)\n",
    "n = int(input())\n",
    "visited = []\n",
    "\n",
    "def dfs(start):\n",
    "    \n",
    "    if start > n:\n",
    "        return\n",
    "    \n",
    "    dfs(2*start)\n",
    "    visited.append(start)\n",
    "    dfs(2*start+1)\n",
    "\n",
    "dfs(1)\n",
    "print(visited)\n"
   ]
  },
  {
   "cell_type": "code",
   "execution_count": 13,
   "metadata": {},
   "outputs": [
    {
     "name": "stdout",
     "output_type": "stream",
     "text": [
      "1 2 3 \n",
      "1 2 \n",
      "1 3 \n",
      "1 \n",
      "2 3 \n",
      "2 \n",
      "3 \n",
      "\n"
     ]
    }
   ],
   "source": [
    "# 3. 부분집합 구하기(DFS)\n",
    "# 3, 2, (2, 3), 1, (1, 3), (1, 2)\n",
    "# i 이상의 원소 pop\n",
    "\n",
    "from collections import deque\n",
    "\n",
    "def solution():\n",
    "\n",
    "    n = int(input())\n",
    "    ch = [0]*(n+1)\n",
    "    def dfs(v):\n",
    "        if v == n + 1:\n",
    "            for i in range(1, n+1):\n",
    "                if ch[i] == 1:\n",
    "                    print(i, end = ' ')\n",
    "            print()\n",
    "\n",
    "        else:\n",
    "            ch[v] = 1\n",
    "            dfs(v+1)\n",
    "            ch[v] = 0\n",
    "            dfs(v+1)\n",
    "\n",
    "    dfs(1)\n",
    "solution()"
   ]
  },
  {
   "cell_type": "code",
   "execution_count": 18,
   "metadata": {},
   "outputs": [
    {
     "name": "stdout",
     "output_type": "stream",
     "text": [
      "YES\n"
     ]
    }
   ],
   "source": [
    "# 4. 합이 같은 부분집합\n",
    "# 한 부분집합을 알면 나머지를 알 수 있다.\n",
    "\n",
    "cnt = 0\n",
    "\n",
    "def solution():\n",
    "    N = int(input())\n",
    "    l = list(map(int, input().split()))\n",
    "\n",
    "    visited = [0]*(N+1)\n",
    "\n",
    "    def dfs(v):\n",
    "\n",
    "        if v == N + 1:\n",
    "            global cnt\n",
    "            if cnt > 0:\n",
    "                return\n",
    "\n",
    "            value = sum(map(lambda x: x[0]*x[1], zip(visited, l)))\n",
    "            if sum(l) == value*2:\n",
    "                print('YES')\n",
    "                cnt+=1\n",
    "            return\n",
    "\n",
    "        visited[v] = 1\n",
    "        dfs(v+1)\n",
    "        visited[v] = 0\n",
    "        dfs(v+1)\n",
    "\n",
    "    dfs(1)\n",
    "    if cnt == 0:\n",
    "        print('NO')\n",
    "\n",
    "solution()"
   ]
  },
  {
   "cell_type": "code",
   "execution_count": 26,
   "metadata": {},
   "outputs": [
    {
     "data": {
      "text/plain": [
       "242"
      ]
     },
     "execution_count": 26,
     "metadata": {},
     "output_type": "execute_result"
    }
   ],
   "source": [
    "# 5. 바둑이 승차\n",
    "# C < 10^10, N < 30\n",
    "\n",
    "max_weight = 0\n",
    "\n",
    "def solution():\n",
    "\n",
    "    C, N = map(int, input().split())\n",
    "    a = []\n",
    "    for _ in range(N):\n",
    "        a.append(int(input()))\n",
    "    \n",
    "    # C, N = 259, 5\n",
    "    # a = [81, 58, 42, 33, 61]\n",
    "\n",
    "    visited = [0]*(N+1)\n",
    "    \n",
    "    def dfs(v, weight):\n",
    "\n",
    "        # 사전에 끊기\n",
    "        global max_weight\n",
    "        if weight + sum(a[v-1:]) < max_weight:\n",
    "            return\n",
    "\n",
    "        # 사전에 끊기\n",
    "        if weight > C:\n",
    "            return\n",
    "\n",
    "        if v == N + 1:\n",
    "            if weight > max_weight:\n",
    "                max_weight = weight           \n",
    "            return\n",
    "        \n",
    "        visited[v] = 0\n",
    "        dfs(v+1, weight)\n",
    "        visited[v] = 1\n",
    "        dfs(v+1, weight + a[v-1])\n",
    "    \n",
    "    dfs(1, 0)\n",
    "\n",
    "    return max_weight\n",
    "\n",
    "    \n",
    "solution()"
   ]
  },
  {
   "cell_type": "code",
   "execution_count": 2,
   "metadata": {},
   "outputs": [
    {
     "name": "stdout",
     "output_type": "stream",
     "text": [
      "1 1 \n",
      "1 2 \n",
      "2 1 \n",
      "2 2 \n"
     ]
    }
   ],
   "source": [
    "# 6. 중복순열 구하기\n",
    "# 내가 기존에 풀던 방식과 차이를 둔다면,\n",
    "# dfs의 main argument를 index로 둘 것이냐, value로 둘 것이냐의 차이인듯..\n",
    "# 기존에 풀던 방식같은 경우, level로 아예 따로 두었으니까..\n",
    "\n",
    "cnt = 0\n",
    "\n",
    "def solution():\n",
    "    N, M = map(int, input().split())\n",
    "\n",
    "    arr = range(1, N+1)\n",
    "\n",
    "    def dfs(v):\n",
    "\n",
    "        if len(v) == M:\n",
    "            global cnt\n",
    "            cnt += 1\n",
    "\n",
    "            for i in v:\n",
    "                print(i, end = ' ')\n",
    "            print()\n",
    "            return\n",
    "        \n",
    "        for i in arr:\n",
    "            dfs(v + [i])\n",
    "    \n",
    "    dfs([])\n",
    "\n",
    "    print(cnt)\n",
    "\n",
    "solution()"
   ]
  },
  {
   "cell_type": "code",
   "execution_count": 6,
   "metadata": {},
   "outputs": [
    {
     "name": "stdout",
     "output_type": "stream",
     "text": [
      "5\n"
     ]
    }
   ],
   "source": [
    "# 7. 동전교환\n",
    "# 그리디스럽게 종류 선택 문제로 갈 수 있음.\n",
    "\n",
    "min_cnt = 501\n",
    "def solution():\n",
    "    N = int(input())\n",
    "    arr = sorted(list(map(int, input().split())), reverse = True)\n",
    "    M = int(input())\n",
    "\n",
    "\n",
    "    def dfs(v, cnt):\n",
    "        global min_cnt\n",
    "        if cnt > min_cnt:\n",
    "            return\n",
    "\n",
    "        if v < 0:\n",
    "            return\n",
    "        \n",
    "        if v == 0:\n",
    "            if min_cnt > cnt:\n",
    "                min_cnt = cnt\n",
    "                return\n",
    "            \n",
    "        for i in arr:\n",
    "            dfs(v-i, cnt+1)\n",
    "\n",
    "    dfs(M, 0)\n",
    "    print(min_cnt)\n",
    "\n",
    "solution()\n"
   ]
  },
  {
   "cell_type": "markdown",
   "metadata": {},
   "source": [
    "### 완전탐색\n",
    "- 모든 경우의 수를 살펴볼 때 고려해볼 것\n",
    "- iteration할 때, idx로 돌릴 때 있고 value로 돌릴 때 있듯이 완전탐색도 마찬가지.\n",
    "- 모든 경우의 수를 살펴보기 때문에 시간복잡도가 커질 수 있으므로 사전에 끊는게 필요함.\n",
    "\n",
    "#### template\n",
    "1. 종료조건 설정\n",
    "2. 경우의 수 설정 (재귀 호출)\n",
    "3. 문제에 따른 argument 추가 (e.g. visited, cnt, ...)\n"
   ]
  }
 ],
 "metadata": {
  "kernelspec": {
   "display_name": "Python 3",
   "language": "python",
   "name": "python3"
  },
  "language_info": {
   "codemirror_mode": {
    "name": "ipython",
    "version": 3
   },
   "file_extension": ".py",
   "mimetype": "text/x-python",
   "name": "python",
   "nbconvert_exporter": "python",
   "pygments_lexer": "ipython3",
   "version": "3.10.6"
  },
  "orig_nbformat": 4
 },
 "nbformat": 4,
 "nbformat_minor": 2
}
