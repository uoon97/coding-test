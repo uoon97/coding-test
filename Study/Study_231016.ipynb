{
 "cells": [
  {
   "cell_type": "code",
   "execution_count": 1,
   "metadata": {},
   "outputs": [],
   "source": [
    "# 의상 (해시, level 2)\n",
    "\n",
    "from collections import defaultdict\n",
    "\n",
    "def solution(clothes):\n",
    "    cloth_dict = defaultdict(list)\n",
    "    {cloth_dict[k].append(v) for v, k in clothes}\n",
    "    \n",
    "    value = 1\n",
    "    for k in cloth_dict.keys():\n",
    "        value *= (len(cloth_dict[k]) + 1)\n",
    "        \n",
    "    return value -1"
   ]
  },
  {
   "cell_type": "code",
   "execution_count": 2,
   "metadata": {},
   "outputs": [],
   "source": [
    "# 베스트앨범 (해시, level 3)\n",
    "# input으로 주어진 리스트가 2개고 이 리스트들이 1대1 대응되어 있다면 해시.\n",
    "# 그게 아니더라도 해시는 탐색, 삽입에 대해 O(1)이니 입력 크기가 크다면 생각해볼 법하다.\n",
    "# items()를 활용하면, 쉽게 dictionary도 value에 대해 sort할 수 있을 듯.\n",
    "\n",
    "from collections import defaultdict\n",
    "def solution(genres, plays):\n",
    "    \n",
    "    song_dict = defaultdict(list)\n",
    "    {song_dict[genres[i]].append((i, plays[i])) for i in range(len(genres))}\n",
    "    \n",
    "    play_dict = defaultdict(int)\n",
    "    for i in range(len(genres)):\n",
    "        play_dict[genres[i]] += plays[i]\n",
    "\n",
    "    keys = [k for k, v in sorted(play_dict.items(), key = lambda x: x[1], reverse = True)]\n",
    "    \n",
    "    res = []\n",
    "    \n",
    "    for key in keys:\n",
    "        res.extend([n for n, p in sorted(song_dict[key], key = lambda x: [-x[1], x[0]])[:2]])\n",
    "        \n",
    "    return res"
   ]
  }
 ],
 "metadata": {
  "kernelspec": {
   "display_name": "Python 3",
   "language": "python",
   "name": "python3"
  },
  "language_info": {
   "codemirror_mode": {
    "name": "ipython",
    "version": 3
   },
   "file_extension": ".py",
   "mimetype": "text/x-python",
   "name": "python",
   "nbconvert_exporter": "python",
   "pygments_lexer": "ipython3",
   "version": "3.10.6"
  }
 },
 "nbformat": 4,
 "nbformat_minor": 2
}
