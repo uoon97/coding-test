{
 "cells": [
  {
   "cell_type": "code",
   "execution_count": 4,
   "metadata": {},
   "outputs": [
    {
     "name": "stdout",
     "output_type": "stream",
     "text": [
      "#0 YES\n",
      "#1 NO\n",
      "#2 YES\n",
      "#3 NO\n",
      "#4 YES\n"
     ]
    }
   ],
   "source": [
    "# 1. 회문 문자열 검사\n",
    "# N < 100\n",
    "\n",
    "# 짝수일 때 6 -> 0, 5 / 1, 4 / 2, 3 // 0, 7 / 1, 6 / 2, 5 / 3, 4\n",
    "# 홀수일 때 5 -> 0, 4 / 1, 3 / 2\n",
    "# 문자열을 요소를 일일히 비교해야 됨. -> iteration\n",
    "\n",
    "def solution():\n",
    "\n",
    "    def check(word):\n",
    "        word = word.lower()\n",
    "        for i in range(len(word)//2):\n",
    "            if word[i] != word[len(word)-(i+1)]:\n",
    "                return 'NO'\n",
    "        \n",
    "        return 'YES'\n",
    "    \n",
    "\n",
    "    n = int(input())\n",
    "    for i in range(n):\n",
    "        word = input()\n",
    "        \n",
    "        print(f'#{i} {check(word)}')\n",
    "\n",
    "solution()\n",
    "\n",
    "def solution2():\n",
    "\n",
    "    n = int(input())\n",
    "    for i in range(n):\n",
    "        word = input()\n",
    "\n",
    "        if word == word[::-1]:\n",
    "            print(f'#{i} YES')\n",
    "        else:\n",
    "            print(f'#{i} NO')\n",
    "        "
   ]
  },
  {
   "cell_type": "code",
   "execution_count": 19,
   "metadata": {},
   "outputs": [
    {
     "name": "stdout",
     "output_type": "stream",
     "text": [
      "134520\n",
      "64\n"
     ]
    }
   ],
   "source": [
    "# 2. 숫자만 추출\n",
    "# N < 50\n",
    "# 각 문자가 숫자인지 일일히 확인해야 됨. -> iteration\n",
    "\n",
    "def solution(word):\n",
    "    letters = []\n",
    "    for letter in word:\n",
    "        if 48 <= ord(letter) <= 57:\n",
    "            letters.append(letter)\n",
    "\n",
    "    number = int(''.join(letters))\n",
    "\n",
    "    cnt = 0\n",
    "    for i in range(1, int(number**(1/2))):\n",
    "        if number % i == 0:\n",
    "            cnt += 2\n",
    "            if i == number // i:\n",
    "                cnt -= 1\n",
    "\n",
    "    print(number)\n",
    "    print(cnt)\n",
    "\n",
    "solution('Akdj0Gk1dgdgdAGSGAG3DGGA45GAGADGDGdjADG2SDGkdj0f')"
   ]
  },
  {
   "cell_type": "code",
   "execution_count": 28,
   "metadata": {},
   "outputs": [
    {
     "data": {
      "text/plain": [
       "[1, 2, 3, 4, 10, 9, 8, 7, 13, 12, 11, 5, 6, 14, 15, 16, 17, 18, 19, 20]"
      ]
     },
     "execution_count": 28,
     "metadata": {},
     "output_type": "execute_result"
    }
   ],
   "source": [
    "# 3. 카드 역배치\n",
    "def solution():\n",
    "    card = list(range(1, 21))\n",
    "\n",
    "    for _ in range(10):\n",
    "        start, end = map(int, input().split())\n",
    "        card = card[:start-1] + card[start-1:end][::-1] + card[end:]\n",
    "    \n",
    "    return card\n",
    "\n",
    "solution()"
   ]
  },
  {
   "cell_type": "code",
   "execution_count": 33,
   "metadata": {},
   "outputs": [
    {
     "data": {
      "text/plain": [
       "[1, 2, 3, 3, 5, 6, 7, 9]"
      ]
     },
     "execution_count": 33,
     "metadata": {},
     "output_type": "execute_result"
    }
   ],
   "source": [
    "# 4. 두 리스트 합치기\n",
    "# sort 알고리즘은 O(NlogN)\n",
    "# 투 포인터의 경우 O(N)\n",
    "# 이걸 투 포인터로 볼 수 있었던 이유는..?\n",
    "# 우선 정렬되어 있음.\n",
    "# sort 내부 알고리즘을 알고 있어야 원 포인트로 진행됨을 알텐데..\n",
    "\n",
    "def solution():\n",
    "    n = int(input())\n",
    "    first = list(map(int, input().split()))\n",
    "\n",
    "    m = int(input())\n",
    "    second = list(map(int, input().split()))\n",
    "\n",
    "    return sorted(first + second)\n",
    "\n",
    "def solution2():\n",
    "    n = int(input())\n",
    "    a = list(map(int, input().split()))\n",
    "    m = int(input())\n",
    "    b = list(map(int, input().split()))\n",
    "    p1 = p2 = 0\n",
    "    c = []\n",
    "\n",
    "    while p1 < n and p2 < m:\n",
    "        if a[p1] <= b[p2]:\n",
    "            c.append(a[p1])\n",
    "            p1 += 1\n",
    "        \n",
    "        else:\n",
    "            c.append(b[p2])\n",
    "            p2 += 1\n",
    "    \n",
    "    if p1 < n:\n",
    "        c = c + a[p1:]\n",
    "    \n",
    "    if p2 < m:\n",
    "        c = c + b[p2:]\n",
    "\n",
    "\n",
    "solution()"
   ]
  },
  {
   "cell_type": "code",
   "execution_count": 5,
   "metadata": {},
   "outputs": [
    {
     "data": {
      "text/plain": [
       "1772"
      ]
     },
     "execution_count": 5,
     "metadata": {},
     "output_type": "execute_result"
    }
   ],
   "source": [
    "# 5. 수들의 합\n",
    "# N < 10^4, M < 10^9\n",
    "# 투 포인터 알고리즘..?\n",
    "# 왜 위치를 찍으면서 하면 시간 복잡도를 줄일 수 있을까..?\n",
    "# 한 점을 찍어서 하면 이중 for문을 순회할 것을 두 점을 찍으니 for문 하나만 순회하게 된다.\n",
    "# 즉, 그럼 두 점을 통해 얻을 수 있는 결과와 한 점을 찍어서 얻을 수 있는 결과가 같아야 가능하단 얘기..\n",
    "\n",
    "def solution():\n",
    "    n, m = map(int, input().split())\n",
    "    a = list(map(int, input().split()))\n",
    "    lt = 0\n",
    "    rt = 1\n",
    "    cnt = 0\n",
    "    while True:\n",
    "        if sum(a[lt:rt]) < m:\n",
    "            if rt < n:\n",
    "                rt += 1\n",
    "            else:\n",
    "                break\n",
    "        \n",
    "        elif sum(a[lt:rt]) == m:\n",
    "            cnt += 1\n",
    "            lt += 1\n",
    "        \n",
    "        else:\n",
    "            lt += 1\n",
    "\n",
    "    return cnt\n",
    "\n",
    "solution()"
   ]
  },
  {
   "cell_type": "code",
   "execution_count": 61,
   "metadata": {},
   "outputs": [],
   "source": [
    "# 6. 격자판 최대합\n",
    "\n",
    "def solution():\n",
    "    N = int(input())\n",
    "    matrix = []\n",
    "    for _ in range(N):\n",
    "        matrix.append(list(map(int, input().split())))\n",
    "\n",
    "    row_max = max([sum(row) for row in matrix])\n",
    "    col_max = max([sum(col) for col in list(zip(*matrix))])\n",
    "    \n",
    "    cross_1 = sum([matrix[idx][idx] for idx in range(N)])\n",
    "    cross_2 = sum([matrix[idx][N-(idx+1)] for idx in range(N)])\n",
    "\n",
    "    return max([row_max, col_max, cross_1, cross_2])\n",
    "\n",
    "solution()"
   ]
  },
  {
   "cell_type": "code",
   "execution_count": 1,
   "metadata": {},
   "outputs": [
    {
     "data": {
      "text/plain": [
       "379"
      ]
     },
     "execution_count": 1,
     "metadata": {},
     "output_type": "execute_result"
    }
   ],
   "source": [
    "# 7. 사과나무\n",
    "\n",
    "from collections import deque\n",
    "def solution(N, matrix):\n",
    "    \n",
    "    visited = [[0]*N for _ in range(N)]\n",
    "\n",
    "    start = (N//2, N//2)\n",
    "    visited[N//2][N//2] = 1\n",
    "    q = deque([start])\n",
    "\n",
    "    dx = [0, 1, 0, -1]\n",
    "    dy = [-1, 0, 1, 0]\n",
    "    # 0, 0 / 0, 1 / 0, 3 / 0, 4/\n",
    "    # 1, 0 / 1, 4 /\n",
    "\n",
    "    cnt = 0\n",
    "    while q:\n",
    "        x, y = q.popleft()\n",
    "        cnt += matrix[y][x]\n",
    "\n",
    "        for i in range(4):\n",
    "            tx = x + dx[i]\n",
    "            ty = y + dy[i]\n",
    "\n",
    "            if 0 <= tx < N and 0 <= ty < N:\n",
    "                if (0 < tx < N-1 and 0 < ty < N-1) or (tx == N//2) or (ty == N//2):\n",
    "                    if visited[ty][tx] == 0:\n",
    "                        q.append((tx, ty))\n",
    "                        visited[ty][tx] = 1\n",
    "\n",
    "    return cnt\n",
    "\n",
    "N = 5\n",
    "matrix = [[10, 13, 10, 12, 15],\n",
    "          [12, 39, 30, 23, 11],\n",
    "          [11, 25, 50, 53, 15],\n",
    "          [19, 27, 29, 37, 27],\n",
    "          [19, 13, 30, 13, 19]]\n",
    "\n",
    "solution(N, matrix)"
   ]
  },
  {
   "cell_type": "code",
   "execution_count": 4,
   "metadata": {},
   "outputs": [
    {
     "data": {
      "text/plain": [
       "362"
      ]
     },
     "execution_count": 4,
     "metadata": {},
     "output_type": "execute_result"
    }
   ],
   "source": [
    "# 8. 곳감(모래시계)\n",
    "\n",
    "from collections import deque\n",
    "def solution(N, matrix):\n",
    "    \n",
    "    def rotation(row, drt, num, matrix):\n",
    "        rot = matrix[row-1]\n",
    "        # left(0), num = 1\n",
    "        # [0, 1, 2, 3, 4] -> [1, 2, 3, 4, 0] = [1:] + [:1]\n",
    "        # num = 3\n",
    "        # [0, 1, 2, 3, 4] -> [3, 4, 0, 1, 2] = [3:] + [:3]\n",
    "\n",
    "        # right(1), num = 3\n",
    "        # [0, 1, 2, 3, 4] -> [3, 4, 0, 1, 2] = [-2:] + [:-2]\n",
    "        # [0, 1, 2, 3, 4] -> [4, 0, 1, 2, 3] = [-1:] + [:-1]\n",
    "\n",
    "        # 0 -> 1 / 1 -> -1\n",
    "        # (-1)**x\n",
    "        \n",
    "        slice = ((-1)**drt)*num%N\n",
    "        matrix[row-1] = rot[slice:] + rot[:slice]\n",
    "\n",
    "        return matrix\n",
    "\n",
    "    M = int(input())\n",
    "    for _ in range(M):\n",
    "        row, drt, num = map(int, input().split())\n",
    "        matrix = rotation(row, drt, num, matrix)\n",
    "\n",
    "    visited = [[0]*N for _ in range(N)]\n",
    "    visited[N//2][N//2] = 1\n",
    "\n",
    "    start = (N//2, N//2)\n",
    "    q = deque([start])\n",
    "\n",
    "    dx = [-1, 0, 1, 0]\n",
    "    dy = [0, -1, 0, 1]\n",
    "\n",
    "    cnt = 0\n",
    "\n",
    "    while q:\n",
    "        x, y = q.popleft()\n",
    "        cnt += matrix[y][x]\n",
    "\n",
    "        for i in range(4):\n",
    "            tx = x + dx[i]\n",
    "            ty = y + dy[i]\n",
    "\n",
    "            if 0 <= tx < N and 0 <= ty < N:\n",
    "\n",
    "                # N//2 - abs((N//2)-ty) <= tx <= N//2 + abs((N//2)-ty)\n",
    "                # y = 0 -> x = 0, 1, 2, 3, 4\n",
    "                # y = 1 -> x = 1, 2, 3\n",
    "                # y = 2 -> x = 2\n",
    "                # y = 3 -> x = 1, 2, 3\n",
    "                # y = 4 -> x = 0, 1, 2, 3, 4\n",
    "\n",
    "                if N//2 - abs((N//2)-ty) <= tx <= N//2 + abs((N//2)-ty):\n",
    "                    if visited[ty][tx] == 0:\n",
    "                        q.append((tx, ty))\n",
    "                        visited[ty][tx] = 1\n",
    "\n",
    "    return cnt\n",
    "\n",
    "N = 5\n",
    "matrix = [[10, 13, 10, 12, 15],\n",
    "          [12, 39, 30, 23, 11],\n",
    "          [11, 25, 50, 53, 15],\n",
    "          [19, 27, 29, 37, 27],\n",
    "          [19, 13, 30, 13, 19]]\n",
    "\n",
    "solution(N, matrix)"
   ]
  },
  {
   "cell_type": "code",
   "execution_count": 17,
   "metadata": {},
   "outputs": [
    {
     "data": {
      "text/plain": [
       "10"
      ]
     },
     "execution_count": 17,
     "metadata": {},
     "output_type": "execute_result"
    }
   ],
   "source": [
    "# 9. 봉우리\n",
    "\n",
    "def solution(N, matrix):\n",
    "    \n",
    "\n",
    "    def isTop(x, y):\n",
    "        dx = [-1, 0, 1, 0]\n",
    "        dy = [0, -1, 0, 1]\n",
    "\n",
    "        value = matrix[y][x]\n",
    "        for i in range(4):\n",
    "            tx = x + dx[i]\n",
    "            ty = y + dy[i]\n",
    "\n",
    "            if 0 <= tx < N and 0 <= ty < N:\n",
    "                if value <= matrix[ty][tx]:\n",
    "                    return False\n",
    "\n",
    "        return True\n",
    "        \n",
    "    cnt = 0\n",
    "    for i in range(N):\n",
    "        for j in range(N):\n",
    "            if isTop(i, j):\n",
    "                cnt += 1\n",
    "    \n",
    "    return cnt\n",
    "\n",
    "\n",
    "N = 5\n",
    "matrix = [\n",
    "    [5, 3, 7, 2, 3],\n",
    "    [3, 7, 1, 6, 1],\n",
    "    [7, 2, 5, 3, 4],\n",
    "    [4, 3, 6, 4, 1],\n",
    "    [8, 7, 3, 5, 2]\n",
    "]\n",
    "\n",
    "solution(N, matrix)"
   ]
  },
  {
   "cell_type": "code",
   "execution_count": 26,
   "metadata": {},
   "outputs": [
    {
     "name": "stdout",
     "output_type": "stream",
     "text": [
      "NO\n"
     ]
    }
   ],
   "source": [
    "# 10. 스도쿠 검사\n",
    "\n",
    "def solution(sudoku):\n",
    "\n",
    "    # check rows\n",
    "    for row in sudoku:\n",
    "        if len(row) != len(set(row)):\n",
    "            print(\"NO\")\n",
    "            return\n",
    "\n",
    "    # check cols    \n",
    "    for col in list(zip(*sudoku)):\n",
    "        if len(col) != len(set(col)):\n",
    "            print(\"NO\")\n",
    "            return\n",
    "    \n",
    "    # check board\n",
    "    # i(row) = 0 ~ 2 , j(col) = 0 ~ 2\n",
    "    # row = [3*i:3*(i+1)] col = [3*j:3*(j+1)]\n",
    "\n",
    "    for i in range(3):\n",
    "        for j in range(3):\n",
    "            board = []\n",
    "            for row in sudoku[3*i:3*(i+1)]:\n",
    "                board.extend(row[3*j:3*(j+1)])\n",
    "            if len(board) != len(set(board)):\n",
    "                print(\"NO\")\n",
    "                return\n",
    "    \n",
    "    print(\"YES\")\n",
    "\n",
    "sudoku = [\n",
    "    [1, 4, 3, 6, 2, 8, 5, 7, 9],\n",
    "    [5, 7, 2, 1, 3, 9, 4, 6, 8],\n",
    "    [9, 8, 6, 7, 5, 4, 2, 3, 1],\n",
    "    [3, 9, 1, 5, 4, 2, 7, 8, 6],\n",
    "    [4, 6, 8, 9, 1, 7, 3, 5, 2],\n",
    "    [7, 2, 5, 8, 6, 3, 9, 1, 4],\n",
    "    [2, 3, 7, 4, 8, 1, 6, 9, 5],\n",
    "    [6, 1, 9, 2, 7, 5, 8, 4, 3],\n",
    "    [8, 5, 4, 3, 9, 6, 1, 2, 7]\n",
    "]\n",
    "\n",
    "sudoku = [\n",
    "    [1, 2, 3, 4, 5, 6, 7, 8, 9],\n",
    "    [2, 1, 4, 3, 6, 5, 8, 9, 7],\n",
    "    [3, 4, 1, 2, 7, 8, 9, 5, 6],\n",
    "    [4, 3, 2, 1, 8, 9, 6, 7, 5],\n",
    "    [5, 6, 7, 8, 9, 1, 2, 3, 4],\n",
    "    [6 ,5, 8, 9, 1, 7, 3, 4, 2],\n",
    "    [7, 8, 9 ,5, 2, 3, 4, 6, 1],\n",
    "    [8, 9, 6, 7, 4, 2, 5, 1 ,3],\n",
    "    [9, 7, 5, 6, 3, 4, 1, 2, 8]\n",
    "]\n",
    "\n",
    "solution(sudoku)"
   ]
  },
  {
   "cell_type": "code",
   "execution_count": 29,
   "metadata": {},
   "outputs": [
    {
     "data": {
      "text/plain": [
       "5"
      ]
     },
     "execution_count": 29,
     "metadata": {},
     "output_type": "execute_result"
    }
   ],
   "source": [
    "# 11. 격자판 회문수\n",
    "\n",
    "def solution(matrix):\n",
    "\n",
    "    def isRound(list):\n",
    "        if list == list[::-1]:\n",
    "            return 1\n",
    "        return 0\n",
    "    \n",
    "    def cntRound(matrix):\n",
    "        cnt = 0\n",
    "        for i in range(7):\n",
    "            for j in range(3):\n",
    "                cnt += isRound(matrix[i][j:j+5])\n",
    "\n",
    "        return cnt\n",
    "    \n",
    "    return cntRound(matrix) + cntRound(list(zip(*matrix)))\n",
    "\n",
    "matrix = [\n",
    "    [2, 4, 1, 5, 3, 2, 6],\n",
    "    [3, 5, 1, 8, 7, 1, 7],\n",
    "    [8 ,3, 2, 7, 1, 3 ,8],\n",
    "    [6, 1, 2, 3, 2, 1, 1],\n",
    "    [1, 3, 1, 3, 5, 3, 2],\n",
    "    [1, 1, 2, 5, 6, 5, 2],\n",
    "    [1, 2, 2, 2, 2, 1, 5]\n",
    "]\n",
    "\n",
    "matrix = [\n",
    "    [9, 6, 3, 3, 3, 6, 8],\n",
    "    [3, 8 ,6, 6, 7, 6, 6],\n",
    "    [7, 2, 2, 6, 3, 8, 1],\n",
    "    [4, 2, 8, 2, 8, 9, 3],\n",
    "    [7, 7, 6, 1, 9, 6, 1],\n",
    "    [7, 3, 7, 2, 3, 5, 6],\n",
    "    [4, 3, 6, 6, 4, 6, 6] \n",
    "]\n",
    "\n",
    "solution(matrix)"
   ]
  }
 ],
 "metadata": {
  "kernelspec": {
   "display_name": "Python 3",
   "language": "python",
   "name": "python3"
  },
  "language_info": {
   "codemirror_mode": {
    "name": "ipython",
    "version": 3
   },
   "file_extension": ".py",
   "mimetype": "text/x-python",
   "name": "python",
   "nbconvert_exporter": "python",
   "pygments_lexer": "ipython3",
   "version": "3.10.6"
  },
  "orig_nbformat": 4
 },
 "nbformat": 4,
 "nbformat_minor": 2
}
