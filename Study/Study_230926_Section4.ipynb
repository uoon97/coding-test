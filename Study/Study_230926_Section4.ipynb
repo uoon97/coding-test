{
 "cells": [
  {
   "cell_type": "code",
   "execution_count": 12,
   "metadata": {},
   "outputs": [
    {
     "data": {
      "text/plain": [
       "3"
      ]
     },
     "execution_count": 12,
     "metadata": {},
     "output_type": "execute_result"
    }
   ],
   "source": [
    "# 1. 이분검색\n",
    "def solution():\n",
    "    n, m = map(int, input().split())\n",
    "    l = sorted(list(map(int, input().split())))\n",
    "\n",
    "    s = 0\n",
    "    e = n-1\n",
    "\n",
    "    while s <= e:\n",
    "        mid = (s + e)//2\n",
    "        if l[mid] > m:\n",
    "            e = mid - 1\n",
    "\n",
    "        if l[mid] < m:\n",
    "            s = mid + 1\n",
    "        \n",
    "        if l[mid] == m:\n",
    "            return mid + 1\n",
    "    return -1\n",
    "\n",
    "solution()"
   ]
  },
  {
   "cell_type": "code",
   "execution_count": 27,
   "metadata": {},
   "outputs": [
    {
     "data": {
      "text/plain": [
       "201"
      ]
     },
     "execution_count": 27,
     "metadata": {},
     "output_type": "execute_result"
    }
   ],
   "source": [
    "# 2. 랜선자르기\n",
    "# K < 10^4, N < 10^6 -> 이분탐색 필수..\n",
    "# 0부터 이미 갖고 있는 랜선의 최소 길이 사이에서 최대 랜선의 길이를 찾는 것.. (이분탐색)\n",
    "# 비교는 n개에 충족하는지 못하는지로 결정한다.\n",
    "\n",
    "def solution():\n",
    "    k, n = map(int, input().split())\n",
    "    l = []\n",
    "    for _ in range(k):\n",
    "        l.append(int(input()))\n",
    "\n",
    "    s = 0\n",
    "    e = max(l)\n",
    "\n",
    "    # 이분탐색에서 >=을 사용하게 되면 구하고자 하는 값의 최대를 알 수 있다.\n",
    "    while s <= e:\n",
    "        mid = (s + e)//2\n",
    "        cnt = sum(map(lambda x: x//mid, l))\n",
    "\n",
    "        if cnt >= n:\n",
    "            res = mid\n",
    "            s = mid + 1\n",
    "        \n",
    "        else:\n",
    "            e = mid -1        \n",
    "    \n",
    "    return res\n",
    "\n",
    "solution()"
   ]
  },
  {
   "cell_type": "code",
   "execution_count": 29,
   "metadata": {},
   "outputs": [
    {
     "data": {
      "text/plain": [
       "17"
      ]
     },
     "execution_count": 29,
     "metadata": {},
     "output_type": "execute_result"
    }
   ],
   "source": [
    "# 3. 뮤직비디오\n",
    "# 영상 각각을 어디서 끊을지를 결정하게 하면 여러 번 결정하지만,\n",
    "# 시간을 결정하면 한 번만 결정해도 된다..\n",
    "# 시간이 결정되면 어떤 기준으로 비교를 할지만 정하면 될 듯..\n",
    "\n",
    "def solution():\n",
    "    n, m = map(int, input().split())\n",
    "    l = list(map(int, input().split()))\n",
    "\n",
    "    def count(minute):\n",
    "        \n",
    "        cnt = 0\n",
    "        minutes = 0\n",
    "\n",
    "        for s in l:\n",
    "            if minutes + s <= minute:\n",
    "                minutes += s\n",
    "            \n",
    "            else:\n",
    "                minutes = s\n",
    "                cnt += 1\n",
    "        \n",
    "        return cnt + 1\n",
    "    \n",
    "    s = 0\n",
    "    e = sum(l)\n",
    "\n",
    "    while s <= e:\n",
    "        mid = (s + e)//2\n",
    "\n",
    "        if count(mid) <= m:\n",
    "            res = mid\n",
    "            e = mid - 1\n",
    "        \n",
    "        else:\n",
    "            s = mid + 1\n",
    "        \n",
    "    return res\n",
    "        \n",
    "solution()"
   ]
  },
  {
   "cell_type": "code",
   "execution_count": 42,
   "metadata": {},
   "outputs": [
    {
     "data": {
      "text/plain": [
       "3"
      ]
     },
     "execution_count": 42,
     "metadata": {},
     "output_type": "execute_result"
    }
   ],
   "source": [
    "# 4. 마구간 정하기\n",
    "# N < 10*5 -> 이분 탐색..?\n",
    "# 최대 거리를 몇으로 할 지 이분 탐색하자.\n",
    "# 말 간의 거리가 일정하진 않을 수 있지만, 그 거리가 가장 가까운 두 말의 최대 거리 이상이긴 하니까.\n",
    "\n",
    "def solution():\n",
    "    N, C = map(int, input().split())\n",
    "    l = []\n",
    "    for _ in range(N):\n",
    "        l.append(int(input()))\n",
    "    l.sort()\n",
    "\n",
    "    # 가장 가까운 두 말의 최대 거리로 좌표를 끊었을 때 말의 수와 같은지.\n",
    "    def count(distance):\n",
    "        # 1, 2, 4, 8, 9\n",
    "        cnt = 1\n",
    "        dist = 0\n",
    "        for i in range(len(l)-1):\n",
    "            if dist + (l[i+1] - l[i]) >= distance:\n",
    "                dist = 0\n",
    "                cnt += 1\n",
    "            else:\n",
    "                dist += l[i+1] - l[i]\n",
    "    \n",
    "        return cnt\n",
    "\n",
    "    s = 0\n",
    "    e = max(l)\n",
    "\n",
    "    while s <= e:\n",
    "        mid = (s + e)//2\n",
    "\n",
    "        if count(mid) >= C:\n",
    "            res = mid\n",
    "            s = mid + 1\n",
    "            \n",
    "        else:\n",
    "            e = mid - 1\n",
    "\n",
    "    return res\n",
    "\n",
    "solution()"
   ]
  },
  {
   "cell_type": "code",
   "execution_count": 50,
   "metadata": {},
   "outputs": [],
   "source": [
    "# 5. 회의실 배정\n",
    "# 막혔음.. -> 막힐 때는 정렬을 생각해보는 것도 좋겠다.\n",
    "\n",
    "def solution():\n",
    "    N = int(input())\n",
    "    l = []\n",
    "    for _ in range(N):\n",
    "        l.append(tuple(map(int, input().split())))\n",
    "    \n",
    "    l.sort(key = lambda x: (x[1], x[0]))\n",
    "\n",
    "    et = 0\n",
    "    cnt = 0\n",
    "    for s, e in l:\n",
    "        if et <= s:\n",
    "            et = e\n",
    "            cnt += 1\n",
    "\n",
    "    return cnt"
   ]
  },
  {
   "cell_type": "code",
   "execution_count": 44,
   "metadata": {},
   "outputs": [
    {
     "data": {
      "text/plain": [
       "3"
      ]
     },
     "execution_count": 44,
     "metadata": {},
     "output_type": "execute_result"
    }
   ],
   "source": [
    "# 6. 씨름 선수\n",
    "# dominate되면 탈락.\n",
    "# N < 50 -> O(N^3)도 가능.\n",
    "\n",
    "def solution():\n",
    "    N = int(input())\n",
    "    l = []\n",
    "    for _ in range(N):\n",
    "        l.append(tuple(map(int, input().split())))\n",
    "    \n",
    "    cnt = 0\n",
    "    for h_i, w_i in l:\n",
    "        for h_j, w_j in l:\n",
    "            if h_i < h_j and w_i < w_j:\n",
    "                cnt += 1\n",
    "                break\n",
    "\n",
    "    return N - cnt\n",
    "\n",
    "solution()"
   ]
  },
  {
   "cell_type": "code",
   "execution_count": 53,
   "metadata": {},
   "outputs": [],
   "source": [
    "# 7. 창고 정리\n",
    "# L x M < 10^5\n",
    "\n",
    "def solution():\n",
    "    L = int(input())\n",
    "    l = list(map(int, input().split()))\n",
    "    M = int(input())\n",
    "\n",
    "\n",
    "    def adjust():\n",
    "        max_value = max(l)\n",
    "        min_value = min(l)\n",
    "\n",
    "        l[l.index(max_value)] = max_value - 1\n",
    "        l[l.index(min_value)] = min_value + 1\n",
    "    \n",
    "    for _ in range(M):\n",
    "        adjust()\n",
    "    \n",
    "    return max(l) - min(l)"
   ]
  },
  {
   "cell_type": "code",
   "execution_count": 71,
   "metadata": {},
   "outputs": [
    {
     "data": {
      "text/plain": [
       "3"
      ]
     },
     "execution_count": 71,
     "metadata": {},
     "output_type": "execute_result"
    }
   ],
   "source": [
    "# 8. 침몰하는 타이타닉\n",
    "# 투 포인터\n",
    "\n",
    "def solution():\n",
    "    N, M = map(int, input().split())\n",
    "    l = sorted(list(map(int, input().split())))\n",
    "\n",
    "    s = 0\n",
    "    e = len(l) - 1\n",
    "    cnt = 0\n",
    "    while l:\n",
    "        if s == e:\n",
    "            l.pop(s)\n",
    "            cnt += 1\n",
    "\n",
    "        elif l[s] + l[e] > M:\n",
    "            e -= 1\n",
    "            continue\n",
    "        \n",
    "        elif l[s] + l[e] <= M:\n",
    "            l.pop(e)\n",
    "            l.pop(s)\n",
    "\n",
    "            s = 0\n",
    "            e = len(l) - 1\n",
    "\n",
    "            cnt += 1\n",
    "\n",
    "    return cnt\n",
    "\n",
    "solution()"
   ]
  },
  {
   "cell_type": "code",
   "execution_count": 80,
   "metadata": {},
   "outputs": [
    {
     "data": {
      "text/plain": [
       "(4, 'LRLL')"
      ]
     },
     "execution_count": 80,
     "metadata": {},
     "output_type": "execute_result"
    }
   ],
   "source": [
    "# 9. 증가수열 만들기\n",
    "\n",
    "def solution():\n",
    "    N = int(input())\n",
    "    l = list(map(int, input().split()))\n",
    "\n",
    "    t = [0]\n",
    "    d = ''\n",
    "    while l:\n",
    "        if t[-1] < l[0] < l[-1] or l[-1] < t[-1] < l[0]:\n",
    "            t.append(l.pop(0))\n",
    "            d += 'L'\n",
    "            continue\n",
    "            \n",
    "        \n",
    "        if l[0] > l[-1] > t[-1] or l[0] < t[-1] < l[-1]:\n",
    "            t.append(l.pop())\n",
    "            d += 'R'\n",
    "            continue\n",
    "\n",
    "        if t[-1] > l[0] and t[-1] > l[-1]:\n",
    "            break\n",
    "\n",
    "    return len(t)-1, d    \n",
    "\n",
    "solution()"
   ]
  },
  {
   "cell_type": "code",
   "execution_count": 100,
   "metadata": {},
   "outputs": [
    {
     "data": {
      "text/plain": [
       "[4, 8, 9, 6, 1, 3, 10, 7, 5, 2]"
      ]
     },
     "execution_count": 100,
     "metadata": {},
     "output_type": "execute_result"
    }
   ],
   "source": [
    "# 10. 역수열\n",
    "# 너무 복잡한 규칙이라 생각하지 말자.\n",
    "# 세 개 이상 넘어가면, 다른 방법 생각해보자.\n",
    "\n",
    "def solution():\n",
    "    N = int(input())\n",
    "    l = list(map(int, input().split()))\n",
    "    numbers = [0] * N\n",
    "\n",
    "    for i in range(len(l)):\n",
    "        cnt = 0\n",
    "        j = 0\n",
    "        while True:\n",
    "            if numbers[j] == 0:\n",
    "                cnt += 1\n",
    "                \n",
    "            if cnt == l[i] + 1:\n",
    "                numbers[j] = i + 1\n",
    "                break\n",
    "            \n",
    "            j += 1\n",
    "\n",
    "    return numbers\n",
    "solution()"
   ]
  },
  {
   "cell_type": "code",
   "execution_count": null,
   "metadata": {},
   "outputs": [],
   "source": [
    "def solution():\n",
    "    N = int(input())\n",
    "    num_list = list(map(int, input().split()))\n",
    "    num_list.reverse()\n",
    "\n",
    "    res = []\n",
    "\n",
    "    for index, num in enumerate(num_list):\n",
    "        res.insert(num, N-index)"
   ]
  }
 ],
 "metadata": {
  "kernelspec": {
   "display_name": "Python 3",
   "language": "python",
   "name": "python3"
  },
  "language_info": {
   "codemirror_mode": {
    "name": "ipython",
    "version": 3
   },
   "file_extension": ".py",
   "mimetype": "text/x-python",
   "name": "python",
   "nbconvert_exporter": "python",
   "pygments_lexer": "ipython3",
   "version": "3.10.6"
  },
  "orig_nbformat": 4
 },
 "nbformat": 4,
 "nbformat_minor": 2
}
