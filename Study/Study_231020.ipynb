{
 "cells": [
  {
   "cell_type": "code",
   "execution_count": 4,
   "metadata": {},
   "outputs": [
    {
     "name": "stdout",
     "output_type": "stream",
     "text": [
      "defaultdict(<class 'list'>, {'hit': ['hot'], 'hot': ['hit', 'dot', 'lot'], 'dot': ['hot', 'dog', 'lot'], 'lot': ['hot', 'dot', 'log'], 'dog': ['dot', 'log', 'cog'], 'log': ['dog', 'lot', 'cog'], 'cog': ['dog', 'log']})\n",
      "hit 0 51 ['hot']\n",
      "hot 1 51 ['hit', 'dot', 'lot']\n",
      "dot 2 51 ['hot', 'dog', 'lot']\n",
      "dog 3 51 ['dot', 'log', 'cog']\n",
      "log 4 51 ['dog', 'lot', 'cog']\n",
      "lot 5 51 ['hot', 'dot', 'log']\n",
      "cog 5 51 ['dog', 'log']\n",
      "cog 4 5 ['dog', 'log']\n",
      "lot 3 4 ['hot', 'dot', 'log']\n",
      "log 4 4 ['dog', 'lot', 'cog']\n",
      "lot 2 4 ['hot', 'dot', 'log']\n",
      "dot 3 4 ['hot', 'dog', 'lot']\n",
      "dog 4 4 ['dot', 'log', 'cog']\n",
      "log 3 4 ['dog', 'lot', 'cog']\n",
      "dog 4 4 ['dot', 'log', 'cog']\n",
      "cog 4 4 ['dog', 'log']\n"
     ]
    },
    {
     "data": {
      "text/plain": [
       "4"
      ]
     },
     "execution_count": 4,
     "metadata": {},
     "output_type": "execute_result"
    }
   ],
   "source": [
    "from collections import defaultdict\n",
    "\n",
    "min_cnt = 51\n",
    "\n",
    "def solution(begin, target, words):\n",
    "    \n",
    "    if target not in words:\n",
    "        return 0\n",
    "    \n",
    "    def adj_word(n, a, b):\n",
    "        cnt = 0\n",
    "        for i in range(n):\n",
    "            if a[i] == b[i]:\n",
    "                cnt += 1\n",
    "        \n",
    "        if cnt == (n-1):\n",
    "            return True\n",
    "        return False\n",
    "    \n",
    "    n = len(begin)\n",
    "    \n",
    "    words_new = [begin] + words\n",
    "\n",
    "    adj_dict = defaultdict(list)\n",
    "    for i in range(len(words_new)):\n",
    "        for j in range(i, len(words_new)):\n",
    "            if adj_word(n, words_new[i], words_new[j]):\n",
    "                adj_dict[words_new[i]].append(words_new[j])\n",
    "                adj_dict[words_new[j]].append(words_new[i])\n",
    "    \n",
    "    print(adj_dict)\n",
    "\n",
    "    def dfs(v, cnt):\n",
    "        global min_cnt\n",
    "        print(v, cnt, min_cnt, adj_dict[v])\n",
    "        if cnt == min_cnt or cnt == len(words):\n",
    "            return\n",
    "        \n",
    "        if v == target:\n",
    "            min_cnt = min(cnt, min_cnt)\n",
    "            return\n",
    "        \n",
    "        for i in adj_dict[v]:\n",
    "             if visited[i] == 0:\n",
    "                visited[i] = 1\n",
    "                dfs(i, cnt + 1)\n",
    "                visited[i] = 0\n",
    "        \n",
    "    visited = defaultdict(int)\n",
    "    for w in words:\n",
    "        visited[w] = 0\n",
    "        \n",
    "    visited[begin] = 1\n",
    "    dfs(begin, 0)\n",
    "    \n",
    "    if min_cnt == 51:\n",
    "        return 0\n",
    "    \n",
    "    return min_cnt\n",
    "\n",
    "solution(\"hit\", \"cog\", [\"hot\", \"dot\", \"dog\", \"lot\", \"log\", \"cog\"])"
   ]
  }
 ],
 "metadata": {
  "kernelspec": {
   "display_name": "Python 3",
   "language": "python",
   "name": "python3"
  },
  "language_info": {
   "codemirror_mode": {
    "name": "ipython",
    "version": 3
   },
   "file_extension": ".py",
   "mimetype": "text/x-python",
   "name": "python",
   "nbconvert_exporter": "python",
   "pygments_lexer": "ipython3",
   "version": "3.10.6"
  }
 },
 "nbformat": 4,
 "nbformat_minor": 2
}
