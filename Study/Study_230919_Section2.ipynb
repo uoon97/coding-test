{
 "cells": [
  {
   "cell_type": "code",
   "execution_count": 124,
   "metadata": {},
   "outputs": [
    {
     "name": "stdout",
     "output_type": "stream",
     "text": [
      "0.25632357597351074\n",
      "0.0010101795196533203\n"
     ]
    }
   ],
   "source": [
    "# 1. k번째 약수\n",
    "# N = 10^4\n",
    "\n",
    "# O(N)\n",
    "def solution1(N, K):\n",
    "    res = []\n",
    "    for i in range(1, N+1):\n",
    "        if N % i == 0:\n",
    "            res.append(i)\n",
    "    \n",
    "    try: return res[K-1]\n",
    "    except: return -1\n",
    "\n",
    "# O(logN)\n",
    "def solution2(N, K):\n",
    "    res = []\n",
    "    for i in range(1, int(N**(1/2))+1):\n",
    "        if N % i == 0:\n",
    "            res.append(i)\n",
    "\n",
    "            if i**2 != N:\n",
    "                res.append(N // i)\n",
    "    res.sort()\n",
    "\n",
    "    try: return res[K-1]\n",
    "    except: return -1\n",
    "\n",
    "import time\n",
    "start = time.time()\n",
    "solution1(10000000, 999)\n",
    "end1 = time.time()\n",
    "print(end1 - start)\n",
    "solution2(10000000, 999)\n",
    "end2 = time.time()\n",
    "print(end2 - end1)"
   ]
  },
  {
   "cell_type": "code",
   "execution_count": 125,
   "metadata": {},
   "outputs": [
    {
     "name": "stdout",
     "output_type": "stream",
     "text": [
      "7\n",
      "6\n"
     ]
    }
   ],
   "source": [
    "# 2. K번째 수\n",
    "# 백준 입력 대비\n",
    "\n",
    "def solution():\n",
    "    T = int(input())\n",
    "    for _ in range(T):\n",
    "        N, s, e, k = map(int, input().split())\n",
    "        lst = list(map(int, input().split()))\n",
    "        \n",
    "        print(sorted(lst[s-1:e])[k-1])\n",
    "\n",
    "solution()"
   ]
  },
  {
   "cell_type": "code",
   "execution_count": 63,
   "metadata": {},
   "outputs": [
    {
     "data": {
      "text/plain": [
       "143"
      ]
     },
     "execution_count": 63,
     "metadata": {},
     "output_type": "execute_result"
    }
   ],
   "source": [
    "# 3. K번째 큰 수\n",
    "# N < 100, K < 50\n",
    "# iteration을 통해 큰 수, 작은 수 파악\n",
    "\n",
    "from itertools import combinations\n",
    "def solution(N, K):\n",
    "    lst = sorted(list(map(sum, combinations(N, 3))))[::-1]\n",
    "\n",
    "    cnt = 0\n",
    "    min_value = 9999\n",
    "    # 값이 낮아질 때마다 카운트\n",
    "    for i in lst:\n",
    "        if i < min_value:\n",
    "            cnt += 1\n",
    "            if cnt == K:\n",
    "                return i\n",
    "\n",
    "N = [13, 15, 34, 23, 45, 65, 33, 11, 26, 42]\n",
    "K = 3\n",
    "\n",
    "solution(N, K)"
   ]
  },
  {
   "cell_type": "code",
   "execution_count": 61,
   "metadata": {},
   "outputs": [
    {
     "data": {
      "text/plain": [
       "7"
      ]
     },
     "execution_count": 61,
     "metadata": {},
     "output_type": "execute_result"
    }
   ],
   "source": [
    "# 4. 대표값\n",
    "# N < 10^2\n",
    "# '가장 가까운'도 결국 값의 비교이니 iteration..\n",
    "# 값이 같다면 조건을 만족하는 첫 번째만 출력한다.\n",
    "# : iteration에서의 조건문만으로 만족 가능.\n",
    "\n",
    "def solution(students):\n",
    "\n",
    "    mean = int(sum(students)/len(students) + 0.5)\n",
    "    value = 0\n",
    "    min_diff = 999\n",
    "    res = 0\n",
    "    for idx, st in enumerate(students):\n",
    "        if abs(st-mean) <= min_diff and st > value:\n",
    "            min_diff = abs(st-mean)\n",
    "            value = st\n",
    "            res = idx + 1\n",
    "    \n",
    "    return res\n",
    "\n",
    "students = [45, 73, 66, 87, 92, 67, 75, 79, 75, 80]\n",
    "solution(students)"
   ]
  },
  {
   "cell_type": "code",
   "execution_count": 82,
   "metadata": {},
   "outputs": [
    {
     "data": {
      "text/plain": [
       "[5, 6, 7]"
      ]
     },
     "execution_count": 82,
     "metadata": {},
     "output_type": "execute_result"
    }
   ],
   "source": [
    "# 5. 정다면체\n",
    "# N*M < 240\n",
    "# 최대, 최소에서 세부 값이 필요하다면 Iteration..\n",
    "\n",
    "from itertools import product\n",
    "from collections import Counter\n",
    "\n",
    "def solution(N, M):\n",
    "    lst = list(map(sum, product(range(1, N+1), range(1, M+1))))\n",
    "    res = []\n",
    "\n",
    "    c = Counter(lst)\n",
    "    max_value = 0\n",
    "    for key in c.keys():\n",
    "        if c[key] == max_value:\n",
    "            res.append(key)\n",
    "        \n",
    "        if c[key] > max_value:\n",
    "            max_value = c[key]\n",
    "            res = [key]\n",
    "        \n",
    "    return sorted(res)\n",
    "\n",
    "solution(4, 6)"
   ]
  },
  {
   "cell_type": "code",
   "execution_count": 94,
   "metadata": {},
   "outputs": [
    {
     "name": "stdout",
     "output_type": "stream",
     "text": [
      "97\n",
      "97\n"
     ]
    }
   ],
   "source": [
    "# 6. 자릿수의 합\n",
    "# M < 7\n",
    "\n",
    "def solution1(N):\n",
    "    def digit_sum(x):\n",
    "        return sum(map(int, list(str(x))))\n",
    "\n",
    "    max_value = 0\n",
    "    value = 0\n",
    "    for n in N:\n",
    "        if digit_sum(n) > max_value:\n",
    "            max_value = digit_sum(n)\n",
    "            value = n\n",
    "\n",
    "    return value\n",
    "\n",
    "def solution2(N):\n",
    "    def digit_sum(x):\n",
    "        return sum(map(int, list(str(x))))\n",
    "\n",
    "    zips = zip(N, list(map(digit_sum, N)))\n",
    "    return sorted(zips, key = lambda x: x[1])[-1][0]\n",
    "\n",
    "N = [125, 15232, 97]\n",
    "print(solution1(N))\n",
    "print(solution2(N))"
   ]
  },
  {
   "cell_type": "code",
   "execution_count": 93,
   "metadata": {},
   "outputs": [
    {
     "data": {
      "text/plain": [
       "8"
      ]
     },
     "execution_count": 93,
     "metadata": {},
     "output_type": "execute_result"
    }
   ],
   "source": [
    "# 7. 소수\n",
    "# N < 10^5\n",
    "\n",
    "def solution(N):\n",
    "    res = set(range(2, N+1))\n",
    "\n",
    "    for i in range(2, int(N**(1/2))):\n",
    "        res -= set(range(2*i, N+1, i))\n",
    "\n",
    "    return len(res)\n",
    "\n",
    "solution(20)    "
   ]
  },
  {
   "cell_type": "code",
   "execution_count": 102,
   "metadata": {},
   "outputs": [
    {
     "data": {
      "text/plain": [
       "[23, 73]"
      ]
     },
     "execution_count": 102,
     "metadata": {},
     "output_type": "execute_result"
    }
   ],
   "source": [
    "# 8. 뒤집은 소수\n",
    "# N < 10^5\n",
    "\n",
    "def solution(N):\n",
    "    def reverse(x):\n",
    "        return int(''.join(list(str(x))[::-1]))\n",
    "    \n",
    "    def isPrime(x):\n",
    "        if x == 0 or x == 1:\n",
    "            return False\n",
    "        \n",
    "        for i in range(2, int(x**(1/2))):\n",
    "            if x in range(2*i, x+1, i):\n",
    "                return False\n",
    "        return True\n",
    "    \n",
    "    # for n in N:\n",
    "    #     if isPrime(reverse(n)):\n",
    "    #         print(reverse(n))\n",
    "    \n",
    "    return [reverse(n) for n in N if isPrime(reverse(n))]\n",
    "\n",
    "solution([32, 55, 62, 3700, 250])"
   ]
  },
  {
   "cell_type": "code",
   "execution_count": 120,
   "metadata": {},
   "outputs": [
    {
     "data": {
      "text/plain": [
       "12000"
      ]
     },
     "execution_count": 120,
     "metadata": {},
     "output_type": "execute_result"
    }
   ],
   "source": [
    "# 9. 주사위 게임\n",
    "# 한 번에 처리할 방법 안 떠오르면 바로 iteration으로 진행하자.\n",
    "from collections import Counter\n",
    "\n",
    "def solution():\n",
    "    def prize(lst):\n",
    "        c = Counter(lst)\n",
    "        \n",
    "        for key in c.keys():\n",
    "            if c[key] > 1:\n",
    "                cnt = c[key]\n",
    "                return 10**(cnt+1) + key*10**(cnt)\n",
    "        \n",
    "        return 100*max(lst)\n",
    "\n",
    "    max_prize = 0\n",
    "    N = int(input())\n",
    "    for _ in range(N):\n",
    "        lst = list(map(int, input().split()))\n",
    "        money = prize(lst)\n",
    "        if money > max_prize:\n",
    "            max_prize = money\n",
    "    \n",
    "    return max_prize\n",
    "\n",
    "solution()"
   ]
  },
  {
   "cell_type": "code",
   "execution_count": 123,
   "metadata": {},
   "outputs": [
    {
     "data": {
      "text/plain": [
       "10"
      ]
     },
     "execution_count": 123,
     "metadata": {},
     "output_type": "execute_result"
    }
   ],
   "source": [
    "# 10. 점수계산\n",
    "# N < 100\n",
    "\n",
    "def solution(N):\n",
    "    cnt = 0\n",
    "    score = 0\n",
    "\n",
    "    for i in N:\n",
    "        if i == 1:\n",
    "            cnt += 1\n",
    "            score += cnt\n",
    "        \n",
    "        else:\n",
    "            cnt = 0\n",
    "\n",
    "    return score\n",
    "\n",
    "solution([1, 0, 1, 1, 1, 0, 0, 1, 1, 0])"
   ]
  }
 ],
 "metadata": {
  "kernelspec": {
   "display_name": "Python 3",
   "language": "python",
   "name": "python3"
  },
  "language_info": {
   "codemirror_mode": {
    "name": "ipython",
    "version": 3
   },
   "file_extension": ".py",
   "mimetype": "text/x-python",
   "name": "python",
   "nbconvert_exporter": "python",
   "pygments_lexer": "ipython3",
   "version": "3.10.6"
  },
  "orig_nbformat": 4
 },
 "nbformat": 4,
 "nbformat_minor": 2
}
