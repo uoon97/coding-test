{
 "cells": [
  {
   "cell_type": "code",
   "execution_count": 31,
   "metadata": {},
   "outputs": [
    {
     "data": {
      "text/plain": [
       "99776"
      ]
     },
     "execution_count": 31,
     "metadata": {},
     "output_type": "execute_result"
    }
   ],
   "source": [
    "# 1. 가장 큰 수\n",
    "# Stack: 자신 앞의 것을 지우는 데 유리한 자료구조\n",
    "from collections import deque\n",
    "\n",
    "def solution():\n",
    "    n, m = map(int, input().split())\n",
    "    numbers = list(map(int, list(str(n))))\n",
    "    \n",
    "    s = []\n",
    "\n",
    "    for number in numbers:\n",
    "        while s and m > 0 and s[-1] < number:\n",
    "            s.pop()\n",
    "            m -= 1    \n",
    "        s.append(number)\n",
    "    \n",
    "    if m != 0:\n",
    "        s = s[:-m]\n",
    "    \n",
    "    return int(''.join(map(str, s)))\n",
    "    \n",
    "\n",
    "solution()"
   ]
  },
  {
   "cell_type": "code",
   "execution_count": 41,
   "metadata": {},
   "outputs": [
    {
     "data": {
      "text/plain": [
       "24"
      ]
     },
     "execution_count": 41,
     "metadata": {},
     "output_type": "execute_result"
    }
   ],
   "source": [
    "# 2. 쇠막대기\n",
    "# 바로 앞의 것을 보는 게 중요하므로 스택.\n",
    "# while문 꼭 쓸 필요 없고, 이전 인덱스하고 비교하는 게 깔끔하지 않다 생각되면 for문을 range로 돌려라.\n",
    "# 그리고 스택은 한 번에 넣고 조건 확인하고 빼는 형태, 조건 확인하고 넣고 빼는 형태 둘 중 하나로 보여짐..\n",
    "\n",
    "def solution():\n",
    "\n",
    "    boards = list(input())\n",
    "    s = []\n",
    "    cnt = 0\n",
    "    for i in range(len(boards)):\n",
    "\n",
    "        if boards[i] == ')':\n",
    "            if boards[i-1] == '(':\n",
    "                s.pop()\n",
    "                cnt += len(s)\n",
    "\n",
    "            else:\n",
    "                s.pop()\n",
    "                cnt += 1\n",
    "\n",
    "        else:\n",
    "            s.append(boards[i])\n",
    "\n",
    "    return cnt\n",
    "\n",
    "solution()"
   ]
  },
  {
   "cell_type": "code",
   "execution_count": 32,
   "metadata": {},
   "outputs": [
    {
     "name": "stdout",
     "output_type": "stream",
     "text": [
      "\n",
      "3\n",
      "3\n",
      "3\n",
      "35\n",
      "35\n",
      "354\n"
     ]
    },
    {
     "data": {
      "text/plain": [
       "'354*+'"
      ]
     },
     "execution_count": 32,
     "metadata": {},
     "output_type": "execute_result"
    }
   ],
   "source": [
    "# 3. 후위표기식 만들기\n",
    "# 무슨 자료구조를 써야할까?\n",
    "# 앞 인덱스 원소와의 관계만으로 해결되는 문제인가..?\n",
    "# 큐와는 무슨 차이가 있는건가..\n",
    "\n",
    "# 숫자는 그냥 출력\n",
    "# *, /는 스택 내 *, /만 출력\n",
    "# +, -는 스택 내 (를 제외한 모두 출력\n",
    "# )는 (전까지 모두 출력\n",
    "\n",
    "# 스택 돌리면서 조건 확인하고 스택에 넣는 것도 할 수 있지만, 바로 res에 넣는 방법도 있구나..\n",
    "# 스택은 굳이 한 번에 넣을 필요가 없는게 결국 원소 끝을 비교해서.\n",
    "\n",
    "def solution():\n",
    "    formulation = input()\n",
    "    s = []\n",
    "    res = ''\n",
    "    for letter in formulation:\n",
    "        if letter.isdecimal():\n",
    "            res += letter\n",
    "\n",
    "        else:\n",
    "            if letter == '(':\n",
    "                s.append(letter)\n",
    "\n",
    "            elif letter in ['*', '/']:\n",
    "                while s and (s[-1] in ['*', '/']):\n",
    "                    res += s.pop()\n",
    "                s.append(letter)\n",
    "\n",
    "            elif letter in ['+', '-']:\n",
    "                while s and s[-1]!= '(':\n",
    "                    res += s.pop()\n",
    "                s.append(letter)\n",
    "            \n",
    "            elif letter == ')':\n",
    "                while s and s[-1]!= '(':\n",
    "                    res += s.pop()\n",
    "                s.pop()\n",
    "    \n",
    "    while s:\n",
    "        res += s.pop()\n",
    "\n",
    "    return res\n",
    "\n",
    "solution()"
   ]
  },
  {
   "cell_type": "code",
   "execution_count": 42,
   "metadata": {},
   "outputs": [
    {
     "data": {
      "text/plain": [
       "'12'"
      ]
     },
     "execution_count": 42,
     "metadata": {},
     "output_type": "execute_result"
    }
   ],
   "source": [
    "# 4. 후위식 연산\n",
    "# 숫자는 담고\n",
    "# 스택 뒤의 둘을 연산.\n",
    "# 그렇다면 스택은 가장 뒤의 것을 비교하니까 스택..\n",
    "\n",
    "def solution():\n",
    "    formulation = input()\n",
    "    s = []\n",
    "    for letter in formulation:\n",
    "        if letter.isdecimal():\n",
    "            s.append(letter)\n",
    "        \n",
    "        else:\n",
    "            b = s.pop()\n",
    "            a = s.pop()\n",
    "            s.append(str(eval(a + letter + b)))\n",
    "    \n",
    "    return s.pop()\n",
    "\n",
    "solution()\n"
   ]
  },
  {
   "cell_type": "code",
   "execution_count": 48,
   "metadata": {},
   "outputs": [
    {
     "name": "stdout",
     "output_type": "stream",
     "text": [
      "3\n",
      "6\n",
      "1\n",
      "5\n",
      "2\n",
      "8\n",
      "4\n"
     ]
    },
    {
     "data": {
      "text/plain": [
       "7"
      ]
     },
     "execution_count": 48,
     "metadata": {},
     "output_type": "execute_result"
    }
   ],
   "source": [
    "# 5. 공주 구하기\n",
    "# stack과 다르게 queue는 한번에 넣고 시작을 해도 되네.\n",
    "# 그리고 pop()한 것을 다시 넣는 것도 고려.\n",
    "# 그럼 접근 방법은..? 처음부터 센다..?\n",
    "\n",
    "from collections import deque\n",
    "\n",
    "def solution():\n",
    "    N, K = map(int, input().split())\n",
    "\n",
    "    princes = list(range(1, N+1))\n",
    "    q = deque(princes)\n",
    "    cnt = 1\n",
    "    while len(q) > 1:\n",
    "        p = q.popleft()\n",
    "        if cnt == K:\n",
    "            cnt = 1\n",
    "            continue\n",
    "        q.append(p)\n",
    "\n",
    "        cnt += 1\n",
    "\n",
    "    return q.pop()\n",
    "\n",
    "solution()"
   ]
  },
  {
   "cell_type": "code",
   "execution_count": null,
   "metadata": {},
   "outputs": [],
   "source": [
    "from collections import deque\n",
    "\n",
    "N, k = map(int, input().split())\n",
    "\n",
    "prince_list = deque(range(1, N + 1))\n",
    "while len(prince_list) > 1:\n",
    "    prince_list.rotate(-k)\n",
    "    prince_list.pop()\n",
    "\n",
    "print(prince_list.pop())"
   ]
  },
  {
   "cell_type": "code",
   "execution_count": 60,
   "metadata": {},
   "outputs": [
    {
     "data": {
      "text/plain": [
       "5"
      ]
     },
     "execution_count": 60,
     "metadata": {},
     "output_type": "execute_result"
    }
   ],
   "source": [
    "# 6. 응급실\n",
    "# 현재 순서를 queue 안에 있는, 즉 나중에 올 것들과 비교..\n",
    "from collections import deque\n",
    "\n",
    "def solution():\n",
    "    N, M = map(int, input().split())\n",
    "    patients = list(map(int, input().split()))\n",
    "\n",
    "    q = deque(list(enumerate(patients)))\n",
    "    cnt = 0\n",
    "    while q:\n",
    "        patient = q.popleft()\n",
    "        if patient[1] >= max(list(zip(*q))[-1]):\n",
    "            cnt += 1\n",
    "            if patient[0] == M:\n",
    "                return cnt\n",
    "            continue\n",
    "        q.append(patient)\n",
    "\n",
    "solution()"
   ]
  },
  {
   "cell_type": "code",
   "execution_count": 74,
   "metadata": {},
   "outputs": [
    {
     "name": "stdout",
     "output_type": "stream",
     "text": [
      "#1 YES\n"
     ]
    }
   ],
   "source": [
    "# 7. 교육과정 설계\n",
    "# 이후 것과 비교해야 되는 경우. (바로 뒤 or 뒤 범위)\n",
    "\n",
    "from collections import deque\n",
    "def solution():\n",
    "    needs = list(input())\n",
    "    N = int(input())\n",
    "\n",
    "    for i in range(N):\n",
    "        l = list(input())\n",
    "        q = deque(l)\n",
    "\n",
    "        cnt = 0\n",
    "        while q:\n",
    "            curr = q.popleft()\n",
    "            if curr in needs:\n",
    "                if curr in needs[:cnt+1]:\n",
    "                    if cnt == len(needs):\n",
    "                        continue\n",
    "\n",
    "                    if curr == needs[cnt]:\n",
    "                        cnt += 1\n",
    "                    continue\n",
    "                \n",
    "                else:\n",
    "                    print(f'#{i+1} NO')\n",
    "                    break\n",
    "        else:\n",
    "            if cnt < len(needs):\n",
    "                print(f'#{i+1} NO')\n",
    "            else:\n",
    "                print(f'#{i+1} YES')\n",
    "\n",
    "solution()"
   ]
  }
 ],
 "metadata": {
  "kernelspec": {
   "display_name": "Python 3",
   "language": "python",
   "name": "python3"
  },
  "language_info": {
   "codemirror_mode": {
    "name": "ipython",
    "version": 3
   },
   "file_extension": ".py",
   "mimetype": "text/x-python",
   "name": "python",
   "nbconvert_exporter": "python",
   "pygments_lexer": "ipython3",
   "version": "3.10.6"
  },
  "orig_nbformat": 4
 },
 "nbformat": 4,
 "nbformat_minor": 2
}
