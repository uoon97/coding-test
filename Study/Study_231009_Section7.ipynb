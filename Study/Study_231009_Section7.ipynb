{
 "cells": [
  {
   "cell_type": "markdown",
   "metadata": {},
   "source": [
    "### DFS\n",
    "- 경우의 수를 모두 확인해야 할 때(완전탐색): 재귀함수로 구현 <br> \n",
    "(idx 단위로 재귀함수를 호출하면 depth를 줄일 수 있다.)\n",
    "\n",
    "- 좌표 형태의 그래프를 탐색할 때: 방문 여부를 확인하고, 인접 노드 위치에서의 재귀함수를 호출한다.\n",
    "\n",
    "- 스택을 통해 구현할 수 있으나, 초기화가 필요하므로 재귀함수를 통해 구현하는 것이 편리하다.\n",
    "\n",
    "- 때문에 스택으로 구현할 때는 1회 탐색일 경우, 그리고 이 함수를 모든 시작점에 대해 호출하여 사용하는 듯.\n",
    "\n",
    "#### Template\n",
    "- 종료 조건, 다음 경우의 수(재귀함수 호출)"
   ]
  },
  {
   "cell_type": "code",
   "execution_count": 3,
   "metadata": {},
   "outputs": [
    {
     "data": {
      "text/plain": [
       "41"
      ]
     },
     "execution_count": 3,
     "metadata": {},
     "output_type": "execute_result"
    }
   ],
   "source": [
    "# 1. 최대점수 구하기(DFS)\n",
    "\n",
    "max_score = 0\n",
    "\n",
    "def solution():\n",
    "    n, m = map(int, input().split())\n",
    "    problems = []\n",
    "    for _ in range(n):\n",
    "        problems.append(tuple(map(int, input().split())))\n",
    "\n",
    "    def dfs(i, v, t):\n",
    "        # 종료 조건\n",
    "        if t > m:\n",
    "            return\n",
    "\n",
    "        # 종료 조건\n",
    "        if i == n:\n",
    "            global max_score\n",
    "            if v > max_score:\n",
    "                max_score = v\n",
    "            return\n",
    "\n",
    "        # 인접 or 다음 노드(경우의 수)\n",
    "        dfs(i+1, v + problems[i][0], t + problems[i][1])\n",
    "        dfs(i+1, v, t)\n",
    "    \n",
    "    dfs(0, 0, 0)\n",
    "\n",
    "    return max_score\n",
    "\n",
    "solution()"
   ]
  },
  {
   "cell_type": "code",
   "execution_count": 4,
   "metadata": {},
   "outputs": [
    {
     "data": {
      "text/plain": [
       "60"
      ]
     },
     "execution_count": 4,
     "metadata": {},
     "output_type": "execute_result"
    }
   ],
   "source": [
    "# 2. 휴가\n",
    "# 끝나는 날짜 기준으로 자료구조를 바꾼다면 그리디 알고리즘으로도 가능하나?\n",
    "\n",
    "max_revenue = 0\n",
    "\n",
    "def solution():\n",
    "    N = int(input())\n",
    "    counsels = []\n",
    "    for _ in range(N):\n",
    "        counsels.append(tuple(map(int, input().split())))\n",
    "    \n",
    "    def dfs(i, p):\n",
    "        # i = 0부터 시작한다면, i = N-1이 끝.\n",
    "        # i == N이 되면 종료되어야 함.\n",
    "\n",
    "        # 종료 조건\n",
    "        if i >= N:\n",
    "            global max_revenue\n",
    "            if p > max_revenue and i == N:\n",
    "                max_revenue = p\n",
    "            return\n",
    "        \n",
    "        # 인접 or 다음 노드(경우의 수)\n",
    "        dfs(i + counsels[i][0], p + counsels[i][1])\n",
    "        dfs(i + 1, p)\n",
    "\n",
    "    dfs(0, 0)\n",
    "    return max_revenue\n",
    "\n",
    "solution()"
   ]
  },
  {
   "cell_type": "code",
   "execution_count": 15,
   "metadata": {},
   "outputs": [
    {
     "data": {
      "text/plain": [
       "2"
      ]
     },
     "execution_count": 15,
     "metadata": {},
     "output_type": "execute_result"
    }
   ],
   "source": [
    "# 3. 양팔저울\n",
    "# 선택지는 더하기, 빼기, 넘어가기\n",
    "\n",
    "def solution():\n",
    "    K = int(input())\n",
    "    pendulums = list(map(int, input().split()))\n",
    "\n",
    "    s = sum(pendulums)\n",
    "    cases = set()\n",
    "\n",
    "    def dfs(i, v):\n",
    "        # 종료 조건\n",
    "        if i <= K:\n",
    "            # i = K일 때는 값을 넣고 return, v < 0이면 return\n",
    "            # 음수여도 이후에 더해서 양수가 된다면 상관 없음.\n",
    "            if v > 0:\n",
    "                cases.add(v)\n",
    "\n",
    "            if i == K:\n",
    "                return\n",
    "        \n",
    "        # 경우의 수\n",
    "        dfs(i + 1, v + pendulums[i])\n",
    "        dfs(i + 1, v - pendulums[i])\n",
    "        dfs(i + 1, v)\n",
    "    \n",
    "    dfs(0, 0)\n",
    "    return s - len(cases)\n",
    "\n",
    "solution()"
   ]
  },
  {
   "cell_type": "code",
   "execution_count": 22,
   "metadata": {},
   "outputs": [
    {
     "data": {
      "text/plain": [
       "99"
      ]
     },
     "execution_count": 22,
     "metadata": {},
     "output_type": "execute_result"
    }
   ],
   "source": [
    "# 4. 동전 바꿔주기\n",
    "# 동전의 순서를 구분해선 안됨.\n",
    "# 그렇다면 idx 기준으로 for문을 돌려 동전 종류마다 한 번의 재귀함수를 호출하도록..\n",
    "# idx 기준으로 하게 되면 중복을 없앨 수 있는 듯.\n",
    "\n",
    "cnt = 0\n",
    "def solution():\n",
    "    T = int(input())\n",
    "    k = int(input())\n",
    "    money = []\n",
    "    for _ in range(k):\n",
    "        money.append(tuple(map(int, input().split())))\n",
    "        \n",
    "    def dfs(i, v):\n",
    "\n",
    "        # 종료 조건\n",
    "        if v == T:\n",
    "            global cnt\n",
    "            cnt += 1     \n",
    "            return\n",
    "        \n",
    "        if i == k or v > T:\n",
    "            return\n",
    "        \n",
    "        # 인접, 다음 노드(경우의 수)\n",
    "        p, n = money[i]\n",
    "\n",
    "        for j in range(n+1):\n",
    "            dfs(i+1, v + j*p)\n",
    "        \n",
    "    dfs(0, 0)\n",
    "    return cnt\n",
    "\n",
    "solution()"
   ]
  },
  {
   "cell_type": "code",
   "execution_count": 31,
   "metadata": {},
   "outputs": [
    {
     "data": {
      "text/plain": [
       "5"
      ]
     },
     "execution_count": 31,
     "metadata": {},
     "output_type": "execute_result"
    }
   ],
   "source": [
    "# 5. 동전 분배하기\n",
    "# 세 사람의 총액은 서로 달라야 하며, 가장 큰 사람과 가장 적은 사람 차이 최소.\n",
    "\n",
    "min_diff = 999999\n",
    "\n",
    "def solution():\n",
    "    N = int(input())\n",
    "\n",
    "    price = []\n",
    "    for _ in range(N):\n",
    "        price.append(int(input()))\n",
    "\n",
    "    def dfs(i, v):\n",
    "\n",
    "        # 종료 조건\n",
    "        if i == N:\n",
    "            global min_diff\n",
    "            diff = max(v) - min(v)\n",
    "\n",
    "            if len(set(v)) == 3 and diff < min_diff:\n",
    "                min_diff = diff\n",
    "            return\n",
    "        \n",
    "        # 경우의 수\n",
    "        for j in range(3):\n",
    "            v[j] += price[i]\n",
    "            dfs(i+1, v)\n",
    "            v[j] -= price[i]\n",
    "\n",
    "    dfs(0, [0, 0, 0])\n",
    "    return min_diff\n",
    "\n",
    "solution()"
   ]
  },
  {
   "cell_type": "code",
   "execution_count": 48,
   "metadata": {},
   "outputs": [
    {
     "name": "stdout",
     "output_type": "stream",
     "text": [
      "AAEBACJB\n",
      "AAEBMJB\n",
      "AAEUCJB\n",
      "AOBACJB\n",
      "AOBMJB\n",
      "AOUCJB\n",
      "KEBACJB\n",
      "KEBMJB\n",
      "KEUCJB\n"
     ]
    },
    {
     "data": {
      "text/plain": [
       "9"
      ]
     },
     "execution_count": 48,
     "metadata": {},
     "output_type": "execute_result"
    }
   ],
   "source": [
    "# 6. 알파코드\n",
    "# 다음 노드(경우의 수)는 뒤의 문자를 고려할 것인가 고려하지 않을 것인가.\n",
    "\n",
    "def solution():\n",
    "    n = input()\n",
    "\n",
    "    cases = set()\n",
    "    def dfs(i, v):\n",
    "        # 종료 조건\n",
    "        if i == len(n):\n",
    "            print(v)\n",
    "            cases.add(v)\n",
    "            return\n",
    "        \n",
    "        if n[i] == '0':\n",
    "            return\n",
    "\n",
    "        # 경우의 수\n",
    "        dfs(i+1, v + chr(64+int(n[i])))\n",
    "\n",
    "        if i < len(n)-1:\n",
    "            if 1 <= int(n[i] + n[i+1]) <= 26:\n",
    "                dfs(i+2, v + chr(64 + int(n[i] + n[i+1])))\n",
    "    \n",
    "    dfs(0, '')\n",
    "    return len(cases)\n",
    "\n",
    "solution()"
   ]
  }
 ],
 "metadata": {
  "kernelspec": {
   "display_name": "Python 3",
   "language": "python",
   "name": "python3"
  },
  "language_info": {
   "codemirror_mode": {
    "name": "ipython",
    "version": 3
   },
   "file_extension": ".py",
   "mimetype": "text/x-python",
   "name": "python",
   "nbconvert_exporter": "python",
   "pygments_lexer": "ipython3",
   "version": "3.10.6"
  }
 },
 "nbformat": 4,
 "nbformat_minor": 2
}
