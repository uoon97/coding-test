{
 "cells": [
  {
   "cell_type": "code",
   "execution_count": 18,
   "metadata": {},
   "outputs": [
    {
     "name": "stdout",
     "output_type": "stream",
     "text": [
      "21\n",
      "21\n"
     ]
    }
   ],
   "source": [
    "# 1. 네트워크 선 자르기 (Bottom-Up)\n",
    "# for문으로 처음부터 시작\n",
    "# 초기값 설정\n",
    "# 점화식: f(x) = f(x-1) + f(x-2)\n",
    "\n",
    "def solution():\n",
    "    \n",
    "    N = int(input())\n",
    "    memo = [0]*(N+1)\n",
    "\n",
    "    for i in range(1, N+1):\n",
    "        if i == 1 or i == 2:\n",
    "            memo[i] = i\n",
    "            continue\n",
    "\n",
    "        memo[i] = memo[i-1] + memo[i-2]\n",
    "\n",
    "    return memo[N]\n",
    "\n",
    "print(solution())\n",
    "\n",
    "# 1. 네트워크 선 자르기 (Top-Down)\n",
    "# 재귀함수\n",
    "# 초기값 설정(종료 조건)\n",
    "# 점화식: f(x) = f(x-1) + f(x-2)\n",
    "\n",
    "def solution():\n",
    "     \n",
    "    N = int(input())\n",
    "    memo = [0]*(N+1)\n",
    "\n",
    "    def recursion(n):\n",
    "        \n",
    "        if n == 1 or n == 2:\n",
    "            return n\n",
    "\n",
    "        if memo[n] == 0:\n",
    "            memo[n] =  recursion(n-1) + recursion(n-2)\n",
    "            \n",
    "        return memo[n]\n",
    "\n",
    "    return recursion(N)\n",
    "\n",
    "print(solution())"
   ]
  },
  {
   "cell_type": "code",
   "execution_count": 20,
   "metadata": {},
   "outputs": [
    {
     "data": {
      "text/plain": [
       "21"
      ]
     },
     "execution_count": 20,
     "metadata": {},
     "output_type": "execute_result"
    }
   ],
   "source": [
    "# 3. 계단 오르기\n",
    "# 재귀함수 / 종료 조건(초기값) 설정 / 점화식\n",
    "\n",
    "def solution():\n",
    "\n",
    "    N = int(input())\n",
    "    memo = [0]*(N+1)\n",
    "\n",
    "    def recursion(n):\n",
    "\n",
    "        if n == 1 or n == 2:\n",
    "            return n\n",
    "        \n",
    "        if memo[n] == 0:\n",
    "            memo[n] = recursion(n-1) + recursion(n-2)\n",
    "        \n",
    "        return memo[n]\n",
    "\n",
    "    return recursion(N)\n",
    "\n",
    "solution()"
   ]
  },
  {
   "cell_type": "code",
   "execution_count": 23,
   "metadata": {},
   "outputs": [
    {
     "data": {
      "text/plain": [
       "34"
      ]
     },
     "execution_count": 23,
     "metadata": {},
     "output_type": "execute_result"
    }
   ],
   "source": [
    "# 4. 돌다리 건너기\n",
    "# for문으로 처음부터 탐색 / 초기값 설정 / 점화식\n",
    "\n",
    "def solution():\n",
    "\n",
    "    N = int(input()) + 1\n",
    "    memo = [0]*(N+1)\n",
    "\n",
    "    for i in range(1, N+1):\n",
    "        if i == 1 or i == 2:\n",
    "            memo[i] = i\n",
    "            continue\n",
    "\n",
    "        memo[i] = memo[i-1] + memo[i-2]\n",
    "    \n",
    "    return memo[N]\n",
    "\n",
    "solution()"
   ]
  },
  {
   "cell_type": "markdown",
   "metadata": {},
   "source": [
    "### **Longest Increasing Subsequence(LIS)**\n",
    "\n",
    "- $ f(i) = max(f(j)) + 1 \\quad \\forall j < i \\quad and \\quad a[j] < a[i] $\n",
    "\n",
    "- $f(i)$: length of LIS ending at i\n",
    "- $a(i)$: the value of the ith element\n",
    "\n",
    "- a[j] < a[i] 란 조건과 max(f(j))+1이란 식은 바뀔 수 있지만 j < i는 바뀌지 않는다. <br>\n",
    "  때문에 문제에서 주어진 순서를 바꾸지 못한다고 말한다면, 고려해보자."
   ]
  },
  {
   "cell_type": "code",
   "execution_count": 9,
   "metadata": {},
   "outputs": [
    {
     "ename": "ValueError",
     "evalue": "max() arg is an empty sequence",
     "output_type": "error",
     "traceback": [
      "\u001b[1;31m---------------------------------------------------------------------------\u001b[0m",
      "\u001b[1;31mValueError\u001b[0m                                Traceback (most recent call last)",
      "\u001b[1;32mc:\\Dev\\coding_test\\Study\\Study_231012_Section8.ipynb Cell 5\u001b[0m line \u001b[0;36m2\n\u001b[0;32m     <a href='vscode-notebook-cell:/c%3A/Dev/coding_test/Study/Study_231012_Section8.ipynb#W4sZmlsZQ%3D%3D?line=15'>16</a>\u001b[0m         d[i] \u001b[39m=\u001b[39m \u001b[39mmax\u001b[39m([d[j] \u001b[39mfor\u001b[39;00m j \u001b[39min\u001b[39;00m \u001b[39mrange\u001b[39m(\u001b[39m1\u001b[39m, i) \u001b[39mif\u001b[39;00m arr[j] \u001b[39m<\u001b[39m arr[i]]) \u001b[39m+\u001b[39m \u001b[39m1\u001b[39m\n\u001b[0;32m     <a href='vscode-notebook-cell:/c%3A/Dev/coding_test/Study/Study_231012_Section8.ipynb#W4sZmlsZQ%3D%3D?line=17'>18</a>\u001b[0m     \u001b[39mprint\u001b[39m(\u001b[39mmax\u001b[39m(d))\n\u001b[1;32m---> <a href='vscode-notebook-cell:/c%3A/Dev/coding_test/Study/Study_231012_Section8.ipynb#W4sZmlsZQ%3D%3D?line=20'>21</a>\u001b[0m solution()\n",
      "\u001b[1;32mc:\\Dev\\coding_test\\Study\\Study_231012_Section8.ipynb Cell 5\u001b[0m line \u001b[0;36m1\n\u001b[0;32m     <a href='vscode-notebook-cell:/c%3A/Dev/coding_test/Study/Study_231012_Section8.ipynb#W4sZmlsZQ%3D%3D?line=12'>13</a>\u001b[0m d[\u001b[39m1\u001b[39m] \u001b[39m=\u001b[39m \u001b[39m1\u001b[39m\n\u001b[0;32m     <a href='vscode-notebook-cell:/c%3A/Dev/coding_test/Study/Study_231012_Section8.ipynb#W4sZmlsZQ%3D%3D?line=14'>15</a>\u001b[0m \u001b[39mfor\u001b[39;00m i \u001b[39min\u001b[39;00m \u001b[39mrange\u001b[39m(\u001b[39m2\u001b[39m, N\u001b[39m+\u001b[39m\u001b[39m1\u001b[39m):\n\u001b[1;32m---> <a href='vscode-notebook-cell:/c%3A/Dev/coding_test/Study/Study_231012_Section8.ipynb#W4sZmlsZQ%3D%3D?line=15'>16</a>\u001b[0m     d[i] \u001b[39m=\u001b[39m \u001b[39mmax\u001b[39;49m([d[j] \u001b[39mfor\u001b[39;49;00m j \u001b[39min\u001b[39;49;00m \u001b[39mrange\u001b[39;49m(\u001b[39m1\u001b[39;49m, i) \u001b[39mif\u001b[39;49;00m arr[j] \u001b[39m<\u001b[39;49m arr[i]]) \u001b[39m+\u001b[39m \u001b[39m1\u001b[39m\n\u001b[0;32m     <a href='vscode-notebook-cell:/c%3A/Dev/coding_test/Study/Study_231012_Section8.ipynb#W4sZmlsZQ%3D%3D?line=17'>18</a>\u001b[0m \u001b[39mprint\u001b[39m(\u001b[39mmax\u001b[39m(d))\n",
      "\u001b[1;31mValueError\u001b[0m: max() arg is an empty sequence"
     ]
    }
   ],
   "source": [
    "# 5. 최대 부분 증가수열(LIS)\n",
    "# 현재 항의 수열의 길이 = 현재 항보다 작은 값 중 수열의 길이가 가장 큰 값 + 1\n",
    "# LIS 같은 경우엔 솔직히 모른다는 가정 하에 한번에 점화식을 떠올리긴 쉽지 않은 듯.\n",
    "# 그럼에도, LIS처럼 점화식을 두 개의 array로 진행할 수 있다는 것을 기억해두자.\n",
    "\n",
    "\n",
    "def solution():\n",
    "\n",
    "    N = int(input())\n",
    "    arr = list(map(int, input().split()))\n",
    "    arr.insert(0, 0)\n",
    "    d = [0] * (N+1)\n",
    "    d[1] = 1\n",
    "\n",
    "    for i in range(2, N+1):\n",
    "        d[i] = max([d[j] if arr[j] < arr[i] else 0 for j in range(1, i)]) + 1\n",
    "\n",
    "    print(max(d))\n",
    "\n",
    "\n",
    "solution()"
   ]
  },
  {
   "cell_type": "code",
   "execution_count": null,
   "metadata": {},
   "outputs": [],
   "source": [
    "# 6. 최대 선 연결하기"
   ]
  },
  {
   "cell_type": "code",
   "execution_count": null,
   "metadata": {},
   "outputs": [],
   "source": [
    "# 7. 가장 높은 탑 쌓기"
   ]
  },
  {
   "cell_type": "code",
   "execution_count": null,
   "metadata": {},
   "outputs": [],
   "source": [
    "# 8. 알리바바 40인의 도둑\n",
    "# f(x, y) = min(f(x-1, y), f(x, y-1)) + matrix(x, y)"
   ]
  }
 ],
 "metadata": {
  "kernelspec": {
   "display_name": "Python 3",
   "language": "python",
   "name": "python3"
  },
  "language_info": {
   "codemirror_mode": {
    "name": "ipython",
    "version": 3
   },
   "file_extension": ".py",
   "mimetype": "text/x-python",
   "name": "python",
   "nbconvert_exporter": "python",
   "pygments_lexer": "ipython3",
   "version": "3.10.6"
  }
 },
 "nbformat": 4,
 "nbformat_minor": 2
}
