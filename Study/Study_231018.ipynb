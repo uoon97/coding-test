{
 "cells": [
  {
   "cell_type": "code",
   "execution_count": null,
   "metadata": {},
   "outputs": [],
   "source": []
  },
  {
   "cell_type": "code",
   "execution_count": null,
   "metadata": {},
   "outputs": [],
   "source": [
    "from collections import defaultdict, deque\n",
    "\n",
    "def solution(n, costs):\n",
    "    \n",
    "    inc = defaultdict(list)\n",
    "    \n",
    "    for cost in costs:\n",
    "        inc[cost[0]].append((cost[1], cost[2]))\n",
    "        inc[cost[1]].append((cost[0], cost[2]))\n",
    "    \n",
    "    def bfs(start):\n",
    "        \n",
    "        q = deque([(start, 1, inc[start][2])])\n",
    "        min_cost = 214700000\n",
    "        visited = [start]\n",
    "        while q:\n",
    "            curr, level, cost = q.popleft()\n",
    "            \n",
    "            if level == n:\n",
    "                min_cost = min_cost(min_cost, cost)\n",
    "            \n",
    "            for v, c in inc[curr]:\n",
    "                if v not in visited:\n",
    "                    q.append((v, level + 1, cost + c))\n",
    "                    visited.append(v)\n",
    "        \n",
    "            return min_cost\n",
    "    \n",
    "    res = 21470000\n",
    "    for start in range(n):\n",
    "        min_cost = bfs(start)\n",
    "        res = min(min_cost, res)\n",
    "    \n",
    "    return res\n",
    "        "
   ]
  }
 ],
 "metadata": {
  "language_info": {
   "name": "python"
  }
 },
 "nbformat": 4,
 "nbformat_minor": 2
}
