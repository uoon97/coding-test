{
 "cells": [
  {
   "cell_type": "markdown",
   "metadata": {},
   "source": [
    "### **Iteration**"
   ]
  },
  {
   "cell_type": "markdown",
   "metadata": {},
   "source": [
    "- for, while 등의 반복문으로, 정의 그대로 반복되는 규칙을 만들어야 한다.\n",
    "\n",
    "- **리스트 내 원소 값의 비교**에서 주로 사용되기 때문에 거의 대부분의 문제에서 활용된다.\n",
    "\n",
    "- 단, O($N^{2}$)과 같은 이중반복문의 경우, 효율성에서 오답이 될 수 있으니 주의."
   ]
  },
  {
   "cell_type": "markdown",
   "metadata": {},
   "source": [
    "### **Two pointer**"
   ]
  },
  {
   "cell_type": "markdown",
   "metadata": {},
   "source": [
    "- Iteration의 한 종류이지만, 포인터가 하나가 아닌 둘이다.\n",
    "\n",
    "- 리스트 내 두 원소 사이의 합 등의 계산을 이중반복문 없이 한 iteration로 대체할 수 있다.\n",
    "\n",
    "- 하지만, start가 커지면 조건으로 걸 값이 작아지고, end가 커지면 조건으로 걸 값이 커져야만 사용할 수 있다.\n",
    "\n",
    "- **이중반복문으로 해결해야 할 것 같은데, 효율성에서 오류가 날 것 같다면 떠올려보자.**\n",
    "\n",
    "#### **template**\n",
    "\n",
    "```python\n",
    "start = 0\n",
    "end = 1\n",
    "\n",
    "while True:\n",
    "        if sum(a[start:end]) < m:\n",
    "            if end < n:\n",
    "                end += 1\n",
    "            else:\n",
    "                break\n",
    "        \n",
    "        elif sum(a[start:end]) == m:\n",
    "            cnt += 1\n",
    "            start += 1\n",
    "        \n",
    "        else:\n",
    "            start += 1\n",
    "\n",
    "    return cnt\n",
    "```"
   ]
  },
  {
   "cell_type": "markdown",
   "metadata": {},
   "source": [
    "### **Bianry Search**"
   ]
  },
  {
   "cell_type": "markdown",
   "metadata": {},
   "source": [
    "- 큰 범위에서의 수 중 최적 값 혹은 특정 값을 서칭해야 될 때 쓰도록 하자. (max(N) > 10^5인 경우들.)\n",
    "\n",
    "- 문제는 일반적으로 비교 함수의 변형하여 출제하는 듯.\n",
    "\n",
    "- 다른 부분에서도 적용될 수 있는 사고 방식인데, list의 특정 지점을 끊어내야 할 때 이 지점이 여러 개라면 <br>\n",
    "특정 지점을 끊는 기준이 통일되어 있는지 확인해보자. 즉, 결정을 여러 번 내리지 않고 한 번만 내릴 수 있도록 접근하는 것.\n",
    "\n",
    "\n",
    "#### **template**\n",
    "1. while start <= end\n",
    "\n",
    "2. mid = (start + end)//2\n",
    "\n",
    "3. function(mid)과 특정 값 비교: 이 부분이 문제의 key. function의 변화도, 비교 방식의 변화(<=, >=)도 있을 수 있다.\n",
    "\n",
    "4. 이에 따른 start, end의 변형."
   ]
  },
  {
   "cell_type": "markdown",
   "metadata": {},
   "source": [
    "### **Stack**"
   ]
  },
  {
   "cell_type": "markdown",
   "metadata": {},
   "source": [
    "- 앞의 인덱스와 비교를 계속해야 하는 문제에서 접근해볼 것. \n",
    "\n",
    "#### **template**\n",
    "1. 빈 스택에서 스타트 or <br>\n",
    "풀 스택에서 스타트 (2개의 리스트일 경우에 가능성 있을듯.)\n",
    "\n",
    "2. while문을 통해 pop() 반복할 것인지 확인\n",
    "\n",
    "3. 조건을 통해 pop or append\n",
    "\n",
    "4. pop()을 result에 담을 것인지 (리스트 길이 유지될 경우에 고려.)\n",
    "\n",
    "```python\n",
    "\n",
    "1. stack = [] || stack = list\n",
    "\n",
    "for i in range(len(elements)): || for e in elements:    \n",
    "2.      # while stack:\n",
    "3.          if stack[-1] ~ Condition:\n",
    "4.              stack.pop() || res.append(stack.pop())\n",
    "    stack.append(e)\n",
    "\n",
    "```\n",
    "\n",
    "암기하기 번거롭다면 언제 pop(), append()할지, 계속 pop()할지만 고려하자."
   ]
  },
  {
   "cell_type": "markdown",
   "metadata": {},
   "source": [
    "### **Queue**"
   ]
  },
  {
   "cell_type": "markdown",
   "metadata": {},
   "source": [
    "- 뒤의 인덱스와 비교를 계속해야 하는 문제에서 접근해볼 것.\n",
    "\n",
    "- 리스트를 순환 형태로 반복시켜야 할 경우에도 접근해볼 것.\n",
    "\n",
    "#### **template**\n",
    "\n",
    "1. 풀 큐에서 스타트\n",
    "\n",
    "2. popleft() 관련 조건 세우기 (나머지 큐 or 다른 리스트)\n",
    "\n",
    "3. 여기서 조건은 queue 바깥 변수에 의해 달라질 수 있다.\n",
    "\n",
    "```python\n",
    "from collections import deque\n",
    "1. queue = deque(elements)\n",
    "3. cnt = 0\n",
    "2. while queue:\n",
    "        curr = queue.popleft()\n",
    "        if curr ~ condition(cnt):\n",
    "            queue.append(curr)\n",
    "            cnt += 1\n",
    "        continue\n",
    "\n",
    "```\n",
    "\n",
    "암기하기 번거롭다면, 언제 popleft(), append()할지만 고려하자."
   ]
  }
 ],
 "metadata": {
  "kernelspec": {
   "display_name": "Python 3",
   "language": "python",
   "name": "python3"
  },
  "language_info": {
   "codemirror_mode": {
    "name": "ipython",
    "version": 3
   },
   "file_extension": ".py",
   "mimetype": "text/x-python",
   "name": "python",
   "nbconvert_exporter": "python",
   "pygments_lexer": "ipython3",
   "version": "3.10.6"
  },
  "orig_nbformat": 4
 },
 "nbformat": 4,
 "nbformat_minor": 2
}
