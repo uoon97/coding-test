{
 "cells": [
  {
   "cell_type": "markdown",
   "metadata": {},
   "source": [
    "## **<span style=\"color:IndianRed\">Approach Thinking</span>**"
   ]
  },
  {
   "cell_type": "markdown",
   "metadata": {},
   "source": [
    "0. 시간복잡도 확인:  $ O(n) < 10^{8} $ <br>\n",
    "<br>\n",
    "1. 직관적 사고 <br>\n",
    "\n",
    "    - **Greedy** : Input, Output 예시로 적고 수식 적기\n",
    "    \n",
    "    - **graph** : BFS, DFS(완전탐색)\n",
    "\n",
    "    - **비교** : Stack, Queue, Two pointer with sort()\n",
    "\n",
    "    - **두 개 이상의 arr, 2중 arr** : hash(dict)\n",
    "    \n",
    "<br>\n",
    "\n",
    "2. 자료구조와 알고리즘 활용 <br>\n",
    "\n",
    "    - heap(max, min)\n",
    "\n",
    "    - Binary Search\n",
    "\n",
    "    - **최단 거리(시작, 끝 정해짐)** : Dijkstra, Floyd Warshall(3중 for문)\n",
    "\n",
    "\n",
    "    - **Topological sort** :\n",
    "        - for 선후관계 작업 순서 결정 -> 진입차수 with BFS: 진입차수 0인 node\n",
    "        \n",
    "    \n",
    "    <br>\n",
    "\n",
    "    - **kruskal algorithm** :\n",
    "    \n",
    "        - 최소 비용 그래프 연결: 정렬, 사이클 여부 with union-find\n",
    "\n",
    "<br>\n",
    "\n",
    "3. 다이나믹 프로그래밍 활용 <br>\n",
    "\n",
    "    - e.g. 최대, 최소, 경로 수\n",
    "\n",
    "    - 재귀(반복문) / 종료 조건(초기 조건) / 점화식\n",
    "\n",
    "    - **LIS(최대 증가 부분수열)** \n",
    "        - Bottom-up(반복문, 초기조건)\n",
    "        \n",
    "        - 점화식: 현재 항의 수열의 길이 = 현재 항보다 작은 값 중 수열의 길이가 가장 큰 값 + 1\n",
    "\n",
    "        - 현재 항의 수열의 길이(dp): 현재 항의 값을 끝으로 하는 최대 증가 부분 수열\n",
    "        ```python\n",
    "            dp[0] = 1\n",
    "            dp[i] = max([dp[j] for j in range(0, i) if arr[i] > arr[j] else 0]) + 1\n",
    "        ```\n",
    "    \n",
    "    - **Knapsack**\n",
    "    \n",
    "        \n",
    "    "
   ]
  },
  {
   "cell_type": "markdown",
   "metadata": {},
   "source": [
    "### **Iteration**"
   ]
  },
  {
   "cell_type": "markdown",
   "metadata": {},
   "source": [
    "- for, while 등의 반복문으로, 정의 그대로 반복되는 규칙을 만들어야 한다.\n",
    "\n",
    "- **리스트 내 원소 값의 비교**에서 주로 사용되기 때문에 거의 대부분의 문제에서 활용된다.\n",
    "\n",
    "- 단, O($N^{2}$)과 같은 이중반복문의 경우, 효율성에서 오답이 될 수 있으니 주의."
   ]
  },
  {
   "cell_type": "markdown",
   "metadata": {},
   "source": [
    "### **Two pointer**"
   ]
  },
  {
   "cell_type": "markdown",
   "metadata": {},
   "source": [
    "- Iteration의 한 종류로, 포인터가 하나가 아닌 둘이다.\n",
    "\n",
    "- **이중 반복문으로 해결해야 할 것 같은데, 효율성에서 오류가 날 것 같다면 떠올려보자.**\n",
    "\n",
    "- start_idx가 변화하면 조건 변수가 작아지고, end_idx가 변화하면 조건 변수가 커져야 하는 것 같이\n",
    "<br> idx가 변화함에 따라 반대 값을 가질 수 있도록 정해져 있어야 한다.\n",
    "\n",
    "- 두 포인터 사이의 합을 구할 경우, 두 포인터가 가리키는 합을 구할 경우 등의 문제가 존재한다.\n",
    "<br> 이 때, 사이의 합의 경우, 문제 없지만 가리키는 합의 경우, 정렬을 써야한다.\n",
    "\n",
    "```python\n",
    "start = 0                                                               start = 0 \n",
    "end = 1                                                                 end = len(arr)-1\n",
    "                                                                        cnt = 0\n",
    "while True:                                                             arr.sort()\n",
    "        if sum(arr[start:end]) < m:                                     while start < end:\n",
    "            if end < n:                                                     if start + end > m:\n",
    "                end += 1                                                        end -= 1\n",
    "            else:                                                               continue\n",
    "                break                                                       else:\n",
    "        elif sum(arr[start:end]) == m:                                           start += 1\n",
    "            cnt += 1                                                             end -= 1    \n",
    "            start += 1                                                      cnt += 1\n",
    "        \n",
    "        else:                                                            return cnt\n",
    "            start += 1\n",
    "\n",
    "    return cnt\n",
    "```"
   ]
  },
  {
   "cell_type": "markdown",
   "metadata": {},
   "source": [
    "### **Bianry Search**"
   ]
  },
  {
   "cell_type": "markdown",
   "metadata": {},
   "source": [
    "- 큰 범위에서의 수 중 최적 값 혹은 특정 값을 서칭해야 될 때 쓰도록 하자. (max(N) > 10^5인 경우들.)\n",
    "\n",
    "- 문제는 일반적으로 비교 함수의 변형하여 출제하는 듯.\n",
    "\n",
    "- arr의 특정 지점을 여러 개 끊어야 되는 경우, 특정 지점을 끊는 기준이 통일되어 있는지 확인해보자. <br>\n",
    "즉, 결정을 여러 번 내리지 않고 한 번만 내릴 수 있도록 접근하는 것.\n",
    "\n",
    "```python\n",
    "\n",
    "while start <= end:\n",
    "    mid = (start + end)//2\n",
    "\n",
    "    if count(mid) < m: # 비교 조건 변수의 변화(문제의 key) \n",
    "        end = mid - 1  # 부등호의 변화(>=: 비교 조건을 만족하는 값 중 최대, <=: 비교 조건을 만족하는 값 중 최소)\n",
    "                       # >= : 비교 조건을 만족해도 mid + 1을 통해 비교 조건을 만족하지 못할 때까지 커지므로 최대가 된다.\n",
    "    \n",
    "    elif count(mid) > m:\n",
    "        start = mid + 1 # end = mid -1 / start = mid + 1의 틀은 변하지 않는다.\n",
    "\n",
    "    else:\n",
    "        return mid\n",
    "```"
   ]
  },
  {
   "cell_type": "markdown",
   "metadata": {},
   "source": [
    "### **Stack**"
   ]
  },
  {
   "cell_type": "markdown",
   "metadata": {},
   "source": [
    "- 앞의 인덱스와 비교를 계속해야 하는 문제에서 접근해볼 것.\n",
    "\n",
    "- 언제 pop(), append()할지, 계속 pop()할지 고려하자\n",
    "\n",
    "```python\n",
    "\n",
    "stack = [] || stack = list # 빈 스택에서 스타트 or 풀 스택에서 스타트 (2개의 리스트일 경우에 가능성 있을듯.)\n",
    "\n",
    "for i in range(len(elements)): || for e in elements:\n",
    "    # while stack: # while문을 통해 pop() 반복할 것인지 확인\n",
    "    if stack[-1] ~ Condition: # 조건을 통해 pop or append\n",
    "        stack.pop() || res.append(stack.pop()) # pop()을 result에 담을 것인지\n",
    "    stack.append(e)\n",
    "\n",
    "```"
   ]
  },
  {
   "cell_type": "markdown",
   "metadata": {},
   "source": [
    "### **Queue**"
   ]
  },
  {
   "cell_type": "markdown",
   "metadata": {},
   "source": [
    "- 뒤의 인덱스와 비교를 계속해야 하는 문제에서 접근해볼 것.\n",
    "\n",
    "- 리스트를 순환 형태로 반복시켜야 할 경우에도 접근해볼 것.\n",
    "\n",
    "- 풀 큐 스타트, 언제 popleft(), append()할지만 고려하자.\n",
    "\n",
    "```python\n",
    "from collections import deque\n",
    "    queue = deque(elements) # 풀 큐에서 스타트\n",
    "    cnt = 0\n",
    "    while queue:\n",
    "        curr = queue.popleft()\n",
    "        if curr ~ condition(cnt): # append 관련 조건 세우기 (큐 대기열 비교, 다른 리스트 비교 등)\n",
    "            queue.append(curr)\n",
    "            cnt += 1\n",
    "        continue\n",
    "\n",
    "```"
   ]
  }
 ],
 "metadata": {
  "kernelspec": {
   "display_name": "gpu_env",
   "language": "python",
   "name": "gpu_env"
  },
  "language_info": {
   "codemirror_mode": {
    "name": "ipython",
    "version": 3
   },
   "file_extension": ".py",
   "mimetype": "text/x-python",
   "name": "python",
   "nbconvert_exporter": "python",
   "pygments_lexer": "ipython3",
   "version": "3.10.10"
  },
  "orig_nbformat": 4
 },
 "nbformat": 4,
 "nbformat_minor": 2
}
