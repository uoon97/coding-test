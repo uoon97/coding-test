{
 "cells": [
  {
   "cell_type": "code",
   "execution_count": 5,
   "metadata": {},
   "outputs": [
    {
     "name": "stdout",
     "output_type": "stream",
     "text": [
      "['Leanne Graham', 'Ervin Howell', 'Clementine Bauch', 'Patricia Lebsack', 'Chelsey Dietrich', 'Mrs. Dennis Schulist', 'Kurtis Weissnat', 'Nicholas Runolfsdottir V', 'Glenna Reichert', 'Clementina DuBuque']\n"
     ]
    }
   ],
   "source": [
    "import json\n",
    "\n",
    "json.loads(json.dumps({'test': 'test'}))\n",
    "\n",
    "\n",
    "import requests\n",
    " # REST API 경로에 접속하여 응답(Response) 데이터 받아오기 \n",
    "target = \"https://jsonplaceholder.typicode.com/users\"\n",
    "response = requests.get(url=target)\n",
    "\n",
    "# 응답(Response) 데이터가 JSON 형식이므로 바로 파이썬 객체로 변환\n",
    "data = response.json()\n",
    "# 모든 사용자(user) 정보를 확인하며 이름 정보만 삽입\n",
    "name_list = []\n",
    "for user in data:\n",
    "    name_list.append(user['name'])\n",
    "print(name_list)"
   ]
  }
 ],
 "metadata": {
  "kernelspec": {
   "display_name": "gpu_env",
   "language": "python",
   "name": "gpu_env"
  },
  "language_info": {
   "codemirror_mode": {
    "name": "ipython",
    "version": 3
   },
   "file_extension": ".py",
   "mimetype": "text/x-python",
   "name": "python",
   "nbconvert_exporter": "python",
   "pygments_lexer": "ipython3",
   "version": "3.10.10"
  }
 },
 "nbformat": 4,
 "nbformat_minor": 2
}
